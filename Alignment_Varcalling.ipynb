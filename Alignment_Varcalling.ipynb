{
 "cells": [
  {
   "cell_type": "code",
   "execution_count": 10,
   "id": "5c16f449",
   "metadata": {},
   "outputs": [
    {
     "name": "stdout",
     "output_type": "stream",
     "text": [
      "The rpy2.ipython extension is already loaded. To reload it, use:\n",
      "  %reload_ext rpy2.ipython\n"
     ]
    }
   ],
   "source": [
    "import os\n",
    "import pandas as pd\n",
    "import numpy as np\n",
    "\n",
    "from tqdm import tqdm\n",
    "import sys\n",
    "\n",
    "sys.path.append('/private/groups/shapirolab/brock/Software')\n",
    "from py3_functions import *\n",
    "\n",
    "from IPython.display import display\n",
    "\n",
    "!mkdir -p /private/groups/shapirolab/brock/mutation\n",
    "os.chdir('/private/groups/shapirolab/brock/mutation')\n",
    "!mkdir -p cmds logs\n",
    "\n",
    "### R stuff\n",
    "from rpy2 import rinterface\n",
    "#from jupyter_helpers import rpy2_autocompletion\n",
    "%load_ext rpy2.ipython\n",
    "\n",
    "samples = []\n",
    "with open('poplists/samples.txt') as infile:\n",
    "    for line in infile:\n",
    "        line = line.strip()\n",
    "        samples.append(line)\n",
    "infile.close()\n",
    "\n",
    "chroms = []\n",
    "with open('white_abalone.fasta.fai','r') as infile:\n",
    "    for line in infile:\n",
    "        chrom, size, total, b, c = line.split('\\t')\n",
    "        if int(size) > 1e6:\n",
    "            chroms.append(chrom)\n",
    "infile.close()"
   ]
  },
  {
   "cell_type": "code",
   "execution_count": 4,
   "id": "30915b06",
   "metadata": {},
   "outputs": [],
   "source": [
    "%%R\n",
    "library(ggplot2)\n",
    "library(tidyverse)\n",
    "library(magrittr)\n",
    "library(data.table)"
   ]
  },
  {
   "cell_type": "markdown",
   "id": "96ccb1b2",
   "metadata": {},
   "source": [
    "# Deep sequencing QC"
   ]
  },
  {
   "cell_type": "markdown",
   "id": "ea92c2ad",
   "metadata": {},
   "source": [
    "## Lane-level raw QC"
   ]
  },
  {
   "cell_type": "code",
   "execution_count": 11,
   "id": "f9de81ed",
   "metadata": {},
   "outputs": [
    {
     "name": "stdout",
     "output_type": "stream",
     "text": [
      "Submitted batch job 3608044\n",
      "Submitted batch job 3608045\n",
      "Submitted batch job 3608046\n",
      "Submitted batch job 3608047\n",
      "Submitted batch job 3608048\n",
      "Submitted batch job 3608049\n",
      "Submitted batch job 3608050\n",
      "Submitted batch job 3608051\n"
     ]
    }
   ],
   "source": [
    "import glob\n",
    "R1 = glob.glob('raw/*R1*')\n",
    "R2 = glob.glob('raw/*R2*')\n",
    "fs = R1 + R2\n",
    "for ix,FILE in enumerate(fs):\n",
    "    cmd = ('''/private/groups/shapirolab/brock/Software/FastQC/fastqc {FILE} -o raw''').format(FILE = FILE)\n",
    "    slurm = make_slurm(run = True, id = f\"{ix}.fastqc\",cmd_string = cmd, mem = '5000',time='24:00:00',p = 'long')"
   ]
  },
  {
   "cell_type": "markdown",
   "id": "b1c492d7",
   "metadata": {},
   "source": [
    "Examine with multiqc report"
   ]
  },
  {
   "cell_type": "markdown",
   "id": "ec49a20e",
   "metadata": {},
   "source": [
    "## Fastp"
   ]
  },
  {
   "cell_type": "code",
   "execution_count": 10,
   "id": "80e57cb5",
   "metadata": {},
   "outputs": [
    {
     "name": "stdout",
     "output_type": "stream",
     "text": [
      "Submitted batch job 3607749\n",
      "Submitted batch job 3607750\n",
      "Submitted batch job 3607751\n",
      "Submitted batch job 3607752\n"
     ]
    }
   ],
   "source": [
    "import glob\n",
    "!mkdir -p raw/fastp/\n",
    "fs = glob.glob('raw/*R1*gz')\n",
    "for ix,R1 in enumerate(fs):\n",
    "    R2 = re.sub('R1','R2',R1)\n",
    "    OUT1 = re.sub('raw/','raw/fastp/',R1)\n",
    "    OUT2 = re.sub('raw/','raw/fastp/',R2)\n",
    "    UP1 = re.sub('.fastq.gz','_unpaired.fastq.gz',OUT1)\n",
    "    UP2 = re.sub('.fastq.gz','_unpaired.fastq.gz',OUT2)\n",
    "    cmd = f\"fastp -V --in1 {R1} --in2 {R2} --out1 {OUT1} --out2 {OUT2} --unpaired1 {UP1} --unpaired2 {UP2} \"\n",
    "    slurm = make_slurm(run = True, id = f\"{ix}.fastp\",cmd_string = cmd, mem = '25000',time='24:00:00',p = 'long')"
   ]
  },
  {
   "cell_type": "markdown",
   "id": "e29b2370",
   "metadata": {},
   "source": [
    "## Post-fastp"
   ]
  },
  {
   "cell_type": "code",
   "execution_count": 15,
   "id": "34bf7633",
   "metadata": {},
   "outputs": [],
   "source": [
    "R1 = glob.glob('data/fastp/*R1*')\n",
    "R2 = glob.glob('data/fastp/*R2*')\n",
    "fs = R1 + R2\n",
    "for ix,FILE in enumerate(fs):\n",
    "    if 'unpaired' in FILE: continue\n",
    "    cmd = ('''/private/groups/shapirolab/brock/Software/FastQC/fastqc {FILE} -o data/fastp/''').format(FILE = FILE)\n",
    "    slurm = make_slurm(id = f\"{ix}.fastqc\",cmd_string = cmd, mem = '5000',time='24:00:00',p = 'long')"
   ]
  },
  {
   "cell_type": "markdown",
   "id": "37380efb",
   "metadata": {},
   "source": [
    "## Merge fastq files"
   ]
  },
  {
   "cell_type": "code",
   "execution_count": 25,
   "id": "04e78402",
   "metadata": {
    "code_folding": [
     1
    ]
   },
   "outputs": [
    {
     "name": "stdout",
     "output_type": "stream",
     "text": [
      "Submitted batch job 3254276\n",
      "Submitted batch job 3254277\n",
      "Submitted batch job 3254278\n",
      "Submitted batch job 3254279\n",
      "Submitted batch job 3254280\n",
      "Submitted batch job 3254281\n",
      "Submitted batch job 3254282\n",
      "Submitted batch job 3254283\n",
      "Submitted batch job 3254284\n",
      "Submitted batch job 3254285\n",
      "Submitted batch job 3254286\n",
      "Submitted batch job 3254287\n",
      "Submitted batch job 3254288\n",
      "Submitted batch job 3254289\n",
      "Submitted batch job 3254290\n",
      "Submitted batch job 3254291\n",
      "Submitted batch job 3254292\n",
      "Submitted batch job 3254293\n",
      "Submitted batch job 3254294\n",
      "Submitted batch job 3254295\n",
      "Submitted batch job 3254296\n",
      "Submitted batch job 3254297\n",
      "Submitted batch job 3254298\n",
      "Submitted batch job 3254299\n",
      "Submitted batch job 3254300\n",
      "Submitted batch job 3254301\n",
      "Submitted batch job 3254302\n",
      "Submitted batch job 3254303\n"
     ]
    }
   ],
   "source": [
    "!mkdir -p data/merged\n",
    "samples_2_fastp = {}\n",
    "with open('poplists/samples_2_fastp.txt','r') as infile:\n",
    "    for line in infile:\n",
    "        line = line.strip()\n",
    "        sample,path = line.split('\\t')\n",
    "        if sample in samples_2_fastp.keys():\n",
    "            if 'R1' in path:\n",
    "                samples_2_fastp[sample]['R1'].append(path)\n",
    "            else:\n",
    "                samples_2_fastp[sample]['R2'].append(path)\n",
    "        else:\n",
    "            if 'R1' in path:\n",
    "                samples_2_fastp[sample] = {'R1':[path],'R2':[]}\n",
    "            else:\n",
    "                samples_2_fastp[sample] = {'R1':[],'R2':[path]}\n",
    "infile.close()\n",
    "for sample, fs in samples_2_fastp.items():\n",
    "    for read_set,files in samples_2_fastp[sample].items():\n",
    "        file_string = ' '.join(files)\n",
    "        merge_cmd = f\"cat {file_string} > data/merged/{sample}_{read_set}.fastq.gz\"\n",
    "        slurm = make_slurm(run = True, id=f\"{sample}_{read_set}_merge\",cmd_string = merge_cmd, mem='30000',time = '12:00:00', p = 'long')"
   ]
  },
  {
   "cell_type": "markdown",
   "id": "f1b85fb9",
   "metadata": {},
   "source": [
    "# Alignment"
   ]
  },
  {
   "cell_type": "code",
   "execution_count": null,
   "id": "d08c1fbf",
   "metadata": {},
   "outputs": [],
   "source": []
  },
  {
   "cell_type": "code",
   "execution_count": 17,
   "id": "634015bf",
   "metadata": {
    "code_folding": [
     8
    ]
   },
   "outputs": [
    {
     "name": "stdout",
     "output_type": "stream",
     "text": [
      "Submitted batch job 3609234\n",
      "Submitted batch job 3609235\n",
      "Submitted batch job 3609236\n"
     ]
    }
   ],
   "source": [
    "RAWDIR = 'raw/fastp/'\n",
    "WORKDIR = 'raw/aln'\n",
    "refgenome = 'white_abalone.fasta'\n",
    "s_lic = 'export SENTIEON_LICENSE=/private/groups/shapirolab/Software/Licenses/UCSC_Paleogenomics_Lab_Beth_Shapiro_cluster.lic;/private/groups/shapirolab/Software/Tools/sentieon-genomics-202308/bin/sentieon licsrvr --start --log /private/groups/shapirolab/brock/abalone/sentieon.log --linger 300 /private/groups/shapirolab/Software/Licenses/UCSC_Paleogenomics_Lab_Beth_Shapiro_cluster.lic;'\n",
    "s_temp = \"export SENTIEON_TMPDIR=/private/groups/shapirolab/brock/abalone/tmp/;\"\n",
    "s_exec = '/private/groups/shapirolab/Software/Tools/sentieon-genomics-202308/bin/sentieon'\n",
    "\n",
    "samples = []\n",
    "with open('poplists/samples.txt') as infile:\n",
    "    for line in infile:\n",
    "        line = line.strip()\n",
    "        samples.append(line)\n",
    "infile.close()\n",
    "\n",
    "for SAMP in ['NorbertW756','NorbertW802','Y121']:\n",
    "    # Alignment\n",
    "    R1 = [x for x in glob.glob(f\"raw/fastp/{SAMP}*R1*gz\") if 'unpaired' not in x][0]\n",
    "    R2 = [x for x in glob.glob(f\"raw/fastp/{SAMP}*R2*gz\") if 'unpaired' not in x][0]\n",
    "    aln_1 = ('''if [[ ! -f {WORKDIR}/{SAMP}.bam.bai ]];then '''\n",
    "            '''{s_lic} {s_temp}'''\n",
    "           '''({s_exec} '''\n",
    "           '''bwa mem -R \\'@RG\\\\tID:{SAMP}\\\\tSM:{SAMP}\\\\tPL:ILLUMINA\\' '''\n",
    "           '''-aM -t 16 {refgenome} {R1} {R2} '''\n",
    "           '''|| echo -n \\'error\\') | '''\n",
    "           '''{s_exec} util sort -r {refgenome} -o {WORKDIR}/{SAMP}.bam --sam2bam -i -;fi \\n\\n\\n\\n''').format(R1 = R1, R2 = R2, RAWDIR = RAWDIR, s_lic = s_lic, s_exec = s_exec, refgenome = refgenome, s_temp = s_temp, WORKDIR = WORKDIR, SAMP = SAMP)\n",
    "    \n",
    "    dups_p1 = ('''{s_lic} {s_temp}'''\n",
    "               '''{s_exec} '''\n",
    "               '''driver -i {WORKDIR}/{SAMP}.bam --algo LocusCollector --fun score_info {WORKDIR}/{SAMP}_SCORE.gz\\n'''\n",
    "               '''\\n\\n\\n''').format(s_lic = s_lic, s_exec = s_exec, refgenome = refgenome, WORKDIR = WORKDIR, SAMP = SAMP, s_temp = s_temp)\n",
    "    \n",
    "    dups_p2 = ('''echo -e \"Dups p1. completed\\\\n\\\\n\";'''\n",
    "               '''{s_exec} '''\n",
    "               '''driver -i {WORKDIR}/{SAMP}.bam --algo Dedup --score_info {WORKDIR}/{SAMP}_SCORE.gz '''\n",
    "               '''--metrics {WORKDIR}/{SAMP}.metrics.txt {WORKDIR}/{SAMP}.mdup.bam\\n'''\n",
    "               '''\\n\\n\\n''').format(s_lic = s_lic, s_exec = s_exec, refgenome = refgenome, WORKDIR = WORKDIR, s_temp = s_temp, SAMP = SAMP)\n",
    "    \n",
    "    \n",
    "    ## Min Qual, RM DUP\n",
    "    proc_cmd = ('''samtools view -q 20 -b {WORKDIR}/{SAMP}.mdup.bam | '''\n",
    "                '''samtools sort | '''\n",
    "                '''samtools rmdup - {WORKDIR}/{SAMP}.qF.bam\\n\\n\\n''').format(SAMP = SAMP, WORKDIR = WORKDIR)\n",
    "    \n",
    "    \n",
    "    ## FLAGSTAT\n",
    "    stat_cmd = ('''samtools flagstat {WORKDIR}/{SAMP}.mdup.bam > {WORKDIR}/{SAMP}.filt.stats.txt\\n'''\n",
    "                '''samtools flagstat {WORKDIR}/{SAMP}.qF.bam > {WORKDIR}/{SAMP}.filt.qF.stats.txt\\n\\n\\n''').format(WORKDIR = WORKDIR, SAMP = SAMP)\n",
    "    \n",
    "    full_cmd = aln_1 + dups_p1 + dups_p2 + proc_cmd + stat_cmd\n",
    "    #outfile = open(f\"cmds/{SAMP}.aln.sh\",'w')\n",
    "    #outfile.write('#!/bin/bash\\n')\n",
    "    #outfile.write(full_cmd)\n",
    "    #outfile.close()\n",
    "    slurm = make_slurm(run = True, id = f\"{SAMP}.aln\", cmd_string = full_cmd, mem = '120000', time = '48:00:00', p = 'long',c=16)"
   ]
  },
  {
   "cell_type": "code",
   "execution_count": 29,
   "id": "58865d9f-9814-4ea4-beaa-bda61a5c667b",
   "metadata": {},
   "outputs": [],
   "source": [
    "%%R\n",
    "fs = list.files('aln/','metrics.txt', full.names = T)\n",
    "dfs = lapply(fs, function(PATH){fread(PATH,skip = 1, nrows = 2) %>% mutate(sample = basename(PATH) %>% gsub('.metrics.txt','',.))})\n",
    "reports = bind_rows(dfs)\n",
    "reports %>% dplyr::select(!LIBRARY) %>% relocate(sample) %>%\n",
    "fwrite('post_QC_alignment_sample_level_report.csv')"
   ]
  },
  {
   "cell_type": "markdown",
   "id": "af2097a3-214f-4f6c-b522-950494876119",
   "metadata": {},
   "source": [
    "## Merge new runs with old"
   ]
  },
  {
   "cell_type": "code",
   "execution_count": 20,
   "id": "d5aa5317-7ae8-4889-88f6-3f1acf274484",
   "metadata": {},
   "outputs": [
    {
     "name": "stdout",
     "output_type": "stream",
     "text": [
      "Submitted batch job 3614785\n",
      "Submitted batch job 3614786\n",
      "Submitted batch job 3614787\n"
     ]
    }
   ],
   "source": [
    "for SAMP in ['NorbertW756','NorbertW802','Y121']:\n",
    "    oldbam = f\"aln/{SAMP}.mdup.bam\"\n",
    "    newbam = f\"raw/aln/{SAMP}.mdup.bam\"\n",
    "    cmd = f\"sambamba merge -t 32 aln/{SAMP}.combined.mdup.bam {oldbam} {newbam}\"\n",
    "    slurm = make_slurm(run = True, c = 32, p = 'long', id = f\"{SAMP}.merge\", cmd_string = cmd, mem = '60000', time = '24:00:00')"
   ]
  },
  {
   "cell_type": "markdown",
   "id": "203c7505",
   "metadata": {},
   "source": [
    "# Variant calling"
   ]
  },
  {
   "cell_type": "markdown",
   "id": "fdadd00c",
   "metadata": {},
   "source": [
    "## Haplotype caller"
   ]
  },
  {
   "cell_type": "code",
   "execution_count": 22,
   "id": "709bc2f5",
   "metadata": {},
   "outputs": [
    {
     "name": "stdout",
     "output_type": "stream",
     "text": [
      "Submitted batch job 3614861\n",
      "Submitted batch job 3614862\n",
      "Submitted batch job 3614863\n"
     ]
    }
   ],
   "source": [
    "### PATHS ###\n",
    "refgenome = 'white_abalone.fasta'\n",
    "s_lic = 'export SENTIEON_LICENSE=/private/groups/shapirolab/Software/Licenses/UCSC_Paleogenomics_Lab_Beth_Shapiro_cluster.lic;/private/groups/shapirolab/Software/Tools/sentieon-genomics-202308/bin/sentieon licsrvr --start --log /private/groups/shapirolab/brock/abalone/sentieon.log --linger 300 /private/groups/shapirolab/Software/Licenses/UCSC_Paleogenomics_Lab_Beth_Shapiro_cluster.lic;'\n",
    "s_temp = \"export SENTIEON_TMPDIR=/private/groups/shapirolab/brock/abalone/tmp/;\"\n",
    "s_exec = '/private/groups/shapirolab/Software/Tools/sentieon-genomics-202308/bin/sentieon'\n",
    "\n",
    "!mkdir -p gvcfs\n",
    "\n",
    "samples = []\n",
    "with open('poplists/samples.txt') as infile:\n",
    "    for line in infile:\n",
    "        line = line.strip()\n",
    "        samples.append(line)\n",
    "infile.close()\n",
    "\n",
    "### GENERATE CMDS ###\n",
    "#for sample, data in complete.items():\n",
    "for sample in ['NorbertW756','NorbertW802','Y121']:\n",
    "    bam = f\"aln/{sample}.combined.mdup.bam\"\n",
    "    if not os.path.exists(bam + \".bai\"): continue\n",
    "    ##\n",
    "    haplo_cmd = ('''{s_lic} {s_temp}'''\n",
    "                 '''{s_exec} '''\n",
    "                 '''driver -t 32 -r {refgenome} -i {bam} '''\n",
    "                 '''--algo Haplotyper --emit_mode gvcf '''\n",
    "                 '''gvcfs/{sample}.gvcf.gz\\n''').format(bam = bam, sample = sample, refgenome = refgenome, s_lic = s_lic, s_temp = s_temp, s_exec = s_exec)\n",
    "    make_slurm(run = True, id = f\"{sample}.hapcal\",cmd_string = haplo_cmd, mem = '100000',c = 32, p = 'long', time = '12:00:00')"
   ]
  },
  {
   "cell_type": "markdown",
   "id": "6d0e8e70",
   "metadata": {},
   "source": [
    "## Joint genotyping"
   ]
  },
  {
   "cell_type": "code",
   "execution_count": 24,
   "id": "cd9dda19",
   "metadata": {},
   "outputs": [
    {
     "name": "stdout",
     "output_type": "stream",
     "text": [
      "Submitted batch job 3621550\n",
      "Submitted batch job 3621551\n",
      "Submitted batch job 3621552\n",
      "Submitted batch job 3621553\n",
      "Submitted batch job 3621554\n",
      "Submitted batch job 3621555\n",
      "Submitted batch job 3621556\n",
      "Submitted batch job 3621557\n",
      "Submitted batch job 3621558\n",
      "Submitted batch job 3621559\n",
      "Submitted batch job 3621560\n",
      "Submitted batch job 3621561\n",
      "Submitted batch job 3621562\n",
      "Submitted batch job 3621563\n",
      "Submitted batch job 3621564\n",
      "Submitted batch job 3621565\n",
      "Submitted batch job 3621566\n",
      "Submitted batch job 3621567\n"
     ]
    }
   ],
   "source": [
    "### PATHS ###\n",
    "brockdir = \"/private/groups/shapirolab/brock\"\n",
    "refgenome = 'white_abalone.fasta'\n",
    "s_lic = 'export SENTIEON_LICENSE=/private/groups/shapirolab/Software/Licenses/UCSC_Paleogenomics_Lab_Beth_Shapiro_cluster.lic;/private/groups/shapirolab/Software/Tools/sentieon-genomics-202308/bin/sentieon licsrvr --start --log /private/groups/shapirolab/brock/abalone/sentieon.log --linger 300 /private/groups/shapirolab/Software/Licenses/UCSC_Paleogenomics_Lab_Beth_Shapiro_cluster.lic;'\n",
    "s_temp = \"export SENTIEON_TMPDIR=/private/groups/shapirolab/brock/abalone/tmp/;\"\n",
    "s_exec = '/private/groups/shapirolab/Software/Tools/sentieon-genomics-202308/bin/sentieon'\n",
    "\n",
    "!mkdir -p vcfs\n",
    "\n",
    "gvcf_string = ''\n",
    "infile = open('poplists/samples.txt','r')\n",
    "for line in infile:\n",
    "    line = line.strip('\\n')\n",
    "    sample = line.split('\\t')[0]\n",
    "    gvcf_string += f\"-v gvcfs/{sample}.gvcf.gz \"\n",
    "infile.close()\n",
    "\n",
    "chroms = []\n",
    "with open('white_abalone.fasta.fai','r') as infile:\n",
    "    for line in infile:\n",
    "        chrom, size, total, b, c = line.split('\\t')\n",
    "        if int(size) > 1e6:\n",
    "            chroms.append(chrom)\n",
    "infile.close()\n",
    "\n",
    "\n",
    "!mkdir -p vcfs\n",
    "for CHROM in chroms:\n",
    "    joint_cmd = ('''{s_lic} {s_temp}'''\n",
    "                 '''{s_exec} '''\n",
    "                 '''driver -t 8 -r {refgenome} --interval {CHROM} --algo GVCFtyper '''\n",
    "                 '''{gvcf_string} '''\n",
    "                 '''--emit_mode ALL '''\n",
    "                 '''vcfs/{CHROM}.allsites.anno.vcf.gz\\n''').format(CHROM = CHROM, s_temp = s_temp, s_lic = s_lic, s_exec = s_exec, refgenome = refgenome, gvcf_string = gvcf_string)\n",
    "    slurm = make_slurm(run = True, id = f\"{CHROM}.joint\",p = 'long', cmd_string =  joint_cmd, mem = '40000',time='04:00:00', c=8)"
   ]
  },
  {
   "cell_type": "markdown",
   "id": "f9b270d3",
   "metadata": {},
   "source": [
    "## Filter"
   ]
  },
  {
   "cell_type": "code",
   "execution_count": null,
   "id": "2079bb02-9ba8-4fc4-b9ce-53526d68548d",
   "metadata": {},
   "outputs": [],
   "source": [
    "for CHROM in chroms:\n",
    "    cmd = ('''singularity exec --bind /private/groups/shapirolab/brock/mutation/ /private/groups/shapirolab/brock/Software/gatk.sif '''\n",
    "           '''gatk VariantFiltration '''\n",
    "           '''-R white_abalone.fasta '''\n",
    "           '''-V vcfs/{CHROM}.allsites.anno.vcf.gz '''\n",
    "           '''--output vcfs/{CHROM}.filtered.vcf.gz '''\n",
    "           '''--filter-name \\\"RPRS_filter\\\" --filter-expression \\\"(vc.isSNP() && (vc.hasAttribute('ReadPosRankSum') && ReadPosRankSum < -8.0)) || ((vc.isIndel() || vc.isMixed()) && (vc.hasAttribute('ReadPosRankSum') && ReadPosRankSum < -20.0)) || (vc.hasAttribute('QD') && QD < 2.0)\\\" '''\n",
    "           '''--filter-name \\\"FS_SOR_filter\\\" --filter-expression \\\"(vc.isSNP() && ((vc.hasAttribute('FS') && FS > 60.0) || (vc.hasAttribute('SOR') &&  SOR > 3.0))) || ((vc.isIndel() || vc.isMixed()) && ((vc.hasAttribute('FS') && FS > 200.0) || (vc.hasAttribute('SOR') &&  SOR > 10.0)))\\\" '''\n",
    "           '''--filter-name \\\"MQ_filter\\\" --filter-expression \\\"vc.isSNP() && ((vc.hasAttribute('MQ') && MQ < 40.0) || (vc.hasAttribute('MQRankSum') && MQRankSum < -12.5))\\\" '''\n",
    "           '''--filter-name \\\"QUAL_filter\\\" --filter-expression \\\"QUAL < 30.0\\\" '''\n",
    "           '''--invalidate-previous-filters true && tabix -f vcfs/{CHROM}.filtered.vcf.gz\\n''').format(CHROM = CHROM)\n",
    "    slurm = make_slurm(run = True, id = f\"{CHROM}.filter\",cmd_string = cmd, mem = '20000',time='12:00:00',p = 'long')"
   ]
  },
  {
   "cell_type": "markdown",
   "id": "ac26db04-9d03-45af-8f42-010b59081fe6",
   "metadata": {},
   "source": [
    "Biallelic SNPs only"
   ]
  },
  {
   "cell_type": "code",
   "execution_count": 33,
   "id": "f0213c53-eb3b-48a3-8e3d-cb8d773c3686",
   "metadata": {},
   "outputs": [
    {
     "name": "stdout",
     "output_type": "stream",
     "text": [
      "Submitted batch job 3622927\n",
      "Submitted batch job 3622928\n",
      "Submitted batch job 3622929\n",
      "Submitted batch job 3622930\n",
      "Submitted batch job 3622931\n",
      "Submitted batch job 3622932\n",
      "Submitted batch job 3622933\n",
      "Submitted batch job 3622934\n",
      "Submitted batch job 3622935\n",
      "Submitted batch job 3622936\n",
      "Submitted batch job 3622937\n",
      "Submitted batch job 3622938\n",
      "Submitted batch job 3622939\n",
      "Submitted batch job 3622940\n",
      "Submitted batch job 3622941\n",
      "Submitted batch job 3622942\n",
      "Submitted batch job 3622943\n",
      "Submitted batch job 3622944\n"
     ]
    }
   ],
   "source": [
    "for CHROM in chroms:\n",
    "    cmd = ('''bcftools view -f .,PASS --min-ac 1:minor -M2 -m2 -v snps -O z -o vcfs/{CHROM}.biallelic.vcf.gz vcfs/{CHROM}.filtered.vcf.gz && tabix -f vcfs/{CHROM}.biallelic.vcf.gz''').format(CHROM = CHROM)\n",
    "    slurm = make_slurm(run = True, id = f\"{CHROM}.f2\",cmd_string = cmd, mem = '2000',time='02:00:00',p = 'long')"
   ]
  },
  {
   "cell_type": "markdown",
   "id": "63c9c66e-fe04-44ac-b993-52ceb180601c",
   "metadata": {},
   "source": [
    " Concatenate"
   ]
  },
  {
   "cell_type": "code",
   "execution_count": 34,
   "id": "c80a067a-1624-4daf-9566-be23fc004e80",
   "metadata": {},
   "outputs": [
    {
     "name": "stdout",
     "output_type": "stream",
     "text": [
      "Checking the headers and starting positions of 18 files\n",
      "Concatenating vcfs/HiC_scaffold_1.biallelic.vcf.gz\t7.345652 seconds\n",
      "Concatenating vcfs/HiC_scaffold_2.biallelic.vcf.gz\t7.339956 seconds\n",
      "Concatenating vcfs/HiC_scaffold_3.biallelic.vcf.gz\t8.163727 seconds\n",
      "Concatenating vcfs/HiC_scaffold_4.biallelic.vcf.gz\t5.724639 seconds\n",
      "Concatenating vcfs/HiC_scaffold_5.biallelic.vcf.gz\t7.950954 seconds\n",
      "Concatenating vcfs/HiC_scaffold_6.biallelic.vcf.gz\t8.541173 seconds\n",
      "Concatenating vcfs/HiC_scaffold_7.biallelic.vcf.gz\t12.376075 seconds\n",
      "Concatenating vcfs/HiC_scaffold_8.biallelic.vcf.gz\t5.467320 seconds\n",
      "Concatenating vcfs/HiC_scaffold_9.biallelic.vcf.gz\t6.620409 seconds\n",
      "Concatenating vcfs/HiC_scaffold_10.biallelic.vcf.gz\t6.651716 seconds\n",
      "Concatenating vcfs/HiC_scaffold_11.biallelic.vcf.gz\t6.750209 seconds\n",
      "Concatenating vcfs/HiC_scaffold_12.biallelic.vcf.gz\t13.368748 seconds\n",
      "Concatenating vcfs/HiC_scaffold_13.biallelic.vcf.gz\t6.676979 seconds\n",
      "Concatenating vcfs/HiC_scaffold_14.biallelic.vcf.gz\t5.853977 seconds\n",
      "Concatenating vcfs/HiC_scaffold_15.biallelic.vcf.gz\t5.405591 seconds\n",
      "Concatenating vcfs/HiC_scaffold_16.biallelic.vcf.gz\t6.649073 seconds\n",
      "Concatenating vcfs/HiC_scaffold_17.biallelic.vcf.gz\t6.831019 seconds\n",
      "Concatenating vcfs/HiC_scaffold_18.biallelic.vcf.gz\t10.344556 seconds\n"
     ]
    }
   ],
   "source": [
    "catcmd = 'bcftools concat -O z -o vcfs/biallelic.vcf.gz '\n",
    "for CHROM in chroms:\n",
    "    catcmd += f\"vcfs/{CHROM}.biallelic.vcf.gz \"\n",
    "!$catcmd"
   ]
  },
  {
   "cell_type": "markdown",
   "id": "ce7a8107-762e-4fcb-918d-e54da603a890",
   "metadata": {},
   "source": [
    "# Bcftools version"
   ]
  },
  {
   "cell_type": "code",
   "execution_count": 30,
   "id": "3d096db8-669e-493e-9ade-4c5575a17e1c",
   "metadata": {},
   "outputs": [
    {
     "name": "stdout",
     "output_type": "stream",
     "text": [
      "Submitted batch job 3621622\n",
      "Submitted batch job 3621623\n",
      "Submitted batch job 3621624\n",
      "Submitted batch job 3621625\n",
      "Submitted batch job 3621626\n",
      "Submitted batch job 3621627\n",
      "Submitted batch job 3621628\n",
      "Submitted batch job 3621629\n",
      "Submitted batch job 3621630\n",
      "Submitted batch job 3621631\n",
      "Submitted batch job 3621632\n",
      "Submitted batch job 3621633\n",
      "Submitted batch job 3621634\n",
      "Submitted batch job 3621635\n",
      "Submitted batch job 3621636\n",
      "Submitted batch job 3621637\n",
      "Submitted batch job 3621638\n",
      "Submitted batch job 3621639\n"
     ]
    }
   ],
   "source": [
    "brockdir = \"/private/groups/shapirolab/brock\"\n",
    "refgenome = 'white_abalone.fasta'\n",
    "\n",
    "!mkdir -p vcfs\n",
    "\n",
    "bam_string = ''\n",
    "infile = open('poplists/samples.txt','r')\n",
    "for line in infile:\n",
    "    line = line.strip('\\n')\n",
    "    sample = line.split('\\t')[0]\n",
    "    if sample in ['NorbertW756','NorbertW802','Y121']:\n",
    "        bam_string += f\"aln/{sample}.combined.mdup.bam \"\n",
    "    else:\n",
    "        bam_string += f\"aln/{sample}.mdup.bam \"\n",
    "infile.close()\n",
    "\n",
    "chroms = []\n",
    "with open('white_abalone.fasta.fai','r') as infile:\n",
    "    for line in infile:\n",
    "        chrom, size, total, b, c = line.split('\\t')\n",
    "        if int(size) > 1e6:\n",
    "            chroms.append(chrom)\n",
    "infile.close()\n",
    "\n",
    "!mkdir -p bcftools\n",
    "for CHROM in chroms:\n",
    "    cmd = ('''bcftools mpileup --annotate FORMAT/AD,FORMAT/ADF,FORMAT/ADR,FORMAT/DP,FORMAT/SP,INFO/AD,INFO/ADF,INFO/ADR --min-MQ 20 --min-BQ 20 --max-depth 500 -Ou -r {CHROM} -f {refgenome} --threads 16 {bam_string}| '''\n",
    "           '''bcftools call --threads 16 -m --ploidy 2 -Oz -o bcftools/{CHROM}.allsites.vcf.gz && tabix -f bcftools/{CHROM}.allsites.vcf.gz\\n''').format(CHROM = CHROM, refgenome = refgenome, bam_string = bam_string)\n",
    "    slurm = make_slurm(run = True, id = f\"{CHROM}.bcftools\", cmd_string = cmd, mem = '80000', time = '48:00:00', c = '16', p = 'long')\n"
   ]
  },
  {
   "cell_type": "markdown",
   "id": "51af1845-b460-42db-9849-ac2b5cd9c0a9",
   "metadata": {},
   "source": [
    "## Filter these as well"
   ]
  },
  {
   "cell_type": "code",
   "execution_count": 31,
   "id": "a8313ad9-9416-4243-85f1-0dae3a49f43e",
   "metadata": {},
   "outputs": [
    {
     "name": "stdout",
     "output_type": "stream",
     "text": [
      "Submitted batch job 3622909\n",
      "Submitted batch job 3622910\n",
      "Submitted batch job 3622911\n",
      "Submitted batch job 3622912\n",
      "Submitted batch job 3622913\n",
      "Submitted batch job 3622914\n",
      "Submitted batch job 3622915\n",
      "Submitted batch job 3622916\n",
      "Submitted batch job 3622917\n",
      "Submitted batch job 3622918\n",
      "Submitted batch job 3622919\n",
      "Submitted batch job 3622920\n",
      "Submitted batch job 3622921\n",
      "Submitted batch job 3622922\n",
      "Submitted batch job 3622923\n",
      "Submitted batch job 3622924\n",
      "Submitted batch job 3622925\n",
      "Submitted batch job 3622926\n"
     ]
    }
   ],
   "source": [
    "chroms = []\n",
    "with open('white_abalone.fasta.fai','r') as infile:\n",
    "    for line in infile:\n",
    "        chrom, size, total, b, c = line.split('\\t')\n",
    "        if int(size) > 1e6:\n",
    "            chroms.append(chrom)\n",
    "infile.close()\n",
    "\n",
    "for CHROM in chroms:\n",
    "    cmd = ('''singularity exec --bind /private/groups/shapirolab/brock/mutation/ /private/groups/shapirolab/brock/Software/gatk.sif '''\n",
    "           '''gatk VariantFiltration '''\n",
    "           '''-R white_abalone.fasta '''\n",
    "           '''-V bcftools/{CHROM}.allsites.vcf.gz '''\n",
    "           '''--output bcftools/{CHROM}.filtered.vcf.gz '''\n",
    "           '''--filter-name \\\"FS_SOR_filter\\\" --filter-expression \\\"(vc.isSNP() && ((vc.hasAttribute('FS') && FS > 60.0) || (vc.hasAttribute('SOR') &&  SOR > 3.0))) || ((vc.isIndel() || vc.isMixed()) && ((vc.hasAttribute('FS') && FS > 200.0) || (vc.hasAttribute('SOR') &&  SOR > 10.0)))\\\" '''\n",
    "           #'''--filter-name \\\"FS_SOR_filter\\\" --filter-expression \\\"((vc.isSNP() && (vc.hasAttribute('FS') && FS > 60.0)) || ((vc.isIndel() || vc.isMixed()) && (vc.hasAttribute('FS') && FS > 200.0))\\\" '''\n",
    "           '''--filter-name \\\"MQ_filter\\\" --filter-expression \\\"vc.isSNP() && ((vc.hasAttribute('MQ') && MQ < 40.0))\\\" '''\n",
    "           '''--filter-name \\\"QUAL_filter\\\" --filter-expression \\\"QUAL < 30.0\\\" '''\n",
    "           '''--invalidate-previous-filters true && tabix -f bcftools/{CHROM}.filtered.vcf.gz\\n''').format(CHROM = CHROM)\n",
    "    slurm = make_slurm(run = True, id = f\"{CHROM}.filter\",cmd_string = cmd, mem = '20000',time='12:00:00',p = 'long')"
   ]
  },
  {
   "cell_type": "markdown",
   "id": "a4714601",
   "metadata": {},
   "source": [
    "Biallelic SNPs only"
   ]
  },
  {
   "cell_type": "code",
   "execution_count": 35,
   "id": "f7d72975",
   "metadata": {},
   "outputs": [
    {
     "name": "stdout",
     "output_type": "stream",
     "text": [
      "Submitted batch job 3622973\n",
      "Submitted batch job 3622974\n",
      "Submitted batch job 3622975\n",
      "Submitted batch job 3622976\n",
      "Submitted batch job 3622977\n",
      "Submitted batch job 3622978\n",
      "Submitted batch job 3622979\n",
      "Submitted batch job 3622980\n",
      "Submitted batch job 3622981\n",
      "Submitted batch job 3622982\n",
      "Submitted batch job 3622983\n",
      "Submitted batch job 3622984\n",
      "Submitted batch job 3622985\n",
      "Submitted batch job 3622986\n",
      "Submitted batch job 3622987\n",
      "Submitted batch job 3622988\n",
      "Submitted batch job 3622989\n",
      "Submitted batch job 3622990\n"
     ]
    }
   ],
   "source": [
    "for CHROM in chroms:\n",
    "    cmd = ('''bcftools view -f .,PASS --min-ac 1:minor -M2 -m2 -O z -o bcftools/{CHROM}.biallelic.vcf.gz bcftools/{CHROM}.filtered.vcf.gz && tabix -f bcftools/{CHROM}.biallelic.vcf.gz\\n''').format(CHROM = CHROM)\n",
    "    slurm = make_slurm(run = True, id = f\"{CHROM}.f2\",cmd_string = cmd, mem = '2000',time='02:00:00',p = 'long')"
   ]
  },
  {
   "cell_type": "code",
   "execution_count": 37,
   "id": "953e5ba3-a51f-452b-b7e9-8c6e3c3b8d26",
   "metadata": {},
   "outputs": [
    {
     "name": "stdout",
     "output_type": "stream",
     "text": [
      "Checking the headers and starting positions of 18 files\n",
      "Concatenating bcftools/HiC_scaffold_1.biallelic.vcf.gz\t16.706196 seconds\n",
      "Concatenating bcftools/HiC_scaffold_2.biallelic.vcf.gz\t16.190239 seconds\n",
      "Concatenating bcftools/HiC_scaffold_3.biallelic.vcf.gz\t17.613143 seconds\n",
      "Concatenating bcftools/HiC_scaffold_4.biallelic.vcf.gz\t12.951040 seconds\n",
      "Concatenating bcftools/HiC_scaffold_5.biallelic.vcf.gz\t17.032409 seconds\n",
      "Concatenating bcftools/HiC_scaffold_6.biallelic.vcf.gz\t18.366842 seconds\n",
      "Concatenating bcftools/HiC_scaffold_7.biallelic.vcf.gz\t25.466396 seconds\n",
      "Concatenating bcftools/HiC_scaffold_8.biallelic.vcf.gz\t12.220690 seconds\n",
      "Concatenating bcftools/HiC_scaffold_9.biallelic.vcf.gz\t14.557024 seconds\n",
      "Concatenating bcftools/HiC_scaffold_10.biallelic.vcf.gz\t14.752338 seconds\n",
      "Concatenating bcftools/HiC_scaffold_11.biallelic.vcf.gz\t14.589281 seconds\n",
      "Concatenating bcftools/HiC_scaffold_12.biallelic.vcf.gz\t28.271542 seconds\n",
      "Concatenating bcftools/HiC_scaffold_13.biallelic.vcf.gz\t14.628276 seconds\n",
      "Concatenating bcftools/HiC_scaffold_14.biallelic.vcf.gz\t12.686858 seconds\n",
      "Concatenating bcftools/HiC_scaffold_15.biallelic.vcf.gz\t12.112013 seconds\n",
      "Concatenating bcftools/HiC_scaffold_16.biallelic.vcf.gz\t14.332376 seconds\n",
      "Concatenating bcftools/HiC_scaffold_17.biallelic.vcf.gz\t15.342527 seconds\n",
      "Concatenating bcftools/HiC_scaffold_18.biallelic.vcf.gz\t22.395467 seconds\n"
     ]
    }
   ],
   "source": [
    "catcmd = 'bcftools concat -O z -o bcftools/biallelic.vcf.gz '\n",
    "for CHROM in chroms:\n",
    "    catcmd += f\"bcftools/{CHROM}.biallelic.vcf.gz \"\n",
    "!$catcmd"
   ]
  },
  {
   "cell_type": "markdown",
   "id": "52486e7c",
   "metadata": {},
   "source": [
    "# Kinship matrix"
   ]
  },
  {
   "cell_type": "code",
   "execution_count": 107,
   "id": "6ab572b9",
   "metadata": {},
   "outputs": [
    {
     "name": "stdout",
     "output_type": "stream",
     "text": [
      "plink2 --vcf vcfs/biallelic.vcf.gz --make-king square --allow-extra-chr --out white_ab_kin\n"
     ]
    }
   ],
   "source": [
    "## plink2 already in bin\n",
    "cmd = 'plink2 --vcf vcfs/biallelic.vcf.gz --make-king square --allow-extra-chr --out white_ab_kin'\n",
    "print(cmd)"
   ]
  },
  {
   "cell_type": "code",
   "execution_count": 5,
   "id": "9bdbc8d4",
   "metadata": {},
   "outputs": [
    {
     "name": "stdout",
     "output_type": "stream",
     "text": [
      "# A tibble: 6 × 4\n",
      "# Groups:   pair [6]\n",
      "  sample name     value pair           \n",
      "  <chr>  <chr>    <dbl> <chr>          \n",
      "1 BML309 BML309   0.5   BML309,BML309  \n",
      "2 BML309 BML397   0.217 BML309,BML397  \n",
      "3 BML309 FG29     0.126 BML309,FG29    \n",
      "4 BML309 FG30     0.112 BML309,FG30    \n",
      "5 BML309 FG33     0.129 BML309,FG33    \n",
      "6 BML309 Green312 0.113 BML309,Green312\n"
     ]
    }
   ],
   "source": [
    "%%R\n",
    "ids = fread('white_ab_kin.king.id')[,1] %>% pull(1)\n",
    "r = fread('white_ab_kin.king')\n",
    "ord <- hclust( dist(r, method = \"euclidean\"), method = \"ward.D\" )$order\n",
    "ord = ids[ord]\n",
    "r %<>% \n",
    "    set_colnames(c(ids)) %>%\n",
    "    mutate(sample = ids) %>%\n",
    "    pivot_longer(-c(sample)) %>%\n",
    "    rowwise() %>%\n",
    "    mutate(pair = sort(c(sample, name)) %>% paste(collapse = \",\")) %>%\n",
    "    group_by(pair) %>%\n",
    "    distinct(pair, .keep_all = T)\n",
    "head(r)"
   ]
  },
  {
   "cell_type": "code",
   "execution_count": 7,
   "id": "0c3bfaf5",
   "metadata": {},
   "outputs": [
    {
     "data": {
      "image/png": "[encoded data removed]",
      "text/plain": [
       "<IPython.core.display.Image object>"
      ]
     },
     "metadata": {},
     "output_type": "display_data"
    }
   ],
   "source": [
    "%%R -w 800 -h 600\n",
    "ids = fread('white_ab_kin.king.id')[,1] %>% pull(1)\n",
    "r = fread('white_ab_kin.king')\n",
    "ord <- hclust( dist(r, method = \"euclidean\"), method = \"ward.D\" )$order\n",
    "ord = ids[ord]\n",
    "r %<>% \n",
    "    set_colnames(c(ids)) %>%\n",
    "    mutate(sample = ids) %>%\n",
    "    pivot_longer(-c(sample)) #%>%\n",
    "    #rowwise() %>%\n",
    "    #mutate(pair = sort(c(sample, name)) %>% paste(collapse = \",\")) %>%\n",
    "    #group_by(pair) %>%\n",
    "    #distinct(pair, .keep_all = T)\n",
    "r$sample = factor(r$sample, levels = ord)\n",
    "r$name = factor(r$name, levels = ord)\n",
    "\n",
    "library(scico)\n",
    "p = ggplot(r) +\n",
    "    geom_raster(aes(x = sample, y = name, fill = value)) +\n",
    "    geom_text(aes(x = sample, y = name, label = round(value,3))) +\n",
    "    scico::scale_fill_scico(palette = \"bilbao\", direction = -1) +\n",
    "\n",
    "    theme(axis.text.x = element_text(angle = 90), legend.position = 'none')\n",
    "\n",
    "print(p)\n",
    "ggsave('./mutation_figs/kinship.pdf', width = 6, height = 6)"
   ]
  },
  {
   "cell_type": "code",
   "execution_count": 112,
   "id": "37e8580a",
   "metadata": {},
   "outputs": [
    {
     "name": "stdout",
     "output_type": "stream",
     "text": [
      "# A tibble: 14 × 3\n",
      "   sample name          value\n",
      "   <fct>  <fct>         <dbl>\n",
      " 1 BML309 BML309        0.5  \n",
      " 2 BML309 NorbertW853   0.306\n",
      " 3 BML309 NorbertW740   0.303\n",
      " 4 BML309 NorbertW756   0.239\n",
      " 5 BML309 BML397        0.217\n",
      " 6 BML309 NorbertW802   0.205\n",
      " 7 BML309 ToothlessL960 0.166\n",
      " 8 BML309 ToothlessL824 0.155\n",
      " 9 BML309 Y119          0.133\n",
      "10 BML309 FG33          0.129\n",
      "11 BML309 FG29          0.126\n",
      "12 BML309 Green312      0.113\n",
      "13 BML309 FG30          0.112\n",
      "14 BML309 Y121          0.109\n"
     ]
    }
   ],
   "source": [
    "%%R\n",
    "r %>% filter(sample == 'BML309') %>% arrange(desc(value))"
   ]
  },
  {
   "cell_type": "code",
   "execution_count": 8,
   "id": "b121d943",
   "metadata": {},
   "outputs": [
    {
     "name": "stderr",
     "output_type": "stream",
     "text": [
      "R[write to console]: |--------------------------------------------------|\n",
      "|\n",
      "R[write to console]: ==\n",
      "R[write to console]: =\n",
      "R[write to console]: ==\n",
      "R[write to console]: =\n",
      "R[write to console]: =\n",
      "R[write to console]: ==\n",
      "R[write to console]: =\n",
      "R[write to console]: =\n",
      "R[write to console]: ==\n",
      "R[write to console]: =\n",
      "R[write to console]: =\n",
      "R[write to console]: ==\n",
      "R[write to console]: =\n",
      "R[write to console]: =\n",
      "R[write to console]: ==\n",
      "R[write to console]: =\n",
      "R[write to console]: =\n",
      "R[write to console]: ==\n",
      "R[write to console]: =\n",
      "R[write to console]: =\n",
      "R[write to console]: =\n",
      "R[write to console]: ==\n",
      "R[write to console]: =\n",
      "R[write to console]: =\n",
      "R[write to console]: ==\n",
      "R[write to console]: =\n",
      "R[write to console]: =\n",
      "R[write to console]: ==\n",
      "R[write to console]: =\n",
      "R[write to console]: =\n",
      "R[write to console]: ==\n",
      "R[write to console]: =\n",
      "R[write to console]: =\n",
      "R[write to console]: ==\n",
      "R[write to console]: =\n",
      "R[write to console]: =\n",
      "R[write to console]: ==\n",
      "R[write to console]: |\n",
      "\n"
     ]
    }
   ],
   "source": [
    "%%R\n",
    "r = fread('depth/BML309_bad_sites.txt')"
   ]
  },
  {
   "cell_type": "code",
   "execution_count": null,
   "id": "c31c0e4f",
   "metadata": {},
   "outputs": [],
   "source": [
    "%%R -w 1200 -h 400\n",
    "ggplot(r %>% filter(V1 == 'HiC_scaffold_18')) +\n",
    "    geom_bar(aes(x=V2,y=V3),stat='identity') +\n",
    "    coord_cartesian(ylim=c(0,19))"
   ]
  },
  {
   "cell_type": "code",
   "execution_count": null,
   "id": "4d986000",
   "metadata": {},
   "outputs": [],
   "source": [
    "%%R -w 1200 -h 400\n",
    "ggplot(r %>% filter(V1 == 'HiC_scaffold_1')) +\n",
    "    geom_bar(aes(x=V2,y=V3),stat='identity') +\n",
    "    coord_cartesian(ylim=c(0,19))"
   ]
  }
 ],
 "metadata": {
  "kernelspec": {
   "display_name": "doom",
   "language": "python",
   "name": "doom"
  },
  "language_info": {
   "codemirror_mode": {
    "name": "ipython",
    "version": 3
   },
   "file_extension": ".py",
   "mimetype": "text/x-python",
   "name": "python",
   "nbconvert_exporter": "python",
   "pygments_lexer": "ipython3",
   "version": "3.12.3"
  },
  "toc": {
   "base_numbering": 1,
   "nav_menu": {},
   "number_sections": true,
   "sideBar": true,
   "skip_h1_title": false,
   "title_cell": "Table of Contents",
   "title_sidebar": "Contents",
   "toc_cell": false,
   "toc_position": {
    "height": "calc(100% - 180px)",
    "left": "10px",
    "top": "150px",
    "width": "355.391px"
   },
   "toc_section_display": true,
   "toc_window_display": true
  }
 },
 "nbformat": 4,
 "nbformat_minor": 5
}
