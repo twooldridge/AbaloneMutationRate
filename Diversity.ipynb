{
 "cells": [
  {
   "cell_type": "markdown",
   "id": "06e87cb2-f19c-4378-8001-caa0c6385052",
   "metadata": {},
   "source": [
    "Setup"
   ]
  },
  {
   "cell_type": "code",
   "execution_count": 1,
   "id": "fa59060f-9f62-481a-adc4-2c5df91d6969",
   "metadata": {},
   "outputs": [],
   "source": [
    "import os\n",
    "import pandas as pd\n",
    "import numpy as np\n",
    "#import matplotlib.pyplot as plt\n",
    "#import matplotlib\n",
    "#from matplotlib.backends.backend_pdf import PdfPages\n",
    "#import seaborn as sns\n",
    "#import statsmodels.api as sm\n",
    "\n",
    "#lowess = sm.nonparametric.lowess\n",
    "from tqdm import tqdm\n",
    "import sys\n",
    "\n",
    "sys.path.append('/private/groups/shapirolab/brock/Software')\n",
    "from py3_functions import *\n",
    "\n",
    "from IPython.display import display\n",
    "\n",
    "!mkdir -p /private/groups/shapirolab/brock/mutation\n",
    "os.chdir('/private/groups/shapirolab/brock/mutation')\n",
    "!mkdir -p cmds logs\n",
    "\n",
    "### R stuff\n",
    "from rpy2 import rinterface\n",
    "#from jupyter_helpers import rpy2_autocompletion\n",
    "%load_ext rpy2.ipython\n",
    "\n",
    "samples = []\n",
    "with open('poplists/samples.txt') as infile:\n",
    "    for line in infile:\n",
    "        line = line.strip()\n",
    "        samples.append(line)\n",
    "infile.close()\n",
    "\n",
    "wild = {}\n",
    "\n",
    "!mkdir -p wild\n",
    "with open('poplists/wild_caught_SRA.txt','r') as infile:\n",
    "    for line in infile:\n",
    "        line = line.strip()\n",
    "        SRR, name = line.split('\\t')\n",
    "        wild[name] = SRR\n",
    "infile.close()"
   ]
  },
  {
   "cell_type": "code",
   "execution_count": 4,
   "id": "1571a569-8cc0-4799-a9f8-99ed11a449cd",
   "metadata": {},
   "outputs": [],
   "source": [
    "%%R\n",
    "library(tidyverse)\n",
    "library(data.table)\n",
    "library(ggplot2)\n",
    "library(magrittr)"
   ]
  },
  {
   "cell_type": "markdown",
   "id": "2669dee9-2765-4b92-8c84-382592c4737f",
   "metadata": {},
   "source": [
    "## Wild pop. polymorphism"
   ]
  },
  {
   "cell_type": "markdown",
   "id": "d6470861-497b-40be-baa8-7221c94ac254",
   "metadata": {},
   "source": [
    "### Variant calling"
   ]
  },
  {
   "cell_type": "markdown",
   "id": "d7407e5e-8bd7-4b83-9b27-aa77f59d5063",
   "metadata": {},
   "source": [
    "Download SRA data"
   ]
  },
  {
   "cell_type": "code",
   "execution_count": 9,
   "id": "abf9f492-3755-4f1f-bfa8-a3deb332300f",
   "metadata": {},
   "outputs": [],
   "source": [
    "for SAMPLE, SRR in wild.items():\n",
    "    cmd = f\"fasterq-dump {SRR} -O wild/\"\n",
    "    slurm = make_slurm(echo = False, id = f\"{SRR}\",cmd_string = cmd, mem = '60000', time = '24:00:00', p = 'long')"
   ]
  },
  {
   "cell_type": "markdown",
   "id": "a2464cc1-a432-49d4-892a-7cfa1ea1a350",
   "metadata": {},
   "source": [
    "FASTP"
   ]
  },
  {
   "cell_type": "code",
   "execution_count": 5,
   "id": "d010d9bc-c9c4-4966-8f50-e38ae09e0965",
   "metadata": {},
   "outputs": [],
   "source": [
    "import glob\n",
    "!mkdir -p wild/fastp/\n",
    "for SAMPLE, SRR in wild.items():\n",
    "    R1 = f\"wild/{SRR}_1.fastq\"\n",
    "    R2 = f\"wild/{SRR}_2.fastq\"\n",
    "    OUT1 = re.sub('wild/','wild/fastp/',R1) + '.gz'\n",
    "    OUT2 = re.sub('wild/','wild/fastp/',R2) + '.gz'\n",
    "    UP1 = re.sub('.fastq.gz','_unpaired.fastq.gz',OUT1)\n",
    "    UP2 = re.sub('.fastq.gz','_unpaired.fastq.gz',OUT2)\n",
    "    cmd = f\"fastp -V --in1 {R1} --in2 {R2} --out1 {OUT1} --out2 {OUT2} --unpaired1 {UP1} --unpaired2 {UP2} \"\n",
    "    slurm = make_slurm(run = False, id = f\"{SAMPLE}.fastp\",cmd_string = cmd, mem = '25000',time='24:00:00',p = 'long')"
   ]
  },
  {
   "cell_type": "markdown",
   "id": "c3372c92-becf-4fb1-a573-c7be49ee6d56",
   "metadata": {},
   "source": [
    "Alignment"
   ]
  },
  {
   "cell_type": "code",
   "execution_count": 6,
   "id": "db2debc9-1e38-472c-bf17-0a4c29fcd6e7",
   "metadata": {},
   "outputs": [],
   "source": [
    "RAWDIR = 'wild/fastp/'\n",
    "WORKDIR = 'wild/aln/'\n",
    "!mkdir -p $WORKDIR\n",
    "refgenome = 'white_abalone.fasta'\n",
    "s_lic = 'export SENTIEON_LICENSE=/private/groups/shapirolab/Software/Licenses/UCSC_Paleogenomics_Lab_Beth_Shapiro_cluster.lic;/private/groups/shapirolab/Software/Tools/sentieon-genomics-202308/bin/sentieon licsrvr --start --log /private/groups/shapirolab/brock/abalone/sentieon.log --linger 300 /private/groups/shapirolab/Software/Licenses/UCSC_Paleogenomics_Lab_Beth_Shapiro_cluster.lic;'\n",
    "s_temp = \"export SENTIEON_TMPDIR=/private/groups/shapirolab/brock/abalone/tmp/;\"\n",
    "s_exec = '/private/groups/shapirolab/Software/Tools/sentieon-genomics-202308/bin/sentieon'\n",
    "\n",
    "\n",
    "for SAMP,SRR in wild.items():\n",
    "    \n",
    "    ## Alignment\n",
    "    aln_1 = ('''if [[ ! -f {WORKDIR}/{SAMP}.bam.bai ]];then '''\n",
    "            '''{s_lic} {s_temp}'''\n",
    "           '''({s_exec} '''\n",
    "           '''bwa mem -R \\'@RG\\\\tID:{SAMP}\\\\tSM:{SAMP}\\\\tPL:ILLUMINA\\' '''\n",
    "           '''-aM -t 16 {refgenome} {RAWDIR}/{SRR}_1.fastq.gz {RAWDIR}/{SRR}_2.fastq.gz '''\n",
    "           '''|| echo -n \\'error\\') | '''\n",
    "           '''{s_exec} util sort -r {refgenome} -o {WORKDIR}/{SAMP}.bam --sam2bam -i -;fi \\n\\n\\n\\n''').format(SRR = SRR, RAWDIR = RAWDIR, s_lic = s_lic, s_exec = s_exec, refgenome = refgenome, s_temp = s_temp, WORKDIR = WORKDIR, SAMP = SAMP)\n",
    "\n",
    "    ## Duplicate marking\n",
    "    dups_p1 = ('''{s_lic} {s_temp}'''\n",
    "               '''{s_exec} '''\n",
    "               '''driver -i {WORKDIR}/{SAMP}.bam --algo LocusCollector --fun score_info {WORKDIR}/{SAMP}_SCORE.gz\\n'''\n",
    "               '''\\n\\n\\n''').format(s_lic = s_lic, s_exec = s_exec, refgenome = refgenome, WORKDIR = WORKDIR, SAMP = SAMP, s_temp = s_temp)\n",
    "    \n",
    "    dups_p2 = ('''echo -e \"Dups p1. completed\\\\n\\\\n\";'''\n",
    "               '''{s_exec} '''\n",
    "               '''driver -i {WORKDIR}/{SAMP}.bam --algo Dedup --score_info {WORKDIR}/{SAMP}_SCORE.gz '''\n",
    "               '''--metrics {WORKDIR}/{SAMP}.metrics.txt {WORKDIR}/{SAMP}.mdup.bam\\n'''\n",
    "               '''\\n\\n\\n''').format(s_lic = s_lic, s_exec = s_exec, refgenome = refgenome, WORKDIR = WORKDIR, s_temp = s_temp, SAMP = SAMP)\n",
    "    \n",
    "    ## Min Qual, RM DUP\n",
    "    #proc_cmd = ('''samtools view -q 20 -b {WORKDIR}/{SAMP}.mdup.bam | '''\n",
    "    #            '''samtools sort | '''\n",
    "    #            '''samtools rmdup - {WORKDIR}/{SAMP}.qF.bam\\n\\n\\n''').format(SAMP = SAMP, WORKDIR = WORKDIR)\n",
    "    \n",
    "    \n",
    "    ## FLAGSTAT\n",
    "    stat_cmd = ('''samtools flagstat {WORKDIR}/{SAMP}.mdup.bam > {WORKDIR}/{SAMP}.filt.stats.txt\\n'''\n",
    "                #'''samtools flagstat {WORKDIR}/{SAMP}.qF.bam > {WORKDIR}/{SAMP}.filt.qF.stats.txt\\n\\n\\n'''\n",
    "                '''''').format(WORKDIR = WORKDIR, SAMP = SAMP)\n",
    "    \n",
    "    full_cmd = aln_1 + dups_p1 + dups_p2 + stat_cmd\n",
    "    slurm = make_slurm(run = False, id = f\"{SAMP}.aln\", cmd_string = full_cmd, mem = '120000', time = '48:00:00', p = 'long',c=16)"
   ]
  },
  {
   "cell_type": "markdown",
   "id": "2071ce25-ec0a-478e-bcb2-e53691fdc5b7",
   "metadata": {},
   "source": [
    "Haplotype caller"
   ]
  },
  {
   "cell_type": "code",
   "execution_count": 7,
   "id": "70e30f16-f553-44f5-8af2-efc62fb1cab1",
   "metadata": {},
   "outputs": [],
   "source": [
    "### PATHS ###\n",
    "refgenome = 'white_abalone.fasta'\n",
    "s_lic = 'export SENTIEON_LICENSE=/private/groups/shapirolab/Software/Licenses/UCSC_Paleogenomics_Lab_Beth_Shapiro_cluster.lic;/private/groups/shapirolab/Software/Tools/sentieon-genomics-202308/bin/sentieon licsrvr --start --log /private/groups/shapirolab/brock/abalone/sentieon.log --linger 300 /private/groups/shapirolab/Software/Licenses/UCSC_Paleogenomics_Lab_Beth_Shapiro_cluster.lic;'\n",
    "s_temp = \"export SENTIEON_TMPDIR=/private/groups/shapirolab/brock/abalone/tmp/;\"\n",
    "s_exec = '/private/groups/shapirolab/Software/Tools/sentieon-genomics-202308/bin/sentieon'\n",
    "\n",
    "!mkdir -p wild/gvcfs\n",
    "### GENERATE CMDS ###\n",
    "#for sample, data in complete.items():\n",
    "for sample in wild.keys():\n",
    "    bam = f\"wild/aln/{sample}.mdup.bam\"\n",
    "    if not os.path.exists(bam + \".bai\"): continue\n",
    "    ##\n",
    "    haplo_cmd = ('''{s_lic} {s_temp}'''\n",
    "                 '''{s_exec} '''\n",
    "                 '''driver -t 32 -r {refgenome} -i {bam} '''\n",
    "                 '''--algo Haplotyper --emit_mode gvcf '''\n",
    "                 '''wild/gvcfs/{sample}.gvcf.gz\\n''').format(bam = bam, sample = sample, refgenome = refgenome, s_lic = s_lic, s_temp = s_temp, s_exec = s_exec)\n",
    "    make_slurm(run = False, id = f\"{sample}.hapcal\",cmd_string = haplo_cmd, mem = '100000',c = 32, p = 'long', time = '12:00:00')"
   ]
  },
  {
   "cell_type": "markdown",
   "id": "62490b81-a2aa-4033-80ea-07bd63c8f2a6",
   "metadata": {},
   "source": [
    "Joint genotyping, emit all variants"
   ]
  },
  {
   "cell_type": "code",
   "execution_count": 13,
   "id": "7381d7d0-a4c7-43ed-a95b-af487490a54a",
   "metadata": {},
   "outputs": [],
   "source": [
    "### PATHS ###\n",
    "brockdir = \"/private/groups/shapirolab/brock\"\n",
    "refgenome = 'white_abalone.fasta'\n",
    "s_lic = 'export SENTIEON_LICENSE=/private/groups/shapirolab/Software/Licenses/UCSC_Paleogenomics_Lab_Beth_Shapiro_cluster.lic;/private/groups/shapirolab/Software/Tools/sentieon-genomics-202308/bin/sentieon licsrvr --start --log /private/groups/shapirolab/brock/abalone/sentieon.log --linger 300 /private/groups/shapirolab/Software/Licenses/UCSC_Paleogenomics_Lab_Beth_Shapiro_cluster.lic;'\n",
    "s_temp = \"export SENTIEON_TMPDIR=/private/groups/shapirolab/brock/abalone/tmp/;\"\n",
    "s_exec = '/private/groups/shapirolab/Software/Tools/sentieon-genomics-202308/bin/sentieon'\n",
    "\n",
    "chroms = []\n",
    "with open('white_abalone.fasta.fai','r') as infile:\n",
    "    for line in infile:\n",
    "        line = line.strip()\n",
    "        parts = line.split('\\t')\n",
    "        chrom, size = parts[0:2]\n",
    "        if int(size) < 1e6: \n",
    "            continue\n",
    "        else:\n",
    "            chroms.append(chrom)\n",
    "gvcf_string = ''\n",
    "infile = open('poplists/wild_caught_SRA.txt','r')\n",
    "for line in infile:\n",
    "    line = line.strip('\\n')\n",
    "    sample = line.split('\\t')[1]\n",
    "    gvcf_string += f\"-v wild/gvcfs/{sample}.gvcf.gz \"\n",
    "infile.close()\n",
    "\n",
    "!mkdir -p wild/vcfs\n",
    "for CHROM in chroms:\n",
    "    joint_cmd = ('''{s_lic} {s_temp}'''\n",
    "                 '''{s_exec} '''\n",
    "                 '''driver -t 8 -r {refgenome} --interval {CHROM} --algo GVCFtyper '''\n",
    "                 '''{gvcf_string} '''\n",
    "                 '''--emit_mode ALL '''\n",
    "                 '''wild/vcfs/{CHROM}.allsites.vcf.gz\\n''').format(CHROM = CHROM, s_temp = s_temp, s_lic = s_lic, s_exec = s_exec, refgenome = refgenome, gvcf_string = gvcf_string)\n",
    "    slurm = make_slurm(run = False, id = f\"{CHROM}.joint\",p = 'long', cmd_string =  joint_cmd, mem = '40000',time='04:00:00', c=8)"
   ]
  },
  {
   "cell_type": "markdown",
   "id": "622ef5f3-8d92-4ece-9952-bcb4bf231b4c",
   "metadata": {},
   "source": [
    "Filtering"
   ]
  },
  {
   "cell_type": "code",
   "execution_count": 14,
   "id": "e175cb1f-b439-4b57-9b5d-e5f4b63c964b",
   "metadata": {},
   "outputs": [],
   "source": [
    "WORKDIR = '/private/groups/shapirolab/brock/mutation/'\n",
    "GATK = '/private/groups/shapirolab/brock/Software/gatk.sif'\n",
    "\n",
    "for CHROM in chroms:\n",
    "    cmd = (\n",
    "        ## Basic INvariant site selection and filtering\n",
    "        '''bcftools view --max-ac 0:minor -i \"QUAL>30 && F_MISSING<0.25\" -O z '''\n",
    "        '''wild/vcfs/{CHROM}.allsites.vcf.gz > wild/vcfs/{CHROM}.NON.vcf.gz && tabix -f wild/vcfs/{CHROM}.NON.vcf.gz\\n\\n'''\n",
    "        \n",
    "        ## Basic VARIANT site selection and filtering\n",
    "        '''bcftools view --min-ac 1:minor -i \"QUAL>30 && F_MISSING<0.25\" -O z '''\n",
    "        '''wild/vcfs/{CHROM}.allsites.vcf.gz > wild/vcfs/{CHROM}.VAR.vcf.gz && tabix -f wild/vcfs/{CHROM}.VAR.vcf.gz\\n\\n'''\n",
    "       \n",
    "        ## Apply more thorough GATK filters to VARIANT set\n",
    "        '''singularity exec --bind {WORKDIR} {GATK} '''\n",
    "        '''gatk --java-options \"-Xmx4G\" VariantFiltration '''\n",
    "        '''-R white_abalone.fasta '''\n",
    "        '''-V wild/vcfs/{CHROM}.VAR.vcf.gz '''\n",
    "        '''--output wild/vcfs/{CHROM}.VARFILTERED.vcf.gz '''\n",
    "        '''--filter-name \\\"RPRS_filter\\\" --filter-expression \\\"(vc.isSNP() && (vc.hasAttribute('ReadPosRankSum') && ReadPosRankSum < -8.0)) || ((vc.isIndel() || vc.isMixed()) && (vc.hasAttribute('ReadPosRankSum') && ReadPosRankSum < -20.0)) || (vc.hasAttribute('QD') && QD < 2.0)\\\" '''\n",
    "        '''--filter-name \\\"FS_SOR_filter\\\" --filter-expression \\\"(vc.isSNP() && ((vc.hasAttribute('FS') && FS > 60.0) || (vc.hasAttribute('SOR') &&  SOR > 3.0))) || ((vc.isIndel() || vc.isMixed()) && ((vc.hasAttribute('FS') && FS > 200.0) || (vc.hasAttribute('SOR') &&  SOR > 10.0)))\\\" '''\n",
    "        '''--filter-name \\\"MQ_filter\\\" --filter-expression \\\"vc.isSNP() && ((vc.hasAttribute('MQ') && MQ < 40.0) || (vc.hasAttribute('MQRankSum') && MQRankSum < -12.5))\\\" '''\n",
    "        '''--filter-name \\\"QUAL_filter\\\" --filter-expression \\\"QUAL < 30.0\\\" '''\n",
    "        '''--invalidate-previous-filters true && tabix -f wild/vcfs/{CHROM}.VARFILTERED.vcf.gz\\n\\n'''\n",
    "        \n",
    "        ## Recombine filtered INVAR + VARIANT vcfs, remove intermediate files\n",
    "        '''bcftools concat --allow-overlaps wild/vcfs/{CHROM}.VARFILTERED.vcf.gz wild/vcfs/{CHROM}.NON.vcf.gz '''\n",
    "        '''-O z > wild/vcfs/{CHROM}.allsites.filtered.vcf.gz && tabix -f wild/vcfs/{CHROM}.allsites.filtered.vcf.gz\\n\\n'''\n",
    "        '''if [[ -f wild/vcfs/{CHROM}.allsites.filtered.vcf.gz.tbi ]];then rm -f wild/vcfs/{CHROM}.VARFILTERED.vcf.gz* wild/vcfs/{CHROM}.VAR.vcf.gz* wild/vcfs/{CHROM}.NON.vcf.gz*;fi\\n''').format(CHROM = CHROM, WORKDIR = WORKDIR, GATK = GATK)\n",
    "    \n",
    "    slurm = make_slurm(run = False, id = f\"{CHROM}.filter\", cmd_string = cmd, mem='5000',time='48:00:00',p='long')"
   ]
  },
  {
   "cell_type": "code",
   "execution_count": null,
   "id": "3a6f9f6d-1b18-4115-9582-94596318ffc8",
   "metadata": {},
   "outputs": [],
   "source": []
  },
  {
   "cell_type": "markdown",
   "id": "57b9f74d-5785-40e8-a7f1-696c79fe558d",
   "metadata": {},
   "source": [
    "### PIXY"
   ]
  },
  {
   "cell_type": "markdown",
   "id": "47ea3980-7370-49a0-86b7-60770a492232",
   "metadata": {},
   "source": [
    "For white abalone"
   ]
  },
  {
   "cell_type": "code",
   "execution_count": 102,
   "id": "6d2cfe3a-99cc-44cf-be39-736a47a7a275",
   "metadata": {},
   "outputs": [],
   "source": [
    "!mkdir -p wild/pixy\n",
    "for chrom in chroms:\n",
    "    pixy_cmd = ('''pixy --stats pi '''\n",
    "                '''--vcf wild/vcfs/{chrom}.allsites.filtered.vcf.gz '''\n",
    "                '''--populations poplists/wild_pop.txt '''\n",
    "                '''--window_size 10000 '''\n",
    "                '''--n_cores 8 '''\n",
    "                '''--chromosomes {chrom} '''\n",
    "                '''--output_folder wild/pixy --output_prefix {chrom}\\n''').format(chrom = chrom)\n",
    "    slurm = make_slurm(run = False, c = 8, p = 'long', id=f\"{chrom}.pixy\", cmd_string = pixy_cmd, mem='20000', time = '24:00:00')\n",
    "    "
   ]
  },
  {
   "cell_type": "markdown",
   "id": "89dda05e-b1be-45ce-bc8e-5ca4781e95a0",
   "metadata": {},
   "source": [
    "For black abalone as well. I'm pulling these vcfs directly from my previous work (Wooldridge et al. 2024)."
   ]
  },
  {
   "cell_type": "code",
   "execution_count": 171,
   "id": "3331599b-398e-4e75-9e53-cbe332f0f4c7",
   "metadata": {},
   "outputs": [],
   "source": [
    "fai = pd.read_csv('assembly/cracherodii.fa.fai', sep=\"\\t\", header = None).set_axis(['chrom', 'size', 'cum', 'a', 'b'], axis=1).query('size > 1e6')\n",
    "chroms = list(fai['chrom'])\n",
    "for chrom in chroms:\n",
    "    pixy_cmd = ('''pixy --stats pi '''\n",
    "                '''--vcf /private/groups/shapirolab/brock/abalone/vcfs/{chrom}.allsites.hf.vcf.gz '''\n",
    "                '''--populations poplists/black_ab_sample.txt '''\n",
    "                '''--window_size 10000 '''\n",
    "                '''--n_cores 16 '''\n",
    "                '''--chromosomes {chrom} '''\n",
    "                '''--output_folder wild/black_ab/pixy --output_prefix {chrom}\\n''').format(chrom = chrom)\n",
    "    slurm = make_slurm(run = False, c = 16, p = 'long', id=f\"black.ab.{chrom}.pixy\", cmd_string = pixy_cmd, mem='20000', time = '24:00:00')\n",
    "    "
   ]
  },
  {
   "cell_type": "markdown",
   "id": "9612303b-7df4-4cea-bdaa-08d8fa5a7e88",
   "metadata": {},
   "source": [
    "Results"
   ]
  },
  {
   "cell_type": "code",
   "execution_count": 176,
   "id": "5ab71366-9641-4f16-afb1-19030c2726a2",
   "metadata": {},
   "outputs": [
    {
     "name": "stdout",
     "output_type": "stream",
     "text": [
      "      pop     chromosome window_pos_1 window_pos_2       avg_pi no_sites\n",
      "   <char>         <char>        <int>        <int>        <num>    <int>\n",
      "1:  dummy HiC_scaffold_1            1        10000 0.0001431941     5083\n",
      "2:  dummy HiC_scaffold_1        10001        20000 0.0001239201     2500\n",
      "3:  dummy HiC_scaffold_1        20001        30000 0.0131363609     1436\n",
      "4:  dummy HiC_scaffold_1        30001        40000 0.0037452543     8173\n",
      "5:  dummy HiC_scaffold_1        40001        50000 0.0004181712     8317\n",
      "6:  dummy HiC_scaffold_1        50001        60000 0.0011203337     7564\n",
      "   count_diffs count_comparisons count_missing species\n",
      "         <int>             <int>         <int>  <char>\n",
      "1:         154           1075463         98710   white\n",
      "2:          64            516462         61038   white\n",
      "3:        3901            296962         34754   white\n",
      "4:        6566           1753152        134811   white\n",
      "5:         753           1800698        120529   white\n",
      "6:        1837           1639690        107594   white\n"
     ]
    }
   ],
   "source": [
    "%%R\n",
    "white_pi = bind_rows(lapply(list.files('wild/pixy',pattern = 'scaffold', full.names = T),function(PATH){fread(PATH)}))\n",
    "black_pi = bind_rows(lapply(list.files('wild/black_ab/pixy/',pattern = 'pi', full.names = T),function(PATH){fread(PATH)}))\n",
    "pi = bind_rows(white_pi %>% mutate(species = 'white'), black_pi %>% mutate(species = 'black'))\n",
    "head(pi)"
   ]
  },
  {
   "cell_type": "code",
   "execution_count": 177,
   "id": "f562bda7-fbd1-4217-85db-90a6ca8ee28e",
   "metadata": {},
   "outputs": [
    {
     "name": "stdout",
     "output_type": "stream",
     "text": [
      "`stat_bin()` using `bins = 30`. Pick better value with `binwidth`.\n"
     ]
    },
    {
     "data": {
      "image/png": "[encoded data removed]",
      "text/plain": [
       "<IPython.core.display.Image object>"
      ]
     },
     "metadata": {},
     "output_type": "display_data"
    }
   ],
   "source": [
    "%%R -w 400 -h 200\n",
    "ggplot(pi) +\n",
    "    geom_histogram(aes(x = no_sites)) +\n",
    "    facet_wrap(~species) +\n",
    "    theme_classic()"
   ]
  },
  {
   "cell_type": "markdown",
   "id": "7e4f19c6-6e9d-4f21-ad10-26e1e103f4bc",
   "metadata": {},
   "source": [
    "Plot result"
   ]
  },
  {
   "cell_type": "code",
   "execution_count": 197,
   "id": "c709b955-9f14-4795-9a7e-a75c1bcd538e",
   "metadata": {},
   "outputs": [
    {
     "name": "stdout",
     "output_type": "stream",
     "text": [
      "`stat_bin()` using `bins = 30`. Pick better value with `binwidth`.\n",
      "`stat_bin()` using `bins = 30`. Pick better value with `binwidth`.\n"
     ]
    }
   ],
   "source": [
    "%%R -w 700 -h 350\n",
    "library(patchwork)\n",
    "\n",
    "inpi = pi %>% filter(species == 'white', no_sites > 9000)\n",
    "p = ggplot(inpi) +\n",
    "    geom_histogram(aes(x = avg_pi)) +\n",
    "    geom_vline(aes(xintercept = mean(avg_pi)), col = 'red') +  \n",
    "    #geom_vline(aes(xintercept = median(avg_pi)), col = 'blue') + \n",
    "    annotate(\"text\",x=0.01, y = 10000,label = paste0(\"Median \",round(median(inpi$avg_pi),4)), col = 'blue') +\n",
    "    annotate(\"text\",x=0.01, y = 12000,label = paste0(\"Mean \",round(mean(inpi$avg_pi),4)), col = 'red') +\n",
    "    theme_classic() +\n",
    "    xlim(c(0,0.05)) +\n",
    "    ylab(\"Count\") +\n",
    "    xlab(\"Avg. pi (10kb window)\")\n",
    "\n",
    "\n",
    "inpi = pi %>% filter(species == 'black', no_sites > 6000)\n",
    "q = ggplot(inpi) +\n",
    "    geom_histogram(aes(x = avg_pi)) +\n",
    "    geom_vline(aes(xintercept = mean(avg_pi)), col = 'red') +  \n",
    "    #geom_vline(aes(xintercept = median(avg_pi)), col = 'blue') + \n",
    "    annotate(\"text\",x=0.03, y = 8000,label = paste0(\"Median \",round(median(inpi$avg_pi),4)), col = 'blue') +\n",
    "    annotate(\"text\",x=0.03, y = 10000,label = paste0(\"Mean \",round(mean(inpi$avg_pi),4)), col = 'red') +\n",
    "    theme_classic() + \n",
    "    xlim(c(0,0.05)) +\n",
    "    ylab(\"Count\") +\n",
    "    xlab(\"Avg. pi (10kb window)\")\n",
    "\n",
    "\n",
    "p/q\n",
    "ggsave('mutation_figs/pi.pdf',height = 4, width = 4)\n",
    "#ggsave('mutation_figs/pi.pdf',height = 3.5, width = 7)"
   ]
  },
  {
   "cell_type": "markdown",
   "id": "228f198b-bb65-4969-9689-c96c7c4a3610",
   "metadata": {},
   "source": [
    "### Other species"
   ]
  },
  {
   "cell_type": "code",
   "execution_count": 72,
   "id": "d55ccc0a-8045-4b85-a916-018ea35398c3",
   "metadata": {},
   "outputs": [],
   "source": [
    "%%R\n",
    "library(readxl)\n",
    "mut = read_excel('mutation_literature/mutation_rate_literature_updating3.xlsx', sheet = 1)\n",
    "mut %<>% bind_rows(.,data.frame(Species = \"Haliotis sorenseni\",u_mean = '7.99e-09', u_lower = '6.096043e-09', u_upper = '1.111221e-08', TYPE = 'snp',reproduction = 'sexual',Group = 'mollusks', Broadcast = 'Y'))\n",
    "diversity = read_excel('mutation_literature/mutation_rate_literature_updating3.xlsx', sheet = 2)\n",
    "diversity %<>% bind_rows(.,data.frame(Species = \"Haliotis sorenseni\",Gs_MB = 1184.464861, Gt_Year = 10, log10_popsize = NA, diversity = 0.001768821))"
   ]
  },
  {
   "cell_type": "code",
   "execution_count": 106,
   "id": "3240f308-b6b8-4e29-8388-39d3ff94a5b7",
   "metadata": {},
   "outputs": [
    {
     "name": "stdout",
     "output_type": "stream",
     "text": [
      "png \n",
      "  2 \n"
     ]
    }
   ],
   "source": [
    "%%R -w 500 -h 350\n",
    "library(wesanderson)\n",
    "library(scico)\n",
    "inp = \n",
    "    left_join(mut,diversity, by = 'Species') %>% \n",
    "    mutate(u_mean = as.numeric(u_mean)) %>%\n",
    "    filter(TYPE == 'snp') %>%\n",
    "    filter(reproduction == 'sexual') %>%\n",
    "    filter(!Group %in% c('human','unicellular'))\n",
    "p = ggplot() +\n",
    "    geom_point(data = inp %>% filter(diversity != 0), aes(x = u_mean, y = diversity, fill = Broadcast), size = 4, pch = 21) +\n",
    "    scale_fill_manual(values = wes_palette(\"AsteroidCity2\")[c(6,5)]) +\n",
    "    ylab(\"Diversity\") +\n",
    "    xlab(\"Mutation rate\") + \n",
    "    scale_x_log10(guide = \"axis_logticks\") + \n",
    "    scale_y_log10(guide = \"axis_logticks\") +\n",
    "    #scale_fill_scico_d(palette = 'vik') +\n",
    "    #geom_point(data = inp %>% filter(Species == 'Haliotis sorenseni'), aes(x = log(u_mean), y = log(diversity)), col = 'red', size = 2) +\n",
    "    #geom_abline(aes(slope = log(e))) +\n",
    "    theme_classic()\n",
    "pdf('mutation_figs/pi_v_mut.pdf',width  = 5, height = 3.5)\n",
    "print(p)\n",
    "dev.off()\n"
   ]
  },
  {
   "cell_type": "markdown",
   "id": "8f59c529-19ac-4901-8a4a-bb651fb387c1",
   "metadata": {},
   "source": [
    "## MSMC multiple species"
   ]
  },
  {
   "cell_type": "markdown",
   "id": "04767d3f-88b9-4667-9fc6-d848cdf607b8",
   "metadata": {},
   "source": [
    "### Download other Haliotis"
   ]
  },
  {
   "cell_type": "code",
   "execution_count": 30,
   "id": "91dcb1fa-4c13-4698-8a94-73b934240145",
   "metadata": {},
   "outputs": [
    {
     "name": "stdout",
     "output_type": "stream",
     "text": [
      "`summarise()` has grouped output by 'Organism'. You can override using the\n",
      "`.groups` argument.\n"
     ]
    }
   ],
   "source": [
    "%%R -o dl\n",
    "raw = fread('demography/haliotis_wgs_2024.csv') \n",
    "keep = \n",
    "    raw %>%\n",
    "    dplyr::select(Organism,Run, Bases, BioSample, `Sample Name`, `Library Name`) %>%\n",
    "    group_by(Organism,BioSample) %>%\n",
    "    summarize(TotalBases = sum(Bases)) %>%\n",
    "    ungroup %>%\n",
    "    group_by(Organism) %>%\n",
    "    filter(TotalBases == max(TotalBases)) %>%\n",
    "    filter(!Organism %in% c('Haliotis sorenseni')) %>%\n",
    "    pull(BioSample)\n",
    "\n",
    "dl =\n",
    "    raw %>% \n",
    "    filter(BioSample %in% keep) %>%\n",
    "    dplyr::select(Organism,Run)\n",
    "\n",
    "fwrite(dl, 'demography/download.txt', sep = \"\\t\", col.names = F, row.names = F)"
   ]
  },
  {
   "cell_type": "code",
   "execution_count": 16,
   "id": "d40e70c2-3680-42a7-a47f-07a273bad48e",
   "metadata": {},
   "outputs": [],
   "source": [
    "org_2_run = {}\n",
    "with open('demography/download.txt','r') as infile:\n",
    "    for line in infile:\n",
    "        Organism, Run = line.strip('\\n').split('\\t')\n",
    "        Organism = re.sub('Haliotis ','',Organism)\n",
    "        if Organism not in org_2_run.keys():\n",
    "            org_2_run[Organism] = [Run]\n",
    "        else:\n",
    "            org_2_run[Organism].append(Run)\n",
    "infile.close()\n",
    "\n",
    "for SPECIES, SRRlist in org_2_run.items():\n",
    "    if SPECIES != 'asinina': continue\n",
    "    for SRR in SRRlist:\n",
    "        cmd = f\"fasterq-dump {SRR} -O demography/\"\n",
    "        slurm = make_slurm(run = False, id = f\"{SRR}\",cmd_string = cmd, mem = '60000', time = '24:00:00', p = 'long')"
   ]
  },
  {
   "cell_type": "markdown",
   "id": "2ee79db7-2dc6-481f-82ce-b7be7bd1d0bc",
   "metadata": {},
   "source": [
    "### Fastp"
   ]
  },
  {
   "cell_type": "code",
   "execution_count": 17,
   "id": "2253f8ca-0407-4542-9eb2-9d9774a272a0",
   "metadata": {},
   "outputs": [],
   "source": [
    "import glob\n",
    "!mkdir -p demography/fastp/\n",
    "\n",
    "org_2_run = {}\n",
    "with open('demography/download.txt','r') as infile:\n",
    "    for line in infile:\n",
    "        Organism, Run = line.strip('\\n').split('\\t')\n",
    "        Organism = re.sub('Haliotis ','',Organism)\n",
    "        if Organism not in org_2_run.keys():\n",
    "            org_2_run[Organism] = [Run]\n",
    "        else:\n",
    "            org_2_run[Organism].append(Run)\n",
    "infile.close()\n",
    "\n",
    "\n",
    "for SPECIES, SRRlist in org_2_run.items():\n",
    "    if SPECIES != 'asinina': continue\n",
    "    for SRR in SRRlist:\n",
    "        R1 = f\"demography/{SRR}_1.fastq\"\n",
    "        R2 = f\"demography/{SRR}_2.fastq\"\n",
    "        OUT1 = re.sub('demography/','demography/fastp/',R1) + '.gz'\n",
    "        OUT2 = re.sub('demography/','demography/fastp/',R2) + '.gz'\n",
    "        UP1 = re.sub('.fastq.gz','_unpaired.fastq.gz',OUT1)\n",
    "        UP2 = re.sub('.fastq.gz','_unpaired.fastq.gz',OUT2)\n",
    "        cmd = f\"fastp -V --in1 {R1} --in2 {R2} --out1 {OUT1} --out2 {OUT2} --unpaired1 {UP1} --unpaired2 {UP2} \"\n",
    "        slurm = make_slurm(run = False, id = f\"{SRR}.fastp\",cmd_string = cmd, mem = '25000',time='24:00:00',p = 'long')"
   ]
  },
  {
   "cell_type": "markdown",
   "id": "c7b94f89-0b47-44c2-9889-1f9fc13ecb6c",
   "metadata": {},
   "source": [
    "### Alignment"
   ]
  },
  {
   "cell_type": "code",
   "execution_count": 18,
   "id": "d533495b-6545-4870-bc0a-3c73a74caa2a",
   "metadata": {},
   "outputs": [
    {
     "name": "stdout",
     "output_type": "stream",
     "text": [
      "SRR24969063 incomplete\n"
     ]
    }
   ],
   "source": [
    "RAWDIR = 'demography/fastp/'\n",
    "WORKDIR = 'demography/aln/'\n",
    "!mkdir -p $WORKDIR\n",
    "s_lic = 'export SENTIEON_LICENSE=/private/groups/shapirolab/Software/Licenses/UCSC_Paleogenomics_Lab_Beth_Shapiro_cluster.lic;/private/groups/shapirolab/Software/Tools/sentieon-genomics-202308/bin/sentieon licsrvr --start --log /private/groups/shapirolab/brock/abalone/sentieon.log --linger 300 /private/groups/shapirolab/Software/Licenses/UCSC_Paleogenomics_Lab_Beth_Shapiro_cluster.lic;'\n",
    "s_temp = \"export SENTIEON_TMPDIR=/private/groups/shapirolab/brock/mutation/tmp/;\"\n",
    "s_exec = '/private/groups/shapirolab/Software/Tools/sentieon-genomics-202308/bin/sentieon'\n",
    "\n",
    "org_2_run = {}\n",
    "with open('demography/download.txt','r') as infile:\n",
    "    for line in infile:\n",
    "        Organism, Run = line.strip('\\n').split('\\t')\n",
    "        Organism = re.sub('Haliotis ','',Organism)\n",
    "        if Organism not in org_2_run.keys():\n",
    "            org_2_run[Organism] = [Run]\n",
    "        else:\n",
    "            org_2_run[Organism].append(Run)\n",
    "infile.close()\n",
    "\n",
    "\n",
    "for SPECIES, SRRlist in org_2_run.items():\n",
    "    if SPECIES not in ['asinina']: continue\n",
    "    refgenome = f\"assembly/{SPECIES}.fa\"\n",
    "    for SRR in SRRlist:\n",
    "        if os.path.exists(f\"{WORKDIR}/{SRR}.mdup.bam\"):\n",
    "            print(f\"{SRR} done\")\n",
    "            continue\n",
    "        else:\n",
    "            print(f\"{SRR} incomplete\")\n",
    "        ## Alignment\n",
    "        aln_1 = ('''if [[ ! -f {WORKDIR}/{SRR}.bam.bai ]];then '''\n",
    "                '''{s_lic} {s_temp}'''\n",
    "               '''({s_exec} '''\n",
    "               '''bwa mem -R \\'@RG\\\\tID:{SRR}\\\\tSM:{SPECIES}\\\\tPL:ILLUMINA\\' '''\n",
    "               '''-aM -t 16 {refgenome} {RAWDIR}/{SRR}_1.fastq.gz {RAWDIR}/{SRR}_2.fastq.gz '''\n",
    "               '''|| echo -n \\'error\\') | '''\n",
    "               '''{s_exec} util sort -r {refgenome} -o {WORKDIR}/{SRR}.bam --sam2bam -i -;fi \\n\\n\\n\\n''').format(SRR = SRR, RAWDIR = RAWDIR, s_lic = s_lic, s_exec = s_exec, refgenome = refgenome, s_temp = s_temp, WORKDIR = WORKDIR, SPECIES = SPECIES)\n",
    "    \n",
    "        ## Duplicate marking\n",
    "        dups_p1 = ('''{s_lic} {s_temp}'''\n",
    "                   '''{s_exec} '''\n",
    "                   '''driver -i {WORKDIR}/{SRR}.bam -t 16 --algo LocusCollector --fun score_info {WORKDIR}/{SRR}_SCORE.gz\\n'''\n",
    "                   '''\\n\\n\\n''').format(s_lic = s_lic, s_exec = s_exec, refgenome = refgenome, WORKDIR = WORKDIR, SRR = SRR, s_temp = s_temp)\n",
    "        \n",
    "        dups_p2 = ('''echo -e \"Dups p1. completed\\\\n\\\\n\";'''\n",
    "                   '''{s_exec} '''\n",
    "                   '''driver -i {WORKDIR}/{SRR}.bam -t 16 --algo Dedup --score_info {WORKDIR}/{SRR}_SCORE.gz '''\n",
    "                   '''--metrics {WORKDIR}/{SRR}.metrics.txt {WORKDIR}/{SRR}.mdup.bam\\n'''\n",
    "                   '''\\n\\n\\n''').format(s_lic = s_lic, s_exec = s_exec, refgenome = refgenome, WORKDIR = WORKDIR, s_temp = s_temp, SRR = SRR)\n",
    "        \n",
    "        ## Min Qual, RM DUP\n",
    "        #proc_cmd = ('''samtools view -q 20 -b {WORKDIR}/{SAMP}.mdup.bam | '''\n",
    "        #            '''samtools sort | '''\n",
    "        #            '''samtools rmdup - {WORKDIR}/{SAMP}.qF.bam\\n\\n\\n''').format(SAMP = SAMP, WORKDIR = WORKDIR)\n",
    "        \n",
    "        \n",
    "        ## FLAGSTAT\n",
    "        stat_cmd = ('''samtools flagstat {WORKDIR}/{SRR}.mdup.bam > {WORKDIR}/{SRR}.filt.stats.txt\\n'''\n",
    "                    #'''samtools flagstat {WORKDIR}/{SAMP}.qF.bam > {WORKDIR}/{SAMP}.filt.qF.stats.txt\\n\\n\\n'''\n",
    "                    '''''').format(WORKDIR = WORKDIR, SRR = SRR)\n",
    "        \n",
    "        full_cmd = aln_1 + dups_p1 + dups_p2 + stat_cmd\n",
    "        slurm = make_slurm(run = False, id = f\"{SRR}.aln\", cmd_string = full_cmd, mem = '120000', time = '72:00:00', p = 'long',c=16)"
   ]
  },
  {
   "cell_type": "markdown",
   "id": "67470041-199a-43a0-8545-8dfb708ae841",
   "metadata": {},
   "source": [
    "Merge. Once merging is done, remove original per-run files"
   ]
  },
  {
   "cell_type": "code",
   "execution_count": 21,
   "id": "7eabe896-cfb0-4ff1-ae54-f4b541caaa71",
   "metadata": {},
   "outputs": [],
   "source": [
    "outfile = open('cmds/merge.txt','w')\n",
    "WORKDIR = \"demography/aln/\"\n",
    "for SPECIES, SRRlist in org_2_run.items():\n",
    "    cmd = \"\"\n",
    "    if len(SRRlist) > 1:\n",
    "        cmd = f\"samtools merge -f -@ 16 -O BAM -o {WORKDIR}/{SPECIES}.bam \"\n",
    "        for SRR in SRRlist:\n",
    "            #if not os.path.exists(f\"{WORKDIR}/{SRR}.mdup.bam\"):\n",
    "                #print(f\"Issue with {SRR}\")\n",
    "            cmd += f\"{WORKDIR}/{SRR}.mdup.bam \"\n",
    "        cmd += f\"&& samtools index {WORKDIR}/{SPECIES}.bam\"\n",
    "    else:\n",
    "        SRR = SRRlist[0]\n",
    "        cmd = f\"mv {WORKDIR}/{SRR}.mdup.bam {WORKDIR}/{SPECIES}.mdup.bam \"\n",
    "    outfile.write(cmd + \"\\n\")\n",
    "outfile.close()"
   ]
  },
  {
   "cell_type": "markdown",
   "id": "0ba3edd8-98ec-4e56-a2f8-d4843ee535ab",
   "metadata": {},
   "source": [
    "### Variant calling"
   ]
  },
  {
   "cell_type": "markdown",
   "id": "9aa1280c-7890-4f16-9d31-58f592821ec0",
   "metadata": {},
   "source": [
    "Haplotype caller"
   ]
  },
  {
   "cell_type": "code",
   "execution_count": 22,
   "id": "27b399e4-4b58-4f1d-b11a-20517988056b",
   "metadata": {},
   "outputs": [
    {
     "name": "stdout",
     "output_type": "stream",
     "text": [
      "Error with cracherodii\n"
     ]
    }
   ],
   "source": [
    "### PATHS ###\n",
    "s_lic = 'export SENTIEON_LICENSE=/private/groups/shapirolab/Software/Licenses/UCSC_Paleogenomics_Lab_Beth_Shapiro_cluster.lic;/private/groups/shapirolab/Software/Tools/sentieon-genomics-202308/bin/sentieon licsrvr --start --log /private/groups/shapirolab/brock/abalone/sentieon.log --linger 300 /private/groups/shapirolab/Software/Licenses/UCSC_Paleogenomics_Lab_Beth_Shapiro_cluster.lic;'\n",
    "s_temp = \"export SENTIEON_TMPDIR=/private/groups/shapirolab/brock/mutation/tmp/;\"\n",
    "s_exec = '/private/groups/shapirolab/Software/Tools/sentieon-genomics-202308/bin/sentieon'\n",
    "\n",
    "!mkdir -p demography/gvcfs\n",
    "### GENERATE CMDS ###\n",
    "#for sample, data in complete.items():\n",
    "#for SPECIES in org_2_run.keys():\n",
    "for SPECIES in ['cracherodii']:\n",
    "    bam = f\"demography/aln/{SPECIES}.bam\"\n",
    "    if not os.path.exists(bam + \".bai\"): \n",
    "        print(f\"Error with {SPECIES}\")\n",
    "        continue\n",
    "    ##\n",
    "    haplo_cmd = ('''{s_lic} {s_temp}'''\n",
    "                 '''{s_exec} '''\n",
    "                 '''driver -t 32 -r assembly/{SPECIES}.fa -i {bam} '''\n",
    "                 '''--algo Haplotyper --emit_mode gvcf '''\n",
    "                 '''demography/gvcfs/{SPECIES}.gvcf.gz\\n''').format(bam = bam, SPECIES = SPECIES, refgenome = refgenome, s_lic = s_lic, s_temp = s_temp, s_exec = s_exec)\n",
    "    make_slurm(echo = False, run = False, id = f\"{SPECIES}.hapcal\",cmd_string = haplo_cmd, mem = '100000',c = 32, p = 'long', time = '12:00:00')"
   ]
  },
  {
   "cell_type": "markdown",
   "id": "636e2204-c38f-41b4-8ea5-ab52bc92d0bf",
   "metadata": {},
   "source": [
    "Joint genotyping, only emit variant sites"
   ]
  },
  {
   "cell_type": "code",
   "execution_count": 23,
   "id": "f94b7b24-cbc1-4ecc-8e2c-f7d32b12afe1",
   "metadata": {},
   "outputs": [],
   "source": [
    "### PATHS ###\n",
    "brockdir = \"/private/groups/shapirolab/brock\"\n",
    "s_lic = 'export SENTIEON_LICENSE=/private/groups/shapirolab/Software/Licenses/UCSC_Paleogenomics_Lab_Beth_Shapiro_cluster.lic;/private/groups/shapirolab/Software/Tools/sentieon-genomics-202308/bin/sentieon licsrvr --start --log /private/groups/shapirolab/brock/abalone/sentieon.log --linger 300 /private/groups/shapirolab/Software/Licenses/UCSC_Paleogenomics_Lab_Beth_Shapiro_cluster.lic;'\n",
    "s_temp = \"export SENTIEON_TMPDIR=/private/groups/shapirolab/brock/abalone/tmp/;\"\n",
    "s_exec = '/private/groups/shapirolab/Software/Tools/sentieon-genomics-202308/bin/sentieon'\n",
    "\n",
    "\n",
    "\n",
    "!mkdir -p demography/vcfs\n",
    "for SPECIES in org_2_run.keys():\n",
    "    #chroms = pd.read_csv(f\"assembly/{SPECIES}.fa.fai\", sep = \"\\t\", header = None).set_axis(['chr','size','total','l','n'], axis = 1).query('size > 5e5')['chr'].to_list()\n",
    "    #for CHROM in chroms:\n",
    "    joint_cmd = ('''{s_lic} {s_temp}'''\n",
    "                 '''{s_exec} '''\n",
    "                 '''driver -t 8 -r assembly/{SPECIES}.fa --algo GVCFtyper ''' # --interval {CHROM}\n",
    "                 '''-v demography/gvcfs/{SPECIES}.gvcf.gz '''\n",
    "                 '''demography/vcfs/{SPECIES}.vcf.gz\\n''').format(SPECIES = SPECIES, s_temp = s_temp, s_lic = s_lic, s_exec = s_exec)\n",
    "    slurm = make_slurm(run = False, id = f\"{SPECIES}.joint\",p = 'long', cmd_string =  joint_cmd, mem = '40000',time='04:00:00', c=8)"
   ]
  },
  {
   "cell_type": "markdown",
   "id": "2c6e7b50-99fe-4fa5-9fac-3a4c0d2115d8",
   "metadata": {},
   "source": [
    "Filter "
   ]
  },
  {
   "cell_type": "code",
   "execution_count": 24,
   "id": "4a24f7c7-1b23-482d-afcc-6ee347b11b0c",
   "metadata": {},
   "outputs": [],
   "source": [
    "WORKDIR = '/private/groups/shapirolab/brock/mutation/'\n",
    "GATK = '/private/groups/shapirolab/brock/Software/gatk.sif'\n",
    "\n",
    "for SPECIES in org_2_run.keys():\n",
    "    cmd = (\n",
    "        ## Apply more thorough GATK filters to VARIANT set\n",
    "        '''singularity exec --bind {WORKDIR} {GATK} '''\n",
    "        '''gatk --java-options \"-Xmx4G\" VariantFiltration '''\n",
    "        '''-R assembly/{SPECIES}.fa '''\n",
    "        '''-V demography/vcfs/{SPECIES}.vcf.gz '''\n",
    "        '''--output demography/vcfs/{SPECIES}.filtered.vcf.gz '''\n",
    "        '''--filter-name \\\"RPRS_filter\\\" --filter-expression \\\"(vc.isSNP() && (vc.hasAttribute('ReadPosRankSum') && ReadPosRankSum < -8.0)) || ((vc.isIndel() || vc.isMixed()) && (vc.hasAttribute('ReadPosRankSum') && ReadPosRankSum < -20.0)) || (vc.hasAttribute('QD') && QD < 2.0)\\\" '''\n",
    "        '''--filter-name \\\"FS_SOR_filter\\\" --filter-expression \\\"(vc.isSNP() && ((vc.hasAttribute('FS') && FS > 60.0) || (vc.hasAttribute('SOR') &&  SOR > 3.0))) || ((vc.isIndel() || vc.isMixed()) && ((vc.hasAttribute('FS') && FS > 200.0) || (vc.hasAttribute('SOR') &&  SOR > 10.0)))\\\" '''\n",
    "        '''--filter-name \\\"MQ_filter\\\" --filter-expression \\\"vc.isSNP() && ((vc.hasAttribute('MQ') && MQ < 40.0) || (vc.hasAttribute('MQRankSum') && MQRankSum < -12.5))\\\" '''\n",
    "        '''--filter-name \\\"QUAL_filter\\\" --filter-expression \\\"QUAL < 30.0\\\" '''\n",
    "        '''--invalidate-previous-filters true && tabix -f demography/vcfs/{SPECIES}.filtered.vcf.gz\\n\\n''').format(SPECIES = SPECIES, WORKDIR = WORKDIR, GATK = GATK)\n",
    "    \n",
    "    slurm = make_slurm(echo = False, run = False, id = f\"{SPECIES}.filter\", cmd_string = cmd, mem='5000',time='48:00:00',p='long')"
   ]
  },
  {
   "cell_type": "markdown",
   "id": "7b2a5f71-81ac-4763-adb9-121864ac2893",
   "metadata": {},
   "source": [
    "### MSMC input"
   ]
  },
  {
   "cell_type": "markdown",
   "id": "e800a0ce-1d4d-4d28-b901-7010bd12bef8",
   "metadata": {},
   "source": [
    "#### Mappability masks reference genomes"
   ]
  },
  {
   "cell_type": "code",
   "execution_count": 35,
   "id": "2bb1c6fc-002d-498a-9c8d-f601fb3bd55d",
   "metadata": {
    "scrolled": true
   },
   "outputs": [
    {
     "name": "stdout",
     "output_type": "stream",
     "text": [
      "Input fits into int32_t (<2GB), algorithm will need about `6n` main memory.\n",
      "It might be more or less depending on the number and length of the individual sequences.\n",
      "If you are running out of memory, you can try to reduce the memory consumption a bit by inreasing `-S`, e.g., use `-S 20` (up to 64).\n",
      "Although this will slow down the algorithm to compute the mappability.\n",
      "Index will be constructed using dna5/rna5 alphabet.\n",
      "- The BWT is represented by 32 bit values.\n",
      "- The sampled suffix array is represented by pairs of 16 and 32 bit values.\n",
      "Create fwd Index ... done!\n",
      "Create bwd Index ... done!\n",
      "Index created successfully.\n",
      "Input fits into int32_t (<2GB), algorithm will need about `6n` main memory.\n",
      "It might be more or less depending on the number and length of the individual sequences.\n",
      "If you are running out of memory, you can try to reduce the memory consumption a bit by inreasing `-S`, e.g., use `-S 20` (up to 64).\n",
      "Although this will slow down the algorithm to compute the mappability.\n",
      "Index will be constructed using dna5/rna5 alphabet.\n",
      "- The BWT is represented by 32 bit values.\n",
      "- The sampled suffix array is represented by pairs of 16 and 32 bit values.\n",
      "Create fwd Index ... done!\n",
      "Create bwd Index ... done!\n",
      "Index created successfully.\n",
      "Input fits into int32_t (<2GB), algorithm will need about `6n` main memory.\n",
      "It might be more or less depending on the number and length of the individual sequences.\n",
      "If you are running out of memory, you can try to reduce the memory consumption a bit by inreasing `-S`, e.g., use `-S 20` (up to 64).\n",
      "Although this will slow down the algorithm to compute the mappability.\n",
      "Index will be constructed using dna5/rna5 alphabet.\n",
      "- The BWT is represented by 64 bit values.\n",
      "- The sampled suffix array is represented by pairs of 64 and 64 bit values.\n",
      "Create fwd Index ... done!\n",
      "Create bwd Index ... done!\n",
      "Index created successfully.\n",
      "Input fits into int32_t (<2GB), algorithm will need about `6n` main memory.\n",
      "It might be more or less depending on the number and length of the individual sequences.\n",
      "If you are running out of memory, you can try to reduce the memory consumption a bit by inreasing `-S`, e.g., use `-S 20` (up to 64).\n",
      "Although this will slow down the algorithm to compute the mappability.\n",
      "Index will be constructed using dna5/rna5 alphabet.\n",
      "- The BWT is represented by 32 bit values.\n",
      "- The sampled suffix array is represented by pairs of 16 and 32 bit values.\n",
      "Create fwd Index ... done!\n",
      "Create bwd Index ... done!\n",
      "Index created successfully.\n",
      "Input fits into int32_t (<2GB), algorithm will need about `6n` main memory.\n",
      "It might be more or less depending on the number and length of the individual sequences.\n",
      "If you are running out of memory, you can try to reduce the memory consumption a bit by inreasing `-S`, e.g., use `-S 20` (up to 64).\n",
      "Although this will slow down the algorithm to compute the mappability.\n",
      "Index will be constructed using dna5/rna5 alphabet.\n",
      "- The BWT is represented by 32 bit values.\n",
      "- The sampled suffix array is represented by pairs of 16 and 32 bit values.\n",
      "Create fwd Index ... done!\n",
      "Create bwd Index ... done!\n",
      "Index created successfully.\n",
      "Input fits into int32_t (<2GB), algorithm will need about `6n` main memory.\n",
      "It might be more or less depending on the number and length of the individual sequences.\n",
      "If you are running out of memory, you can try to reduce the memory consumption a bit by inreasing `-S`, e.g., use `-S 20` (up to 64).\n",
      "Although this will slow down the algorithm to compute the mappability.\n",
      "Index will be constructed using dna5/rna5 alphabet.\n",
      "- The BWT is represented by 32 bit values.\n",
      "- The sampled suffix array is represented by pairs of 16 and 32 bit values.\n",
      "Create fwd Index ... done!\n",
      "Create bwd Index ... done!\n",
      "Index created successfully.\n"
     ]
    }
   ],
   "source": [
    "!mkdir -p demography/mappability\n",
    "species = []\n",
    "with open('poplists/phylo_species.txt','r') as infile:\n",
    "    for line in infile:\n",
    "        line = line.strip()\n",
    "        if line != 'magus': species.append(line)\n",
    "infile.close()\n",
    "\n",
    "for SPECIES in species:\n",
    "    cmd = ('''genmap index -F assembly/{SPECIES}.fa -I demography/mappability/{SPECIES} -v''').format(SPECIES = SPECIES) \n",
    "    !$cmd"
   ]
  },
  {
   "cell_type": "markdown",
   "id": "216fea85-4370-4bf4-bbda-f7ac8774eebf",
   "metadata": {},
   "source": [
    "Now that the indexing is done, run the actual masking"
   ]
  },
  {
   "cell_type": "code",
   "execution_count": 9,
   "id": "b25fc7da-6ed2-41fd-bfef-5395e0ef2656",
   "metadata": {},
   "outputs": [],
   "source": [
    "!mkdir -p demography/mappability\n",
    "species = []\n",
    "with open('poplists/phylo_species.txt','r') as infile:\n",
    "    for line in infile:\n",
    "        line = line.strip()\n",
    "        if line != 'magus': species.append(line)\n",
    "infile.close()\n",
    "\n",
    "for SPECIES in species:\n",
    "    cmd = ('''genmap map -K 150 -E 2 -I demography/mappability/{SPECIES} -O demography/mappability/{SPECIES}/150_by_2 -bg ''').format(SPECIES = SPECIES)\n",
    "    slurm = make_slurm(run = False, id = f\"{SPECIES}.genmap\", cmd_string = cmd, mem = '40000', time = '48:00:00', p = 'long')"
   ]
  },
  {
   "cell_type": "markdown",
   "id": "ea93043a-e6fd-4715-9eaa-99d416437abd",
   "metadata": {},
   "source": [
    "Reformat as a negative bed mask"
   ]
  },
  {
   "cell_type": "code",
   "execution_count": 68,
   "id": "eb5bd5a5-17d3-40b7-bfb5-1898008d51d1",
   "metadata": {},
   "outputs": [
    {
     "name": "stdout",
     "output_type": "stream",
     "text": [
      "demography/mappability/cracherodii/150_by_2.bedgraph\n",
      "demography/mappability/asinina/150_by_2.bedgraph\n",
      "demography/mappability/sorenseni/150_by_2.bedgraph\n",
      "demography/mappability/rufescens/150_by_2.bedgraph\n",
      "demography/mappability/rubra/150_by_2.bedgraph\n",
      "demography/mappability/laevigata/150_by_2.bedgraph\n"
     ]
    }
   ],
   "source": [
    "%%bash\n",
    "find \"demography\" -name \"150_by_2.bedgraph\" | while read FILE;do\n",
    "    echo $FILE\n",
    "    OUTNAME=$(echo $FILE | sed \"s|.bedgraph|_negative_mask.bed|\")\n",
    "    awk '{OFS=\"\\t\"} ($4 != 1) {print $1,$2,$3}' $FILE | bedtools merge -i stdin > $OUTNAME\n",
    "done"
   ]
  },
  {
   "cell_type": "markdown",
   "id": "61059dd6-25ab-4917-92dd-66834ccd63f4",
   "metadata": {},
   "source": [
    "#### Input data masking"
   ]
  },
  {
   "cell_type": "markdown",
   "id": "4e247cd4-45e7-4c47-be7c-0f2131fb5b50",
   "metadata": {},
   "source": [
    "Generate input depth masks<br>\n",
    "This needs to be run per-chromosome, then combine later"
   ]
  },
  {
   "cell_type": "markdown",
   "id": "38679ea2-a622-415f-839f-9ff0f976f7a7",
   "metadata": {},
   "source": [
    "First, get avg. depth per species"
   ]
  },
  {
   "cell_type": "code",
   "execution_count": 81,
   "id": "1afba451-2335-4d97-946b-bcb45d4d028d",
   "metadata": {},
   "outputs": [
    {
     "name": "stderr",
     "output_type": "stream",
     "text": [
      "[W::hts_idx_load3] The index file is older than the data file: demography/aln/cracherodii.bam.bai\n"
     ]
    }
   ],
   "source": [
    "%%bash\n",
    "cat demography/dem_species.txt | while read SPECIES;do\n",
    "    large_chrom=$(sort -nrk2 assembly/${SPECIES}.fa.fai | head -n 1 | cut -f1);\n",
    "    DEPTH=$(samtools depth -a -r ${large_chrom} demography/aln/${SPECIES}.bam | mdepth.sh | sed \"s/Average =  //g\");\n",
    "    echo -e \"$SPECIES\\t$DEPTH\";\n",
    "done > demography/depth.txt"
   ]
  },
  {
   "cell_type": "code",
   "execution_count": 25,
   "id": "29387172-9516-46ea-98ba-be7c5c2c208d",
   "metadata": {},
   "outputs": [
    {
     "name": "stdout",
     "output_type": "stream",
     "text": [
      "1064\n"
     ]
    }
   ],
   "source": [
    "!mkdir -p demography/msmc demography/msmc/masks demography/msmc/vcfs\n",
    "\n",
    "sample_cov = {}\n",
    "with open('demography/depth.txt','r') as infile:\n",
    "    next(infile) # skip header\n",
    "    for line in infile:\n",
    "        line = line.strip('\\n')\n",
    "        sample, mean = line.split('\\t')\n",
    "        sample_cov[sample] = mean\n",
    "infile.close()\n",
    "\n",
    "ix = 0\n",
    "for SPECIES, COV in sample_cov.items():\n",
    "    if float(COV) < 40: continue\n",
    "    fai = pd.read_csv(f\"assembly/{SPECIES}.fa.fai\", sep=\"\\t\", header = None)\n",
    "    chroms = fai[fai.iloc[:,1] > 5e5].iloc[:,0].tolist()\n",
    "    outfile = open(f\"cmds/{SPECIES}_msmc_mask.txt\",'w')\n",
    "    cmd = \"\"\n",
    "    for chrom in chroms:\n",
    "        ix += 1\n",
    "        cmd += ('''samtools mpileup -q 20 -Q 20 -C 50 -u -r {chrom} -f assembly/{SPECIES}.fa demography/aln/{SPECIES}.bam | '''\n",
    "               '''bcftools call -c -V indels --ploidy 2 | '''\n",
    "               '''python /private/groups/shapirolab/brock/Software/msmc-tools/bamCaller.py {COV} demography/msmc/masks/{SPECIES}_{chrom}.bed.gz\\n''').format(chrom = chrom, SPECIES = SPECIES, COV = COV)\n",
    "    outfile.write(cmd)\n",
    "    outfile.close()\n",
    "    slurmcmd = f\"cat cmds/{SPECIES}_msmc_mask.txt | parallel --progress --jobs 12\"\n",
    "    slurm = make_slurm(echo = False, p='long', id = f\"{SPECIES}_msmc_mask\", cmd_string = slurmcmd, mem = '10000', time = '24:00:00', c = 12)\n",
    "print(ix)"
   ]
  },
  {
   "cell_type": "markdown",
   "id": "c308e15a-ff99-4df6-aa60-057cdf321960",
   "metadata": {},
   "source": [
    "Generate sample-level vcfs"
   ]
  },
  {
   "cell_type": "code",
   "execution_count": 104,
   "id": "1bedbdc8-5349-4620-8ebd-0158e91a7bd7",
   "metadata": {},
   "outputs": [],
   "source": [
    "!mkdir -p demography/msmc/vcfs/\n",
    "for SPECIES, COV in sample_cov.items():\n",
    "    if float(COV) < 40: continue\n",
    "    fai = pd.read_csv(f\"assembly/{SPECIES}.fa.fai\", sep=\"\\t\", header = None)\n",
    "    chroms = fai[fai.iloc[:,1] > 5e5].iloc[:,0].tolist()\n",
    "    outfile = open(f\"cmds/{SPECIES}_msmc_vcf.txt\",'w')\n",
    "    cmd = \"\"\n",
    "    for chrom in chroms:\n",
    "        cmd += ('''bcftools view -r {chrom} --min-ac 1:minor -f PASS,. -v snps -m2 -M2 demography/vcfs/{SPECIES}.filtered.vcf.gz '''\n",
    "               '''> demography/msmc/vcfs/{SPECIES}_{chrom}.vcf && bgzip -f demography/msmc/vcfs/{SPECIES}_{chrom}.vcf && tabix -f demography/msmc/vcfs/{SPECIES}_{chrom}.vcf.gz\\n''').format(SPECIES = SPECIES, chrom = chrom)\n",
    "    outfile.write(cmd)\n",
    "    outfile.close()\n",
    "    slurmcmd = f\"cat cmds/{SPECIES}_msmc_vcf.txt | parallel --progress --jobs 12\"\n",
    "    slurm = make_slurm(echo = False, p='long', id = f\"{SPECIES}_msmc_vcf\", cmd_string = slurmcmd, mem = '10000', time = '24:00:00', c = 12)"
   ]
  },
  {
   "cell_type": "markdown",
   "id": "fef7547c-c55c-47eb-8309-cb1d6ac3dbb3",
   "metadata": {},
   "source": [
    "Now add with mappability mask and vcf to generate input"
   ]
  },
  {
   "cell_type": "code",
   "execution_count": 26,
   "id": "030469eb-aa43-430e-8d02-d952d80375a2",
   "metadata": {},
   "outputs": [],
   "source": [
    "import itertools\n",
    "!mkdir -p demography/msmc/input\n",
    "\n",
    "\n",
    "## Loop through species\n",
    "for SPECIES, COV in sample_cov.items():\n",
    "    if float(COV) < 40: continue\n",
    "        \n",
    "    ## Loop through chromosomes\n",
    "    fai = pd.read_csv(f\"assembly/{SPECIES}.fa.fai\", sep=\"\\t\")\n",
    "    chroms = fai[fai.iloc[:,1] > 5e5].iloc[:,0].tolist()\n",
    "    outfile = open(f\"cmds/{SPECIES}_msmc_input.txt\",'w')\n",
    "    cmd = \"\"\n",
    "    for CHROM in chroms:\n",
    "        cmd += ('''python /private/groups/shapirolab/brock/Software/msmc-tools/generate_multihetsep.py '''\n",
    "                ## Positive mask\n",
    "                '''--mask demography/msmc/masks/{SPECIES}_{CHROM}.bed.gz '''\n",
    "                ## Negative mask\n",
    "                '''--negative_mask demography/mappability/{SPECIES}/150_by_2_negative_mask.bed '''\n",
    "                ## VCF\n",
    "                '''demography/msmc/vcfs/{SPECIES}_{CHROM}.vcf.gz > '''\n",
    "                ## Output\n",
    "                '''demography/msmc/input/{SPECIES}_{CHROM}.multihetsep.TV.txt\\n''').format(SPECIES = SPECIES, CHROM = CHROM)\n",
    "    outfile.write(cmd)\n",
    "    outfile.close()\n",
    "    slurmcmd = f\"parallel --progress --jobs 12 < cmds/{SPECIES}_msmc_input.txt\"\n",
    "    slurm = make_slurm(run = False, p='long', id = f\"{SPECIES}_msmc_input\", cmd_string = slurmcmd, mem = '10000', time = '24:00:00', c = 12)\n",
    "    ## Done"
   ]
  },
  {
   "cell_type": "markdown",
   "id": "6d6d6602-fd30-403b-bddc-1b0f64686b8a",
   "metadata": {},
   "source": [
    "#### Bootstrap replicates"
   ]
  },
  {
   "cell_type": "code",
   "execution_count": 132,
   "id": "dbcef44c-633a-450f-b2c3-7283d7177d84",
   "metadata": {
    "scrolled": true
   },
   "outputs": [
    {
     "name": "stdout",
     "output_type": "stream",
     "text": [
      "python /private/groups/shapirolab/brock/Software/msmc-tools/multihetsep_bootstrap.py -n 20 -s 100000 --chunks_per_chromosome 10 --nr_chromosomes 1000 demography/msmc/bootstrap/laevigata/ demography/msmc/input/laevigata_*.multihetsep.TV.txt\n",
      "\n",
      "python /private/groups/shapirolab/brock/Software/msmc-tools/multihetsep_bootstrap.py -n 20 -s 5000000 --chunks_per_chromosome 10 --nr_chromosomes 20 demography/msmc/bootstrap/rubra/ demography/msmc/input/rubra_*.multihetsep.TV.txt\n",
      "\n",
      "python /private/groups/shapirolab/brock/Software/msmc-tools/multihetsep_bootstrap.py -n 20 -s 5000000 --chunks_per_chromosome 10 --nr_chromosomes 20 demography/msmc/bootstrap/rufescens/ demography/msmc/input/rufescens_*.multihetsep.TV.txt\n",
      "\n",
      "python /private/groups/shapirolab/brock/Software/msmc-tools/multihetsep_bootstrap.py -n 20 -s 5000000 --chunks_per_chromosome 10 --nr_chromosomes 20 demography/msmc/bootstrap/sorenseni/ demography/msmc/input/sorenseni_*.multihetsep.TV.txt\n",
      "\n",
      "python /private/groups/shapirolab/brock/Software/msmc-tools/multihetsep_bootstrap.py -n 20 -s 5000000 --chunks_per_chromosome 10 --nr_chromosomes 20 demography/msmc/bootstrap/cracherodii/ demography/msmc/input/cracherodii_*.multihetsep.TV.txt\n",
      "\n"
     ]
    }
   ],
   "source": [
    "!mkdir -p demography/msmc/bootstrap\n",
    "sample_cov = {}\n",
    "with open('demography/depth.txt','r') as infile:\n",
    "    next(infile) # skip header\n",
    "    for line in infile:\n",
    "        line = line.strip('\\n')\n",
    "        sample, mean = line.split('\\t')\n",
    "        sample_cov[sample] = mean\n",
    "infile.close()\n",
    "\n",
    "\n",
    "\n",
    "outfile = open('cmds/genboot.txt','w')\n",
    "for SPECIES, COV in sample_cov.items():\n",
    "    if SPECIES == 'laevigata':\n",
    "        size, chunks, chroms = 100000, 10, 1000 # fragmented aassembly\n",
    "    else:\n",
    "        size, chunks, chroms = 5000000, 10, 20\n",
    "        \n",
    "    cmd = ('''python /private/groups/shapirolab/brock/Software/msmc-tools/multihetsep_bootstrap.py '''\n",
    "           '''-n 20 -s {size} --chunks_per_chromosome {chunks} --nr_chromosomes {chroms} ''' # Generates a resampled chromosome approximately the size of the X chrom\n",
    "           '''demography/msmc/bootstrap/{SPECIES}/ demography/msmc/input/{SPECIES}_*.multihetsep.TV.txt\\n''').format(SPECIES = SPECIES, size = size, chunks = chunks, chroms = chroms)\n",
    "    outfile.write(cmd)\n",
    "    print(cmd)\n",
    "    #!$cmd\n",
    "outfile.close()"
   ]
  },
  {
   "cell_type": "markdown",
   "id": "b42440a3-a5b3-4d1b-8e7e-53589e681eca",
   "metadata": {},
   "source": [
    "### Main program"
   ]
  },
  {
   "cell_type": "code",
   "execution_count": 27,
   "id": "c78aa1b3-0ba0-44d3-bf21-1de938b65534",
   "metadata": {
    "scrolled": true
   },
   "outputs": [],
   "source": [
    "!mkdir -p demography/msmc/single\n",
    "reps = [\"OG\"] + [str(i) for i in range(1,21)]\n",
    "for SPECIES, COV in sample_cov.items():\n",
    "    if SPECIES != 'laevigata': continue\n",
    "    for REP in reps:\n",
    "        if REP == 'OG':\n",
    "            files = glob.glob(f\"demography/msmc/input/{SPECIES}*txt\")\n",
    "            input_str = ' '.join(files)\n",
    "        else:\n",
    "            files = glob.glob(f\"demography/msmc/bootstrap/{SPECIES}/_{REP}/*txt\")\n",
    "            input_str = ' '.join(files)\n",
    "        cmd = ('''/private/groups/shapirolab/brock/Software/msmc2_Linux '''\n",
    "               '''-t 8 -p 25*1+1*2+1*3 ''' ## Subject to change depending on resolution needed\n",
    "               '''-o demography/msmc/single/{SPECIES}_{REP} '''\n",
    "               '''-I 0,1 '''\n",
    "               '''{input_str}\\n''').format(SPECIES = SPECIES, REP = REP, input_str = input_str)\n",
    "        slurm = make_slurm(c = 8, run = False, p = 'long', id = f\"{SPECIES}_{REP}_msmc\", cmd_string = cmd, mem = '20000', time = '08:00:00')"
   ]
  },
  {
   "cell_type": "markdown",
   "id": "8c3a5565-b79b-41f2-9464-57e6cd5ebf31",
   "metadata": {},
   "source": [
    "### Results"
   ]
  },
  {
   "cell_type": "code",
   "execution_count": 3,
   "id": "98f2d3bf-2aa6-4075-9cc3-9edd85543588",
   "metadata": {},
   "outputs": [
    {
     "name": "stdout",
     "output_type": "stream",
     "text": [
      "`summarise()` has grouped output by 'species'. You can override using the\n",
      "`.groups` argument.\n"
     ]
    },
    {
     "data": {
      "image/png": "[encoded data removed]",
      "text/plain": [
       "<IPython.core.display.Image object>"
      ]
     },
     "metadata": {},
     "output_type": "display_data"
    }
   ],
   "source": [
    "%%R -w 600 -h 300\n",
    "library(tidyverse)\n",
    "library(data.table)\n",
    "library(ggplot2)\n",
    "library(magrittr)\n",
    "library(RColorBrewer)\n",
    "\n",
    "## Set parameters\n",
    "mu = 8.60e-9\n",
    "gen = 1\n",
    "\n",
    "## Read in raw data and process metadata\n",
    "res = bind_rows(lapply(list.files('demography/msmc/single/', pattern='final.txt',full.names = T), function(PATH){fread(PATH) %>% mutate(path = basename(PATH))}))\n",
    "res %<>% mutate(species = gsub('_.*','',path), \n",
    "                rep = gsub('.final.txt','',path) %>% gsub('^.*_','',.),\n",
    "                source = ifelse(rep == 'OG','original','bootstrap'))\n",
    "\n",
    "\n",
    "## Convert intervals to real time and size to Ne\n",
    "res %<>% \n",
    "    ##\n",
    "    mutate(left_time_boundary = left_time_boundary/mu*gen,\n",
    "           right_time_boundary = right_time_boundary/mu*gen,\n",
    "           size = (1/lambda)/(2*mu)) %>%\n",
    "    ##\n",
    "    group_by(species, rep) %>%\n",
    "    mutate(lagsize = lag(size), order_by = path) %>%\n",
    "    ungroup\n",
    "\n",
    "## Get confidence intervals\n",
    "res_summary = \n",
    "res %>%\n",
    "    group_by(species, time_index) %>%\n",
    "    summarize(mn_left_time_boundary = mean(left_time_boundary), \n",
    "              mn_right_time_boundary = mean(right_time_boundary),\n",
    "              mn_size = mean(size),\n",
    "              sd_size = sd(size),\n",
    "              lower_ci = mn_size - qt(0.975, df = n() - 1) * sd_size / sqrt(n()),\n",
    "              upper_ci = mn_size + qt(0.975, df = n() - 1) * sd_size / sqrt(n())) %>%\n",
    "    ungroup\n",
    "\n",
    "\n",
    "## Exploratory plot\n",
    "\n",
    "cols = brewer.pal(6,\"Dark2\")\n",
    "names(cols) = c('laevigata','sorenseni','rufescens','asinina','cracherodii','rubra')\n",
    "\n",
    "library(wesanderson)\n",
    "#ogcolor = wes_palette('Moonrise1')[4]\n",
    "p = ggplot() +\n",
    "    ##\n",
    "    geom_segment(data = res %>% filter(source == 'original'), aes(x = left_time_boundary, xend = left_time_boundary, y = size, yend = lagsize, color = species), size = 1) +\n",
    "    geom_segment(data = res %>% filter(source == 'original'), aes(x = left_time_boundary, xend = right_time_boundary, y = size, yend = size, color = species), size = 1) +\n",
    "    ##\n",
    "    geom_segment(data = res %>% filter(source == 'bootstrap'), aes(x = left_time_boundary, xend = left_time_boundary, y = size, yend = lagsize, color = species, group = rep), size = 0.5, alpha = 0.5) +\n",
    "    geom_segment(data = res %>% filter(source == 'bootstrap'), aes(x = left_time_boundary, xend = right_time_boundary, y = size, yend = size, color = species, group = rep), size = 0.5, alpha = 0.5) +\n",
    "    #geom_rect(data = res_summary,aes(xmin = mn_left_time_boundary, xmax = mn_right_time_boundary, ymin = lower_ci, ymax = upper_ci, fill = species), alpha = 0.5) +\n",
    "    ##\n",
    "    scale_color_manual(values = cols) +\n",
    "    scale_x_log10(limits = c(1e3,3e6)) +\n",
    "    scale_y_log10(limits = c(1e4,6e6)) +\n",
    "    xlab(\"Log10 Generations\") + \n",
    "    ylab(\"Log10 Ne\") +\n",
    "    annotation_logticks() +\n",
    "    #ylim(c(1,1e6)) + \n",
    "    theme_classic() \n",
    "    #theme(panel.grid.major.y = element_line(size = 1), panel.grid.minor.y = element_line(size = 1))\n",
    "\n",
    "print(p)\n",
    "\n",
    "#ggsave('./mutation_figs/msmc_plot.pdf', width = 6, height = 3)\n"
   ]
  },
  {
   "cell_type": "code",
   "execution_count": 101,
   "id": "b93f2e37-c4ae-43a0-b3c2-f6970e617fe1",
   "metadata": {},
   "outputs": [
    {
     "name": "stdout",
     "output_type": "stream",
     "text": [
      "`summarise()` has grouped output by 'species'. You can override using the\n",
      "`.groups` argument.\n"
     ]
    }
   ],
   "source": [
    "%%R\n",
    "res_summary = \n",
    "res %>%\n",
    "    group_by(species, time_index) %>%\n",
    "    summarize(mn_left_time_boundary = mean(left_time_boundary), \n",
    "              mn_right_time_boundary = mean(right_time_boundary),\n",
    "              mn_size = mean(size),\n",
    "              sd_size = sd(size),\n",
    "              lower_ci = mn_size - qt(0.975, df = n() - 1) * sd_size / sqrt(n()),\n",
    "              upper_ci = mn_size + qt(0.975, df = n() - 1) * sd_size / sqrt(n())) %>%\n",
    "    ungroup"
   ]
  },
  {
   "cell_type": "code",
   "execution_count": 117,
   "id": "369a6038-692b-4169-b88c-3771a9700b71",
   "metadata": {},
   "outputs": [
    {
     "name": "stdout",
     "output_type": "stream",
     "text": [
      "# A tibble: 12 × 4\n",
      "   sample        total_gens denom harmonic_mean\n",
      "   <chr>              <dbl> <dbl>         <dbl>\n",
      " 1 BML309           941688.  4.05       232375.\n",
      " 2 BML397           895865.  4.02       223011.\n",
      " 3 FG29             961397.  4.07       236253.\n",
      " 4 FG30             958515.  4.05       236506.\n",
      " 5 FG33             955054.  4.07       234609.\n",
      " 6 Green312         895342.  4.00       223750.\n",
      " 7 NorbertW740      947894.  3.82       248357.\n",
      " 8 NorbertW853      848900.  3.89       218279.\n",
      " 9 ToothlessL824    892070.  4.02       221967.\n",
      "10 ToothlessL960    923267.  4.02       229544.\n",
      "11 Y119             928378.  4.10       226683.\n",
      "12 Y121             893471.  4.26       209666.\n"
     ]
    }
   ],
   "source": [
    "%%R\n",
    "res %>% \n",
    "    filter(left_time_boundary >= 1e4, left_time_boundary <= 1e6) %>% \n",
    "    dplyr::select(left_time_boundary,sample,size) %>% \n",
    "    group_by(sample) %>%\n",
    "    mutate(gens = lead(left_time_boundary) - left_time_boundary) %>%\n",
    "    mutate(harm = (1/size)*gens) %>%\n",
    "    summarize(total_gens = sum(gens,na.rm =T),denom = sum(harm,na.rm=T)) %>%\n",
    "    ungroup %>%\n",
    "    mutate(harmonic_mean = total_gens/denom)"
   ]
  },
  {
   "cell_type": "code",
   "execution_count": null,
   "id": "778f0267-c119-43e4-8742-e340c4f92915",
   "metadata": {},
   "outputs": [],
   "source": []
  }
 ],
 "metadata": {
  "kernelspec": {
   "display_name": "doom",
   "language": "python",
   "name": "doom"
  },
  "language_info": {
   "codemirror_mode": {
    "name": "ipython",
    "version": 3
   },
   "file_extension": ".py",
   "mimetype": "text/x-python",
   "name": "python",
   "nbconvert_exporter": "python",
   "pygments_lexer": "ipython3",
   "version": "3.12.3"
  }
 },
 "nbformat": 4,
 "nbformat_minor": 5
}
