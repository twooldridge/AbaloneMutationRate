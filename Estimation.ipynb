{
 "cells": [
  {
   "cell_type": "code",
   "execution_count": 1,
   "id": "d486e7d7",
   "metadata": {},
   "outputs": [],
   "source": [
    "import os\n",
    "import pandas as pd\n",
    "import numpy as np\n",
    "from tqdm import tqdm \n",
    "import sys\n",
    "\n",
    "sys.path.append('/private/groups/shapirolab/brock/Software')\n",
    "from py3_functions import *\n",
    "\n",
    "from IPython.display import display\n",
    "\n",
    "!mkdir -p /private/groups/shapirolab/brock/mutation\n",
    "os.chdir('/private/groups/shapirolab/brock/mutation')\n",
    "!mkdir -p cmds logs\n",
    "\n",
    "### R stuff\n",
    "from rpy2 import rinterface\n",
    "#from jupyter_helpers import rpy2_autocompletion\n",
    "%load_ext rpy2.ipython\n",
    "\n",
    "samples = []\n",
    "with open('poplists/samples.txt') as infile:\n",
    "    for line in infile:\n",
    "        line = line.strip()\n",
    "        samples.append(line)\n",
    "infile.close()"
   ]
  },
  {
   "cell_type": "code",
   "execution_count": 3,
   "id": "625f5973",
   "metadata": {},
   "outputs": [],
   "source": [
    "%%R\n",
    "library(data.table)\n",
    "library(tidyverse)\n",
    "library(magrittr)\n",
    "library(ggplot2)\n",
    "library(patchwork)"
   ]
  },
  {
   "cell_type": "markdown",
   "id": "bfcc912e",
   "metadata": {},
   "source": [
    "# Get input vcfs"
   ]
  },
  {
   "cell_type": "code",
   "execution_count": 4,
   "id": "e347eaa0",
   "metadata": {},
   "outputs": [],
   "source": [
    "x = pd.read_csv('poplists/families.txt',sep=\"\\t\")\n",
    "fam_2_samples = x.groupby('famName')['sampleName'].apply(list).to_dict()\n",
    "sample_2_ped = x.groupby('sampleName')['Relationship'].apply(list).to_dict()\n",
    "\n",
    "## I'll be comparing the variants identified via \n",
    "## 1) GATK ('vcfs' folder)\n",
    "## 2) bcftools ('bcftools' folder)\n",
    "sources = {'./vcfs/biallelic.vcf.gz':'./est',\n",
    "           './bcftools/biallelic.vcf.gz':'./bcftools/est/'}\n",
    "for INVCF, OUTDIR in sources.items():\n",
    "    !mkdir -p $OUTDIR\n",
    "    for FAMILY, SAMPLELIST in fam_2_samples.items():\n",
    "        parentstring = ''\n",
    "        for SAMPLE in SAMPLELIST:\n",
    "            status = sample_2_ped[SAMPLE][0]\n",
    "            if status == 'Parent':\n",
    "                parentstring += f\"{SAMPLE},\"\n",
    "        for SAMPLE in SAMPLELIST:\n",
    "            status = sample_2_ped[SAMPLE][0]\n",
    "            if status == 'Child':\n",
    "                cmd = ( # Take only variants that are segregating in the relevant trio, no missing data\n",
    "                        '''bcftools view -v snps -i 'F_MISSING=0.0' --min-ac 1:minor --max-ac 1:minor -s {parentstring}{SAMPLE} {INVCF} | ''' \n",
    "                        # Make sure the child (third genotype, base 0) is a het, phased or not\n",
    "                        '''bcftools view -i 'GT[2]=\"0/1\" | GT[2]=\"1/0\" | GT[2]=\"0|1\" | GT[2]=\"1|0\"' | '''\n",
    "                        # Does it fall within callable regions?\n",
    "                        '''vcftools --vcf - --bed masks/{FAMILY}_positive_REPINCLUDED_mask.bed --recode --recode-INFO-all --stdout | ''' # Is it in callable regions?\n",
    "                        # Cleanup\n",
    "                        '''bgzip -c > {OUTDIR}/{SAMPLE}.singleton.vcf.gz && tabix {OUTDIR}/{SAMPLE}.singleton.vcf.gz\\n''').format(FAMILY = FAMILY, parentstring = parentstring, SAMPLE = SAMPLE, INVCF = INVCF, OUTDIR = OUTDIR)\n",
    "                slurm = make_slurm(run = False, echo = False, id = f\"{SAMPLE}.2vcf\", cmd_string = cmd, mem = '1000',time = '01:00:00', p = 'long')"
   ]
  },
  {
   "cell_type": "markdown",
   "id": "3a8271dc",
   "metadata": {},
   "source": [
    "# Filtering & estimation"
   ]
  },
  {
   "cell_type": "markdown",
   "id": "aaa68194-1641-425a-be66-5b8c8cd5cb27",
   "metadata": {},
   "source": [
    "Above we identified heterozygous sites in children where both parents were homozygous ref. Now we do **more filtering**"
   ]
  },
  {
   "cell_type": "markdown",
   "id": "cb8a2cac",
   "metadata": {},
   "source": [
    "1. GQ > 60 all individuals\n",
    "\n",
    "3. Candidate mutations must not be present in any reads from either parent\n",
    "4. Candidate mutations must not be present in any other samples (except siblings)\n",
    "5. Candidate mutations must not have low allelic depth in the offspring"
   ]
  },
  {
   "cell_type": "markdown",
   "id": "1d3b84ed-b071-4689-b09c-9ab7144ca41b",
   "metadata": {},
   "source": [
    "## GATK calls"
   ]
  },
  {
   "cell_type": "code",
   "execution_count": 23,
   "id": "ee9143c9",
   "metadata": {
    "scrolled": true
   },
   "outputs": [
    {
     "name": "stdout",
     "output_type": "stream",
     "text": [
      "[1] \"est/FG29.singleton.vcf.gz\"\n",
      "[1] \"est/FG30.singleton.vcf.gz\"\n",
      "[1] \"est/FG33.singleton.vcf.gz\"\n",
      "[1] \"est/NorbertW853.singleton.vcf.gz\"\n",
      "[1] \"est/NorbertW740.singleton.vcf.gz\"\n",
      "[1] \"est/NorbertW756.singleton.vcf.gz\"\n",
      "[1] \"est/NorbertW802.singleton.vcf.gz\"\n",
      "[1] \"est/ToothlessL824.singleton.vcf.gz\"\n",
      "[1] \"est/ToothlessL960.singleton.vcf.gz\"\n",
      "[1] \"FG29\"\n",
      "Joining with `by = join_by(UNIQ)`\n",
      "Joining with `by = join_by(UNIQ)`\n",
      "Joining with `by = join_by(UNIQ)`\n",
      "[1] \"FG30\"\n",
      "Joining with `by = join_by(UNIQ)`\n",
      "Joining with `by = join_by(UNIQ)`\n",
      "Joining with `by = join_by(UNIQ)`\n",
      "[1] \"FG33\"\n",
      "Joining with `by = join_by(UNIQ)`\n",
      "Joining with `by = join_by(UNIQ)`\n",
      "Joining with `by = join_by(UNIQ)`\n",
      "[1] \"NorbertW853\"\n",
      "Joining with `by = join_by(UNIQ)`\n",
      "Joining with `by = join_by(UNIQ)`\n",
      "Joining with `by = join_by(UNIQ)`\n",
      "[1] \"NorbertW740\"\n",
      "Joining with `by = join_by(UNIQ)`\n",
      "Joining with `by = join_by(UNIQ)`\n",
      "Joining with `by = join_by(UNIQ)`\n",
      "[1] \"NorbertW756\"\n",
      "Joining with `by = join_by(UNIQ)`\n",
      "Joining with `by = join_by(UNIQ)`\n",
      "Joining with `by = join_by(UNIQ)`\n",
      "[1] \"NorbertW802\"\n",
      "Joining with `by = join_by(UNIQ)`\n",
      "Joining with `by = join_by(UNIQ)`\n",
      "Joining with `by = join_by(UNIQ)`\n",
      "[1] \"ToothlessL824\"\n",
      "Joining with `by = join_by(UNIQ)`\n",
      "Joining with `by = join_by(UNIQ)`\n",
      "Joining with `by = join_by(UNIQ)`\n",
      "[1] \"ToothlessL960\"\n",
      "Joining with `by = join_by(UNIQ)`\n",
      "Joining with `by = join_by(UNIQ)`\n",
      "Joining with `by = join_by(UNIQ)`\n"
     ]
    }
   ],
   "source": [
    "%%R\n",
    "rel = fread('poplists/families.txt')\n",
    "samples = rel %>% filter(Relationship == 'Child') %>% pull(sampleName)\n",
    "\n",
    "var_dfs = list()\n",
    "for (SAMPLE in samples){\n",
    "    vcfpath = paste0('est/',SAMPLE,'.singleton.vcf.gz')\n",
    "    print(vcfpath)\n",
    "    vars = fread(cmd = (paste0('bgzip -dc ',vcfpath,' | grep -v \"#\"')),sep=\"\\t\") %>% dplyr::select(!V8)\n",
    "    cols = fread(cmd = (paste0('bgzip -dc ',vcfpath,' | grep \"#CHROM\" | sed \"s/#//g\"')),sep=\"\\t\") %>% dplyr::select(!INFO)\n",
    "    vars %<>% set_colnames(colnames(cols)) %>% mutate(UNIQ = paste0(CHROM,'_',POS))\n",
    "    vars %<>%\n",
    "    separate_longer_delim(.,-c(CHROM, POS, ID, REF, ALT, QUAL, FILTER, UNIQ), delim = \":\") %>% \n",
    "    pivot_longer(-c(CHROM, POS, ID, REF, ALT, QUAL, FILTER, FORMAT, UNIQ))\n",
    "    vars %<>% left_join(., \n",
    "                        rel %>% dplyr::select(sampleName,Relationship) %>% unique, \n",
    "                        by = c('name' = 'sampleName'))\n",
    "    var_dfs[[SAMPLE]] = vars\n",
    "}\n",
    "\n",
    "\n",
    "candidates = list()\n",
    "for (SAMPLE in samples){\n",
    "    print(SAMPLE)\n",
    "    input = var_dfs[[SAMPLE]]\n",
    "    #print(head(input))\n",
    "\n",
    "    ## The below section takes care of allelic bias and presence of alternate allele reads (however few) in parents\n",
    "    AD_fail =\n",
    "        var_dfs[[SAMPLE]] %>% \n",
    "        filter(FORMAT == 'AD') %>%\n",
    "        separate_wider_delim(.,value, names = c('ref','alt'), delim=',') %>% \n",
    "        mutate(across(c('ref', 'alt'), ~as.numeric(.))) %>%\n",
    "        mutate(freq = pmin(alt,ref)/(ref + alt)) %>%\n",
    "        mutate(ADPASS = ifelse((name == SAMPLE & freq < 0.30),0,1)) %>%\n",
    "        mutate(ADPASS = ifelse((Relationship == 'Parent' & freq != 0.00),0,ADPASS))\n",
    "    \n",
    "    AD_pass_sites = \n",
    "        AD_fail %>% \n",
    "        group_by(UNIQ) %>%\n",
    "        summarize(ADPASS = sum(ADPASS)) %>%\n",
    "        ungroup %>% \n",
    "        dplyr::select(UNIQ, ADPASS)\n",
    "    \n",
    "    ## This is simple genotype quality\n",
    "    GQ_pass_sites = \n",
    "        var_dfs[[SAMPLE]] %>%\n",
    "        filter(FORMAT == 'GQ') %>%\n",
    "        mutate(value = as.numeric(value)) %>%\n",
    "        mutate(GQPASS = ifelse(value <= 60,0,1)) %>%\n",
    "        group_by(UNIQ) %>%\n",
    "        summarize(GQPASS = sum(GQPASS)) %>%\n",
    "        ungroup %>% \n",
    "        #filter(GQPASS == 3) %>%\n",
    "        dplyr::select(UNIQ,GQPASS) \n",
    "    \n",
    "    \n",
    "    ## DP\n",
    "    DP_pass_sites =\n",
    "        var_dfs[[SAMPLE]] %>%\n",
    "        filter(FORMAT == 'DP') %>%\n",
    "        mutate(value = as.numeric(value)) %>%\n",
    "        mutate(DPPASS = ifelse(value < 10,0,1)) %>%\n",
    "        group_by(UNIQ) %>%\n",
    "        summarize(DPPASS = sum(DPPASS)) %>%\n",
    "        ungroup %>% \n",
    "        dplyr::select(UNIQ,DPPASS)\n",
    "    \n",
    "    \n",
    "    ## \n",
    "    final =\n",
    "        var_dfs[[SAMPLE]] %>% \n",
    "        left_join(.,AD_pass_sites) %>%\n",
    "        left_join(.,GQ_pass_sites) %>%\n",
    "        left_join(.,DP_pass_sites) %>%\n",
    "        mutate(start = POS - 1, end = POS) %>%\n",
    "        filter(name == SAMPLE, FORMAT == 'AD') %>%\n",
    "        dplyr::select(CHROM, start, end, REF, ALT, name, value, ADPASS, GQPASS, DPPASS) %>%\n",
    "        filter(ADPASS == 3, GQPASS ==3, DPPASS == 3) %>% \n",
    "        group_by(CHROM) %>%\n",
    "        mutate(d_last = start - lag(end), d_next = lead(start)- end) %>%\n",
    "        ungroup %>%\n",
    "        filter(is.na(d_next)|d_next > 200) %>%\n",
    "        filter(is.na(d_last)|d_last > 200)\n",
    "    \n",
    "    candidates[[SAMPLE]] = final %>% mutate(sample = SAMPLE)\n",
    "    fwrite(final %>% \n",
    "           dplyr::select(CHROM,start,end,REF,ALT,value, d_last, d_next), \n",
    "                            paste0('est/',SAMPLE,'_candidates.bed'), sep = \"\\t\", col.names = FALSE, na='NA', quote = F)\n",
    "    \n",
    "}\n",
    "\n",
    "candidates = bind_rows(candidates)"
   ]
  },
  {
   "cell_type": "code",
   "execution_count": 24,
   "id": "06274ebb-e15c-4147-a421-b361728232bd",
   "metadata": {},
   "outputs": [
    {
     "name": "stdout",
     "output_type": "stream",
     "text": [
      "`summarise()` has grouped output by 'CHROM'. You can override using the\n",
      "`.groups` argument.\n",
      "# A tibble: 2,391 × 3\n",
      "# Groups:   CHROM [18]\n",
      "   CHROM                end count\n",
      "   <chr>              <int> <int>\n",
      " 1 HiC_scaffold_10 48095344     5\n",
      " 2 HiC_scaffold_16 10365509     5\n",
      " 3 HiC_scaffold_5   7489985     5\n",
      " 4 HiC_scaffold_6  30066215     5\n",
      " 5 HiC_scaffold_1  43444738     4\n",
      " 6 HiC_scaffold_12  6043046     4\n",
      " 7 HiC_scaffold_14 30143822     4\n",
      " 8 HiC_scaffold_15 44734311     4\n",
      " 9 HiC_scaffold_18  7933185     4\n",
      "10 HiC_scaffold_2  58657682     4\n",
      "# ℹ 2,381 more rows\n",
      "# ℹ Use `print(n = ...)` to see more rows\n"
     ]
    }
   ],
   "source": [
    "%%R\n",
    "candidates %>%\n",
    "    group_by(CHROM,end) %>% \n",
    "    summarize(count = n()) %>%\n",
    "    arrange(desc(count))"
   ]
  },
  {
   "cell_type": "markdown",
   "id": "c9205021-a50d-4f27-a5f4-cdf77eadb91e",
   "metadata": {},
   "source": [
    "## Bcftools calls"
   ]
  },
  {
   "cell_type": "markdown",
   "id": "1d1c632f-78d5-400d-807f-c5c4d3472e98",
   "metadata": {},
   "source": [
    "Read in and combine with GATK calls above"
   ]
  },
  {
   "cell_type": "code",
   "execution_count": 25,
   "id": "30b2a7ed-27ee-4bac-bf75-8fceb55fdbfe",
   "metadata": {
    "editable": true,
    "slideshow": {
     "slide_type": ""
    },
    "tags": []
   },
   "outputs": [
    {
     "name": "stdout",
     "output_type": "stream",
     "text": [
      "[1] \"bcftools/est/FG29.singleton.vcf.gz\"\n",
      "[1] \"bcftools/est/FG30.singleton.vcf.gz\"\n",
      "[1] \"bcftools/est/FG33.singleton.vcf.gz\"\n",
      "[1] \"bcftools/est/NorbertW853.singleton.vcf.gz\"\n",
      "[1] \"bcftools/est/NorbertW740.singleton.vcf.gz\"\n",
      "[1] \"bcftools/est/NorbertW756.singleton.vcf.gz\"\n",
      "[1] \"bcftools/est/NorbertW802.singleton.vcf.gz\"\n",
      "[1] \"bcftools/est/ToothlessL824.singleton.vcf.gz\"\n",
      "[1] \"bcftools/est/ToothlessL960.singleton.vcf.gz\"\n",
      "[1] \"FG29\"\n",
      "Joining with `by = join_by(UNIQ)`\n",
      "Joining with `by = join_by(UNIQ)`\n",
      "[1] \"FG30\"\n",
      "Joining with `by = join_by(UNIQ)`\n",
      "Joining with `by = join_by(UNIQ)`\n",
      "[1] \"FG33\"\n",
      "Joining with `by = join_by(UNIQ)`\n",
      "Joining with `by = join_by(UNIQ)`\n",
      "[1] \"NorbertW853\"\n",
      "Joining with `by = join_by(UNIQ)`\n",
      "Joining with `by = join_by(UNIQ)`\n",
      "[1] \"NorbertW740\"\n",
      "Joining with `by = join_by(UNIQ)`\n",
      "Joining with `by = join_by(UNIQ)`\n",
      "[1] \"NorbertW756\"\n",
      "Joining with `by = join_by(UNIQ)`\n",
      "Joining with `by = join_by(UNIQ)`\n",
      "[1] \"NorbertW802\"\n",
      "Joining with `by = join_by(UNIQ)`\n",
      "Joining with `by = join_by(UNIQ)`\n",
      "[1] \"ToothlessL824\"\n",
      "Joining with `by = join_by(UNIQ)`\n",
      "Joining with `by = join_by(UNIQ)`\n",
      "[1] \"ToothlessL960\"\n",
      "Joining with `by = join_by(UNIQ)`\n",
      "Joining with `by = join_by(UNIQ)`\n"
     ]
    }
   ],
   "source": [
    "%%R\n",
    "rel = fread('poplists/families.txt')\n",
    "samples = rel %>% filter(Relationship == 'Child') %>% pull(sampleName)\n",
    "\n",
    "var_dfs = list()\n",
    "for (SAMPLE in samples){\n",
    "    vcfpath = paste0('bcftools/est/',SAMPLE,'.singleton.vcf.gz')\n",
    "    print(vcfpath)\n",
    "    vars = fread(cmd = (paste0('bgzip -dc ',vcfpath,' | grep -v \"#\"')),sep=\"\\t\") %>% dplyr::select(!V8)\n",
    "    cols = fread(cmd = (paste0('bgzip -dc ',vcfpath,' | grep \"#CHROM\" | sed \"s/#//g\"')),sep=\"\\t\") %>% dplyr::select(!INFO)\n",
    "    vars %<>% set_colnames(colnames(cols)) %>% mutate(UNIQ = paste0(CHROM,'_',POS))\n",
    "    vars %<>%\n",
    "    separate_longer_delim(.,-c(CHROM, POS, ID, REF, ALT, QUAL, FILTER, UNIQ), delim = \":\") %>% \n",
    "    pivot_longer(-c(CHROM, POS, ID, REF, ALT, QUAL, FILTER, FORMAT, UNIQ))\n",
    "    vars %<>% left_join(., \n",
    "                        rel %>% dplyr::select(sampleName,Relationship) %>% unique, \n",
    "                        by = c('name' = 'sampleName'))\n",
    "    var_dfs[[SAMPLE]] = vars\n",
    "}\n",
    "\n",
    "bcf_candidates = list()\n",
    "for (SAMPLE in samples){\n",
    "    print(SAMPLE)\n",
    "    input = var_dfs[[SAMPLE]]\n",
    "\n",
    "    ## The below section takes care of allelic bias and presence of alternate allele reads (however few) in parents\n",
    "    AD_fail =\n",
    "        var_dfs[[SAMPLE]] %>% \n",
    "        filter(FORMAT == 'AD') %>%\n",
    "        separate_wider_delim(.,value, names = c('ref','alt'), delim=',') %>% \n",
    "        mutate(across(c('ref', 'alt'), ~as.numeric(.))) %>%\n",
    "        mutate(freq = pmin(alt,ref)/(ref + alt)) %>%\n",
    "        mutate(ADPASS = ifelse((name == SAMPLE & freq < 0.30),0,1)) %>%\n",
    "        mutate(ADPASS = ifelse((Relationship == 'Parent' & freq != 0.00),0,ADPASS))\n",
    "    \n",
    "    AD_pass_sites = \n",
    "        AD_fail %>% \n",
    "        group_by(UNIQ) %>%\n",
    "        summarize(ADPASS = sum(ADPASS)) %>%\n",
    "        ungroup %>% \n",
    "        dplyr::select(UNIQ, ADPASS)\n",
    "    \n",
    "    ### This is simple genotype quality\n",
    "    ### NO GQ FIELD AVAILABLE HERE\n",
    "    #GQ_pass_sites = \n",
    "    #    var_dfs[[SAMPLE]] %>%\n",
    "    #    filter(FORMAT == 'GQ') %>%\n",
    "    #    mutate(value = as.numeric(value)) %>%\n",
    "    #    mutate(GQPASS = ifelse(value <= 60,0,1)) %>%\n",
    "    #    group_by(UNIQ) %>%\n",
    "    #    summarize(GQPASS = sum(GQPASS)) %>%\n",
    "    #    ungroup %>% \n",
    "    #    #filter(GQPASS == 3) %>%\n",
    "    #    dplyr::select(UNIQ,GQPASS) \n",
    "    \n",
    "    \n",
    "    ## DP\n",
    "    DP_pass_sites =\n",
    "        var_dfs[[SAMPLE]] %>%\n",
    "        filter(FORMAT == 'DP') %>%\n",
    "        mutate(value = as.numeric(value)) %>%\n",
    "        mutate(DPPASS = ifelse(value < 10,0,1)) %>%\n",
    "        group_by(UNIQ) %>%\n",
    "        summarize(DPPASS = sum(DPPASS)) %>%\n",
    "        ungroup %>% \n",
    "        dplyr::select(UNIQ,DPPASS)\n",
    "    \n",
    "    \n",
    "    ## \n",
    "    final =\n",
    "        var_dfs[[SAMPLE]] %>% \n",
    "        left_join(.,AD_pass_sites) %>%\n",
    "        #left_join(.,GQ_pass_sites) %>%\n",
    "        left_join(.,DP_pass_sites) %>%\n",
    "        mutate(start = POS - 1, end = POS) %>%\n",
    "        filter(name == SAMPLE, FORMAT == 'AD') %>%\n",
    "        dplyr::select(CHROM, start, end, REF, ALT, name, value, ADPASS, DPPASS) %>%\n",
    "        filter(ADPASS == 3, DPPASS == 3) %>% \n",
    "        group_by(CHROM) %>%\n",
    "        mutate(d_last = start - lag(end), d_next = lead(start)- end) %>%\n",
    "        ungroup %>%\n",
    "        filter(is.na(d_next)|d_next > 200) %>%\n",
    "        filter(is.na(d_last)|d_last > 200)\n",
    "    \n",
    "    bcf_candidates[[SAMPLE]] = final %>% mutate(sample = SAMPLE)\n",
    "    fwrite(final %>% \n",
    "           dplyr::select(CHROM,start,end,REF,ALT,value, d_last, d_next), \n",
    "                            paste0('bcftools/est/',SAMPLE,'_candidates.bed'), sep = \"\\t\", col.names = FALSE, na='NA', quote = F)\n",
    "    \n",
    "}\n",
    "\n",
    "bcf_candidates = bind_rows(bcf_candidates)"
   ]
  },
  {
   "cell_type": "markdown",
   "id": "102a2fc1-9213-46b7-b414-64bf502ba440",
   "metadata": {},
   "source": [
    "Merge GATK and bcftools below"
   ]
  },
  {
   "cell_type": "code",
   "execution_count": 26,
   "id": "21a4bb86-f8ea-4faf-a361-d9fd771617b7",
   "metadata": {
    "scrolled": true
   },
   "outputs": [
    {
     "name": "stdout",
     "output_type": "stream",
     "text": [
      "# A tibble: 126 × 8\n",
      "    CHROM              start      end REF   ALT   sample         GATK bcftools\n",
      "    <chr>              <dbl>    <int> <chr> <chr> <chr>         <dbl>    <dbl>\n",
      "  1 HiC_scaffold_2  20345372 20345373 A     G     FG29              1        1\n",
      "  2 HiC_scaffold_2  67338091 67338092 T     A     FG29              1        1\n",
      "  3 HiC_scaffold_2  71549310 71549311 G     A     FG29              1        1\n",
      "  4 HiC_scaffold_3  28123510 28123511 C     A     FG29              1        1\n",
      "  5 HiC_scaffold_3  31079938 31079939 G     C     FG29              1        1\n",
      "  6 HiC_scaffold_4  10968218 10968219 C     G     FG29              1        1\n",
      "  7 HiC_scaffold_5  17481102 17481103 T     G     FG29              1        1\n",
      "  8 HiC_scaffold_5  34285238 34285239 G     T     FG29              1        1\n",
      "  9 HiC_scaffold_5  56747004 56747005 C     T     FG29              1        1\n",
      " 10 HiC_scaffold_6  20837340 20837341 C     G     FG29              1        1\n",
      " 11 HiC_scaffold_7  33841068 33841069 C     T     FG29              1        1\n",
      " 12 HiC_scaffold_9  55177073 55177074 T     G     FG29              1        1\n",
      " 13 HiC_scaffold_10  6202422  6202423 G     A     FG29              1        1\n",
      " 14 HiC_scaffold_10 54470578 54470579 G     A     FG29              1        1\n",
      " 15 HiC_scaffold_11  5666173  5666174 C     T     FG29              1        1\n",
      " 16 HiC_scaffold_11 47449978 47449979 G     T     FG29              1        1\n",
      " 17 HiC_scaffold_12 27190335 27190336 T     C     FG29              1        1\n",
      " 18 HiC_scaffold_14 31764071 31764072 G     A     FG29              1        1\n",
      " 19 HiC_scaffold_15 10189581 10189582 G     A     FG29              1        1\n",
      " 20 HiC_scaffold_15 12333743 12333744 C     T     FG29              1        1\n",
      " 21 HiC_scaffold_15 27923854 27923855 A     T     FG29              1        1\n",
      " 22 HiC_scaffold_15 31631911 31631912 C     A     FG29              1        1\n",
      " 23 HiC_scaffold_17 35289449 35289450 G     T     FG29              1        1\n",
      " 24 HiC_scaffold_2  12152240 12152241 T     C     FG30              1        1\n",
      " 25 HiC_scaffold_2  20345372 20345373 A     G     FG30              1        1\n",
      " 26 HiC_scaffold_2  64182269 64182270 C     A     FG30              1        1\n",
      " 27 HiC_scaffold_7  47655643 47655644 C     T     FG30              1        1\n",
      " 28 HiC_scaffold_11 11971811 11971812 A     T     FG30              1        1\n",
      " 29 HiC_scaffold_13  2046468  2046469 T     A     FG30              1        1\n",
      " 30 HiC_scaffold_13 37482984 37482985 T     G     FG30              1        1\n",
      " 31 HiC_scaffold_14  5763438  5763439 A     C     FG30              1        1\n",
      " 32 HiC_scaffold_16 32359683 32359684 C     G     FG30              1        1\n",
      " 33 HiC_scaffold_16 43758122 43758123 C     A     FG30              1        1\n",
      " 34 HiC_scaffold_16 45181553 45181554 A     C     FG30              1        1\n",
      " 35 HiC_scaffold_1  51016392 51016393 G     T     FG33              1        1\n",
      " 36 HiC_scaffold_4   6032373  6032374 T     C     FG33              1        1\n",
      " 37 HiC_scaffold_4   6842929  6842930 T     C     FG33              1        1\n",
      " 38 HiC_scaffold_4   8785696  8785697 C     T     FG33              1        1\n",
      " 39 HiC_scaffold_4   9688221  9688222 A     T     FG33              1        1\n",
      " 40 HiC_scaffold_4  10968218 10968219 C     G     FG33              1        1\n",
      " 41 HiC_scaffold_5  17481102 17481103 T     G     FG33              1        1\n",
      " 42 HiC_scaffold_5  21326718 21326719 G     C     FG33              1        1\n",
      " 43 HiC_scaffold_5  45739036 45739037 T     A     FG33              1        1\n",
      " 44 HiC_scaffold_6  41743405 41743406 G     C     FG33              1        1\n",
      " 45 HiC_scaffold_6  49235550 49235551 C     G     FG33              1        1\n",
      " 46 HiC_scaffold_6  51064681 51064682 G     A     FG33              1        1\n",
      " 47 HiC_scaffold_7  31541473 31541474 G     C     FG33              1        1\n",
      " 48 HiC_scaffold_7  48555014 48555015 T     A     FG33              1        1\n",
      " 49 HiC_scaffold_13 57947702 57947703 C     A     FG33              1        1\n",
      " 50 HiC_scaffold_14  5763438  5763439 A     C     FG33              1        1\n",
      " 51 HiC_scaffold_15 29774325 29774326 G     C     FG33              1        1\n",
      " 52 HiC_scaffold_16 43182378 43182379 C     T     FG33              1        1\n",
      " 53 HiC_scaffold_17 22164370 22164371 G     C     FG33              1        1\n",
      " 54 HiC_scaffold_2  31835901 31835902 T     C     NorbertW853       1        1\n",
      " 55 HiC_scaffold_2  66199100 66199101 C     T     NorbertW853       1        1\n",
      " 56 HiC_scaffold_3   7022660  7022661 A     T     NorbertW853       1        1\n",
      " 57 HiC_scaffold_3   8108460  8108461 C     T     NorbertW853       1        1\n",
      " 58 HiC_scaffold_3  23710970 23710971 G     A     NorbertW853       1        1\n",
      " 59 HiC_scaffold_3  39551501 39551502 C     G     NorbertW853       1        1\n",
      " 60 HiC_scaffold_4  37670769 37670770 G     A     NorbertW853       1        1\n",
      " 61 HiC_scaffold_7  49030321 49030322 G     A     NorbertW853       1        1\n",
      " 62 HiC_scaffold_8  48129883 48129884 C     T     NorbertW853       1        1\n",
      " 63 HiC_scaffold_8  61265371 61265372 A     G     NorbertW853       1        1\n",
      " 64 HiC_scaffold_10 20957840 20957841 G     A     NorbertW853       1        1\n",
      " 65 HiC_scaffold_10 20982100 20982101 T     A     NorbertW853       1        1\n",
      " 66 HiC_scaffold_10 48135771 48135772 G     C     NorbertW853       1        1\n",
      " 67 HiC_scaffold_11 10151234 10151235 A     T     NorbertW853       1        1\n",
      " 68 HiC_scaffold_16  5510720  5510721 G     A     NorbertW853       1        1\n",
      " 69 HiC_scaffold_17 21537280 21537281 T     A     NorbertW853       1        1\n",
      " 70 HiC_scaffold_18 20932369 20932370 G     C     NorbertW853       1        1\n",
      " 71 HiC_scaffold_3   1467178  1467179 C     A     NorbertW740       1        1\n",
      " 72 HiC_scaffold_4  54454190 54454191 T     C     NorbertW740       1        1\n",
      " 73 HiC_scaffold_7  24123009 24123010 G     T     NorbertW740       1        1\n",
      " 74 HiC_scaffold_9  25871202 25871203 C     T     NorbertW740       1        1\n",
      " 75 HiC_scaffold_10 16544715 16544716 G     A     NorbertW740       1        1\n",
      " 76 HiC_scaffold_13 16568119 16568120 G     A     NorbertW740       1        1\n",
      " 77 HiC_scaffold_14 50782953 50782954 T     C     NorbertW740       1        1\n",
      " 78 HiC_scaffold_16 24471654 24471655 T     C     NorbertW740       1        1\n",
      " 79 HiC_scaffold_18  7933184  7933185 A     G     NorbertW740       1        1\n",
      " 80 HiC_scaffold_18 20932369 20932370 G     C     NorbertW740       1        1\n",
      " 81 HiC_scaffold_1  39792912 39792913 G     A     NorbertW756       1        1\n",
      " 82 HiC_scaffold_3   8108460  8108461 C     T     NorbertW756       1        1\n",
      " 83 HiC_scaffold_3  23710970 23710971 G     A     NorbertW756       1        1\n",
      " 84 HiC_scaffold_3  29198869 29198870 A     T     NorbertW756       1        1\n",
      " 85 HiC_scaffold_4   1618125  1618126 T     G     NorbertW756       1        1\n",
      " 86 HiC_scaffold_4   7399245  7399246 C     T     NorbertW756       1        1\n",
      " 87 HiC_scaffold_6  56619377 56619378 T     C     NorbertW756       1        1\n",
      " 88 HiC_scaffold_6  69019508 69019509 C     A     NorbertW756       1        1\n",
      " 89 HiC_scaffold_7  24123009 24123010 G     T     NorbertW756       1        1\n",
      " 90 HiC_scaffold_12 28098443 28098444 G     A     NorbertW756       1        1\n",
      " 91 HiC_scaffold_18  5576792  5576793 T     A     NorbertW756       1        1\n",
      " 92 HiC_scaffold_18  7933184  7933185 A     G     NorbertW756       1        1\n",
      " 93 HiC_scaffold_18 20932369 20932370 G     C     NorbertW756       1        1\n",
      " 94 HiC_scaffold_1  48449274 48449275 T     A     NorbertW802       1        1\n",
      " 95 HiC_scaffold_1  87217394 87217395 G     T     NorbertW802       1        1\n",
      " 96 HiC_scaffold_3   8108460  8108461 C     T     NorbertW802       1        1\n",
      " 97 HiC_scaffold_3  23710970 23710971 G     A     NorbertW802       1        1\n",
      " 98 HiC_scaffold_4   3018727  3018728 C     T     NorbertW802       1        1\n",
      " 99 HiC_scaffold_6  16441447 16441448 G     A     NorbertW802       1        1\n",
      "100 HiC_scaffold_8  50069496 50069497 A     T     NorbertW802       1        1\n",
      "101 HiC_scaffold_10 20957840 20957841 G     A     NorbertW802       1        1\n",
      "102 HiC_scaffold_10 20982100 20982101 T     A     NorbertW802       1        1\n",
      "103 HiC_scaffold_10 48135771 48135772 G     C     NorbertW802       1        1\n",
      "104 HiC_scaffold_12 10406216 10406217 G     A     NorbertW802       1        1\n",
      "105 HiC_scaffold_12 12518602 12518603 G     C     NorbertW802       1        1\n",
      "106 HiC_scaffold_13 52062399 52062400 T     C     NorbertW802       1        1\n",
      "107 HiC_scaffold_16 51322843 51322844 C     A     NorbertW802       1        1\n",
      "108 HiC_scaffold_17 21537280 21537281 T     A     NorbertW802       1        1\n",
      "109 HiC_scaffold_18  7933184  7933185 A     G     NorbertW802       1        1\n",
      "110 HiC_scaffold_4  72889403 72889404 A     C     ToothlessL824     1        1\n",
      "111 HiC_scaffold_6  41367342 41367343 T     C     ToothlessL824     1        1\n",
      "112 HiC_scaffold_7  24369086 24369087 C     A     ToothlessL824     1        1\n",
      "113 HiC_scaffold_11 51469515 51469516 A     G     ToothlessL824     1        1\n",
      "114 HiC_scaffold_16 16565415 16565416 A     G     ToothlessL824     1        1\n",
      "115 HiC_scaffold_18  7933184  7933185 A     G     ToothlessL824     1        1\n",
      "116 HiC_scaffold_6  22617314 22617315 C     T     ToothlessL960     1        1\n",
      "117 HiC_scaffold_7  24123009 24123010 G     T     ToothlessL960     1        1\n",
      "118 HiC_scaffold_8  50474106 50474107 G     A     ToothlessL960     1        1\n",
      "119 HiC_scaffold_9  27079288 27079289 C     T     ToothlessL960     1        1\n",
      "120 HiC_scaffold_9  42092584 42092585 C     G     ToothlessL960     1        1\n",
      "121 HiC_scaffold_10 44646255 44646256 A     G     ToothlessL960     1        1\n",
      "122 HiC_scaffold_11 30035456 30035457 T     C     ToothlessL960     1        1\n",
      "123 HiC_scaffold_11 44319500 44319501 A     G     ToothlessL960     1        1\n",
      "124 HiC_scaffold_16  7894734  7894735 T     C     ToothlessL960     1        1\n",
      "125 HiC_scaffold_17 22058068 22058069 A     G     ToothlessL960     1        1\n",
      "126 HiC_scaffold_18 39638851 39638852 T     C     ToothlessL960     1        1\n"
     ]
    }
   ],
   "source": [
    "%%R\n",
    "combined = \n",
    "    full_join(\n",
    "        candidates %>% dplyr::select(CHROM,start,end,REF,ALT,sample) %>% mutate(GATK = 1),\n",
    "        bcf_candidates %>% dplyr::select(CHROM,start,end,REF,ALT, sample) %>% mutate(bcftools = 1),\n",
    "        by = c('CHROM','start','end','sample','REF','ALT')) %>%\n",
    "    mutate(GATK = ifelse(is.na(GATK),0,GATK), bcftools = ifelse(is.na(bcftools),0,bcftools))\n",
    "\n",
    "combined %>% \n",
    "filter(GATK == 1, bcftools == 1) %>%\n",
    "print(n = Inf)"
   ]
  },
  {
   "cell_type": "markdown",
   "id": "9fb27bb2-f6e7-4015-ba74-7f80d2e1c039",
   "metadata": {},
   "source": [
    "## Sanity checks"
   ]
  },
  {
   "cell_type": "markdown",
   "id": "e4d26faf-b886-4227-a3de-6fc74327be3f",
   "metadata": {},
   "source": [
    "What types of variants aren't found by both GATK and bcftools?"
   ]
  },
  {
   "cell_type": "code",
   "execution_count": 27,
   "id": "845dd683-a5b9-4956-b2e7-34b31126ca6a",
   "metadata": {},
   "outputs": [],
   "source": [
    "%%R\n",
    "combined %>%\n",
    "    filter(GATK == 1, bcftools == 0) %>% \n",
    "    sample_n(10) %>%\n",
    "    dplyr::select(CHROM,start,end) %>%\n",
    "    fwrite('misc/gatk_1_bcftools_0.bed',col.names = F, sep = \"\\t\")\n",
    "\n",
    "combined %>%\n",
    "    filter(GATK == 0, bcftools == 1) %>% \n",
    "    sample_n(10) %>%\n",
    "    dplyr::select(CHROM,start,end) %>%\n",
    "    fwrite('misc/gatk_0_bcftools_1.bed',col.names = F, sep = \"\\t\")"
   ]
  },
  {
   "cell_type": "markdown",
   "id": "02337044-5b1a-42ad-8f1a-8bdb794d2e6e",
   "metadata": {},
   "source": [
    "Take these regions and extract the bams to look at them in IGV"
   ]
  },
  {
   "cell_type": "code",
   "execution_count": 46,
   "id": "398f94ac-29db-49e1-999f-43511a3add73",
   "metadata": {},
   "outputs": [],
   "source": [
    "%%bash\n",
    "bedtools sort -i misc/gatk_1_bcftools_0.bed | bedtools slop -b 150 -g white_abalone.genome | bedtools merge -i stdin > misc/gatk_1_bcftools_0_m150.bed\n",
    "bedtools sort -i misc/gatk_0_bcftools_1.bed | bedtools slop -b 150 -g white_abalone.genome | bedtools merge -i stdin > misc/gatk_0_bcftools_1_m150.bed"
   ]
  },
  {
   "cell_type": "code",
   "execution_count": 8,
   "id": "30d867dc-3d4d-4bae-ba50-d1a88a2d9826",
   "metadata": {},
   "outputs": [],
   "source": [
    "!mkdir -p misc/sanity/\n",
    "for SAMPLE in samples:\n",
    "        if SAMPLE in ['NorbertW756','NorbertW802','Y121']:\n",
    "            bam = f\"aln/{SAMPLE}.combined.mdup.bam\"\n",
    "        else:\n",
    "            bam = f\"aln/{SAMPLE}.mdup.bam\"\n",
    "\n",
    "        cmd = ('''samtools view -@ 4 -L <(cat misc/*m150.bed) '''\n",
    "               '''{bam} -b > misc/sanity/{SAMPLE}_candidates.bam && samtools index misc/sanity/{SAMPLE}_candidates.bam\\n''').format(SAMPLE = SAMPLE, bam = bam)\n",
    "        slurm = make_slurm(run = False, echo = False, id = f\"{SAMPLE}_extract\",cmd_string = cmd, mem = '20000', time = '04:00:00', c = 4, p = 'long')"
   ]
  },
  {
   "cell_type": "markdown",
   "id": "6ecfd9e5-ec4d-41b7-8b9b-f9f0e3c6e321",
   "metadata": {},
   "source": [
    "A lot of these calls that are found in one and not the other indeed look iffy in IGV "
   ]
  },
  {
   "cell_type": "markdown",
   "id": "b9a1fa61-aaf6-48a5-9125-b3103eb3f2a0",
   "metadata": {},
   "source": [
    "## Calculate raw rates"
   ]
  },
  {
   "cell_type": "code",
   "execution_count": 28,
   "id": "d3ede507-4515-427d-90e1-e7bb0edf22f1",
   "metadata": {},
   "outputs": [
    {
     "name": "stdout",
     "output_type": "stream",
     "text": [
      "Joining with `by = join_by(famName)`\n",
      "# A tibble: 9 × 5\n",
      "  sample        count famName      size       rawrate\n",
      "  <chr>         <int> <chr>       <dbl>         <dbl>\n",
      "1 FG29             23 Fam1    891434842 0.0000000129 \n",
      "2 FG30             11 Fam1    891434842 0.00000000617\n",
      "3 FG33             19 Fam1    891434842 0.0000000107 \n",
      "4 NorbertW740      10 Fam2    898249068 0.00000000557\n",
      "5 NorbertW756      13 Fam2    898249068 0.00000000724\n",
      "6 NorbertW802      16 Fam2    898249068 0.00000000891\n",
      "7 NorbertW853      17 Fam2    898249068 0.00000000946\n",
      "8 ToothlessL824     6 Fam3    917622025 0.00000000327\n",
      "9 ToothlessL960    11 Fam3    917622025 0.00000000599\n"
     ]
    }
   ],
   "source": [
    "%%R\n",
    "call_chroms = fread('call_chroms.txt')\n",
    "gsize = sum(call_chroms$V2)\n",
    "pos = \n",
    "    fread('masks/Fam1_positive_REPINCLUDED_mask.bed') %>% \n",
    "    set_colnames(c('chrom','start','end')) %>% \n",
    "    mutate(size = end - start + 1) %>%\n",
    "    filter(chrom %in% call_chroms$V1)\n",
    "Fam1Size = (sum(pos$size))\n",
    "\n",
    "pos = \n",
    "    fread('masks/Fam2_positive_REPINCLUDED_mask.bed') %>% \n",
    "    set_colnames(c('chrom','start','end')) %>% \n",
    "    mutate(size = end - start + 1) %>%\n",
    "    filter(chrom %in% call_chroms$V1)\n",
    "Fam2Size = (sum(pos$size))\n",
    "\n",
    "\n",
    "pos = \n",
    "    fread('masks/Fam3_positive_REPINCLUDED_mask.bed') %>% \n",
    "    set_colnames(c('chrom','start','end')) %>% \n",
    "    mutate(size = end - start + 1) %>%\n",
    "    filter(chrom %in% call_chroms$V1)\n",
    "Fam3Size = (sum(pos$size))\n",
    "\n",
    "denom_sizes = data.frame(famName = c('Fam1','Fam2','Fam3'),size = c(Fam1Size,Fam2Size,Fam3Size))\n",
    "\n",
    "\n",
    "####\n",
    "\n",
    "rel = fread('poplists/families.txt')\n",
    "fi = \n",
    "    combined %>% \n",
    "    filter(GATK == 1, bcftools == 1) %>%\n",
    "    left_join(.,rel %>% dplyr::select(sampleName,famName),by = c('sample' = 'sampleName')) %>%\n",
    "    left_join(.,denom_sizes)\n",
    "\n",
    "fi %>%\n",
    "    group_by(sample) %>%\n",
    "    summarize(count = n(),famName = unique(famName), size = unique(size)) %>%\n",
    "    mutate(rawrate = count/(2*size))"
   ]
  },
  {
   "cell_type": "markdown",
   "id": "bd10d27a-056c-4689-b110-adbd18c19a3e",
   "metadata": {},
   "source": [
    "New mean"
   ]
  },
  {
   "cell_type": "code",
   "execution_count": 31,
   "id": "3d32e2e1-a46d-4a5e-848d-636ec3d95eb5",
   "metadata": {},
   "outputs": [
    {
     "data": {
      "image/png": "[encoded data removed]",
      "text/plain": [
       "<IPython.core.display.Image object>"
      ]
     },
     "metadata": {},
     "output_type": "display_data"
    }
   ],
   "source": [
    "%%R -w 300 -h 150\n",
    "input_df = \n",
    "    fi %>%\n",
    "    group_by(sample) %>%\n",
    "    summarize(count = n(),famName = unique(famName), size = unique(size)) %>%\n",
    "    mutate(rawrate = count/(2*size))\n",
    "ggplot(input_df,aes(x = rawrate, fill = famName)) +\n",
    "    geom_dotplot(binwidth=1e-09, dotsize = 0.5,method = 'histodot',stackgroups = TRUE) +\n",
    "    theme_classic()"
   ]
  },
  {
   "cell_type": "code",
   "execution_count": 35,
   "id": "445d3881-e984-466f-8bb8-b2c8d7862084",
   "metadata": {},
   "outputs": [
    {
     "name": "stdout",
     "output_type": "stream",
     "text": [
      "[1] 7.795798e-09\n"
     ]
    }
   ],
   "source": [
    "%%R\n",
    "mean(input_df$rawrate)"
   ]
  },
  {
   "cell_type": "code",
   "execution_count": 19,
   "id": "11125f22-0759-40a0-ab0e-e6b1841ae9be",
   "metadata": {
    "editable": true,
    "slideshow": {
     "slide_type": ""
    },
    "tags": []
   },
   "outputs": [],
   "source": [
    "%%R\n",
    "for (SAMPLE in samples){\n",
    "    fwrite(combined %>% filter(GATK == 1, bcftools == 1, sample == SAMPLE) %>% dplyr::select(CHROM,start,end,REF,ALT),\n",
    "            paste0('final/',SAMPLE,'_candidates.bed'),\n",
    "            sep=\"\\t\", col.names = F)\n",
    "}"
   ]
  },
  {
   "cell_type": "code",
   "execution_count": 20,
   "id": "99e4a01b-1f9a-4462-ac17-e58fe5a28bbe",
   "metadata": {},
   "outputs": [],
   "source": [
    "%%bash\n",
    "ls final/*candidates*bed | while read FILE;do\n",
    "    SAMPLE=$(basename $FILE | sed \"s/_candidates.bed//g\")\n",
    "    sed \"s/^/$SAMPLE\\t/g\" $FILE\n",
    "done > final/all_sample_by_candidates.txt"
   ]
  },
  {
   "cell_type": "markdown",
   "id": "451fe5d6-9d85-4e29-8a04-1056cbb1f0b0",
   "metadata": {},
   "source": [
    "## Identify sib mutations"
   ]
  },
  {
   "cell_type": "code",
   "execution_count": 36,
   "id": "22fc0616-ee2c-4d2e-a68f-07707d981ee3",
   "metadata": {},
   "outputs": [
    {
     "name": "stdout",
     "output_type": "stream",
     "text": [
      "`summarise()` has grouped output by 'CHROM'. You can override using the\n",
      "`.groups` argument.\n"
     ]
    }
   ],
   "source": [
    "%%R\n",
    "repeated = \n",
    "    fi %>%\n",
    "    group_by(CHROM,end) %>%\n",
    "    summarize(count = n()) %>% \n",
    "    arrange(desc(count)) %>%\n",
    "    ungroup %>%\n",
    "    filter(count > 1)\n",
    "dfs = list()\n",
    "\n",
    "for (I in seq(1,nrow(repeated),1)){\n",
    "    a = repeated[I,\"CHROM\"] %>% pull(CHROM)\n",
    "    b = repeated[I,\"end\"] %>% pull(end)\n",
    "    dfs[[I]] = fi %>% filter(CHROM == a, end == b)\n",
    "}\n",
    "summ = bind_rows(dfs)"
   ]
  },
  {
   "cell_type": "markdown",
   "id": "eb361b18-5563-48a9-8d15-2f81ca9908c3",
   "metadata": {},
   "source": [
    "Write out results"
   ]
  },
  {
   "cell_type": "markdown",
   "id": "ffbb6f4c",
   "metadata": {},
   "source": [
    "## False negatives and false positives"
   ]
  },
  {
   "attachments": {
    "image.png": {
     "image/png": "[encoded data removed]"
    }
   },
   "cell_type": "markdown",
   "id": "9f7231b6",
   "metadata": {},
   "source": [
    "![image.png](attachment:image.png)"
   ]
  },
  {
   "cell_type": "markdown",
   "id": "027e90e6",
   "metadata": {},
   "source": [
    "### FNR"
   ]
  },
  {
   "cell_type": "markdown",
   "id": "f6f0da60",
   "metadata": {},
   "source": [
    "How many true heterozygotes would get removed by my filters?"
   ]
  },
  {
   "cell_type": "markdown",
   "id": "7e02a3e3",
   "metadata": {},
   "source": [
    "First, for the denominator I need to obtain how many hets I should have based on the parental genotypes.<br>\n",
    "For true comparability, I need to remove things that aren't retained by both **bcftools & GATK**"
   ]
  },
  {
   "cell_type": "code",
   "execution_count": 11,
   "id": "7a7a8c36",
   "metadata": {},
   "outputs": [],
   "source": [
    "!mkdir -p fnr\n",
    "\n",
    "## Set up info\n",
    "x = pd.read_csv('poplists/families.txt',sep=\"\\t\")\n",
    "fam_2_samples = x.groupby('famName')['sampleName'].apply(list).to_dict()\n",
    "sample_2_ped = x.groupby('sampleName')['Relationship'].apply(list).to_dict()\n",
    "\n",
    "sources = {'./vcfs/biallelic.vcf.gz':'GATK',\n",
    "           './bcftools/biallelic.vcf.gz':'bcftools'}\n",
    "\n",
    "## Loop through families, properly ID parents and children\n",
    "for FAMILY, SAMPLELIST in fam_2_samples.items():\n",
    "    parentstring = ''\n",
    "    for SAMPLE in SAMPLELIST:\n",
    "        status = sample_2_ped[SAMPLE][0]\n",
    "        if status == 'Parent':\n",
    "            parentstring += f\"{SAMPLE},\"\n",
    "    for SAMPLE in SAMPLELIST:\n",
    "        status = sample_2_ped[SAMPLE][0]\n",
    "        if status == 'Child':\n",
    "            PT = re.sub(',.*$','',parentstring)\n",
    "\n",
    "            ## Loop through GATK and bcftools input\n",
    "            for INVCF, PREF in sources.items():\n",
    "                ## Get perfectly het samples\n",
    "                cmd = ( # For a family, the allele count should be EXACTLY 3, so I filter on this\n",
    "                        '''bcftools view --min-ac 3:minor --max-ac 3:minor -s {parentstring}{SAMPLE} {INVCF} | '''\n",
    "                        # Make sure parent 1 is homozygous for something\n",
    "                        '''bcftools view -i 'GT[0]=\"0/0\" | GT[0]=\"1/1\"' | '''\n",
    "                        # Make sure parent 2 is homozygous for something\n",
    "                        '''bcftools view -i 'GT[1]=\"0/0\" | GT[1]=\"1/1\"' | '''\n",
    "                        # Now apply masks\n",
    "                        '''vcftools --vcf - --bed masks/{FAMILY}_positive_REPINCLUDED_mask.bed --recode --recode-INFO-all --stdout | '''\n",
    "                        # Tidy up\n",
    "                        '''bgzip -f -c > fnr/{SAMPLE}_{PREF}_true_hets.vcf.gz && tabix -f fnr/{SAMPLE}_{PREF}_true_hets.vcf.gz\\n''').format(parentstring = parentstring, FAMILY = FAMILY, SAMPLE = SAMPLE, PREF = PREF, INVCF = INVCF)\n",
    "                slurm = make_slurm(run = False, echo = False, id = f\"{SAMPLE}_{PREF}.hets\", cmd_string = cmd, mem = '1000',time = '01:00:00', p = 'long')\n",
    "            "
   ]
  },
  {
   "cell_type": "markdown",
   "id": "4255c732",
   "metadata": {},
   "source": [
    "Now read in vcfs and get counts. This takes longer because these vcfs are larger"
   ]
  },
  {
   "cell_type": "code",
   "execution_count": 12,
   "id": "bb760bc3",
   "metadata": {
    "scrolled": true
   },
   "outputs": [
    {
     "name": "stdout",
     "output_type": "stream",
     "text": [
      "[1] \"fnr/FG29_GATK_true_hets.vcf.gz\"\n",
      "[1] \"fnr/FG29_bcftools_true_hets.vcf.gz\"\n",
      "[1] \"fnr/FG30_GATK_true_hets.vcf.gz\"\n",
      "[1] \"fnr/FG30_bcftools_true_hets.vcf.gz\"\n",
      "[1] \"fnr/FG33_GATK_true_hets.vcf.gz\"\n",
      "[1] \"fnr/FG33_bcftools_true_hets.vcf.gz\"\n",
      "[1] \"fnr/NorbertW853_GATK_true_hets.vcf.gz\"\n",
      "[1] \"fnr/NorbertW853_bcftools_true_hets.vcf.gz\"\n",
      "[1] \"fnr/NorbertW740_GATK_true_hets.vcf.gz\"\n",
      "[1] \"fnr/NorbertW740_bcftools_true_hets.vcf.gz\"\n",
      "[1] \"fnr/NorbertW756_GATK_true_hets.vcf.gz\"\n",
      "[1] \"fnr/NorbertW756_bcftools_true_hets.vcf.gz\"\n",
      "[1] \"fnr/NorbertW802_GATK_true_hets.vcf.gz\"\n",
      "[1] \"fnr/NorbertW802_bcftools_true_hets.vcf.gz\"\n",
      "[1] \"fnr/ToothlessL824_GATK_true_hets.vcf.gz\"\n",
      "[1] \"fnr/ToothlessL824_bcftools_true_hets.vcf.gz\"\n",
      "[1] \"fnr/ToothlessL960_GATK_true_hets.vcf.gz\"\n",
      "[1] \"fnr/ToothlessL960_bcftools_true_hets.vcf.gz\"\n"
     ]
    }
   ],
   "source": [
    "%%R\n",
    "rel = fread('poplists/families.txt')\n",
    "samples = rel %>% filter(Relationship == 'Child') %>% pull(sampleName)\n",
    "\n",
    "het_dfs = list()\n",
    "idx = 0\n",
    "for (SAMPLE in samples){\n",
    "    for (SOURCE in c('GATK','bcftools')){\n",
    "        idx = idx + 1\n",
    "        vcfpath = paste0('fnr/',SAMPLE,'_',SOURCE,'_true_hets.vcf.gz')\n",
    "        print(vcfpath)\n",
    "        vars = fread(cmd = (paste0('bgzip -dc ',vcfpath,' | grep -v \"#\"')),sep=\"\\t\") %>% dplyr::select(!V8)\n",
    "        cols = fread(cmd = (paste0('bgzip -dc ',vcfpath,' | grep \"#CHROM\" | sed \"s/#//g\"')),sep=\"\\t\") %>% dplyr::select(!INFO)\n",
    "        vars %<>% set_colnames(colnames(cols)) %>% mutate(UNIQ = paste0(CHROM,'_',POS))\n",
    "        vars %<>%\n",
    "        separate_longer_delim(.,-c(CHROM, POS, ID, REF, ALT, QUAL, FILTER, UNIQ), delim = \":\") %>% \n",
    "        pivot_longer(-c(CHROM, POS, ID, REF, ALT, QUAL, FILTER, FORMAT, UNIQ))\n",
    "        vars %<>% left_join(., \n",
    "                            rel %>% dplyr::select(sampleName,Relationship) %>% unique, \n",
    "                            by = c('name' = 'sampleName'))\n",
    "        het_dfs[[idx]] = vars %>% mutate(sample = SAMPLE, source = SOURCE)\n",
    "    }\n",
    "\n",
    "}\n",
    "hets = bind_rows(het_dfs)"
   ]
  },
  {
   "cell_type": "markdown",
   "id": "9512b5be-b11a-411c-a794-e63a8f5650fb",
   "metadata": {},
   "source": [
    "Get the calls that are present for both GATK & bcftools. This is will be the 'true' set, and the denominator for FNR calculation:"
   ]
  },
  {
   "cell_type": "code",
   "execution_count": 13,
   "id": "b7a09f1f-526c-4435-ba27-787c753a8a9c",
   "metadata": {},
   "outputs": [],
   "source": [
    "%%R\n",
    "true_het = \n",
    "    full_join(\n",
    "        hets %>% filter(source == 'GATK') %>% dplyr::select(CHROM,POS,REF,ALT,sample) %>% mutate(GATK = 1) %>% distinct,\n",
    "        hets %>% filter(source == 'bcftools') %>% dplyr::select(CHROM,POS,REF,ALT,sample) %>% mutate(bcftools = 1) %>% distinct,\n",
    "        by = c('CHROM','POS','sample','REF','ALT')) %>%\n",
    "    mutate(GATK = ifelse(is.na(GATK),0,GATK), bcftools = ifelse(is.na(bcftools),0,bcftools))\n"
   ]
  },
  {
   "cell_type": "code",
   "execution_count": 14,
   "id": "a7796409-b915-4171-b450-7fd6f364ac9d",
   "metadata": {},
   "outputs": [
    {
     "name": "stdout",
     "output_type": "stream",
     "text": [
      "# A tibble: 9 × 2\n",
      "  sample         count\n",
      "  <chr>          <int>\n",
      "1 FG29          316309\n",
      "2 FG30          316638\n",
      "3 FG33          318094\n",
      "4 NorbertW740   125679\n",
      "5 NorbertW756   129401\n",
      "6 NorbertW802   129218\n",
      "7 NorbertW853   128767\n",
      "8 ToothlessL824 293171\n",
      "9 ToothlessL960 295740\n"
     ]
    }
   ],
   "source": [
    "%%R\n",
    "true_het_numbers = \n",
    "    true_het %>% filter(GATK == 1, bcftools == 1) %>%\n",
    "    group_by(sample) %>%\n",
    "    summarize(count = n())\n",
    "true_het_numbers"
   ]
  },
  {
   "cell_type": "markdown",
   "id": "c946d436-edda-4c2c-9594-cecd109b012f",
   "metadata": {},
   "source": [
    "Now, figure out how many of this truth set wouldn't pass filters"
   ]
  },
  {
   "cell_type": "code",
   "execution_count": 15,
   "id": "00fe943d",
   "metadata": {},
   "outputs": [
    {
     "name": "stdout",
     "output_type": "stream",
     "text": [
      "[1] \"FG29\"\n",
      "[1] \"GATK\"\n",
      "Joining with `by = join_by(CHROM, POS, REF, ALT, sample)`\n",
      "[1] \"bcftools\"\n",
      "Joining with `by = join_by(CHROM, POS, REF, ALT, sample)`\n",
      "[1] \"FG30\"\n",
      "[1] \"GATK\"\n",
      "Joining with `by = join_by(CHROM, POS, REF, ALT, sample)`\n",
      "[1] \"bcftools\"\n",
      "Joining with `by = join_by(CHROM, POS, REF, ALT, sample)`\n",
      "[1] \"FG33\"\n",
      "[1] \"GATK\"\n",
      "Joining with `by = join_by(CHROM, POS, REF, ALT, sample)`\n",
      "[1] \"bcftools\"\n",
      "Joining with `by = join_by(CHROM, POS, REF, ALT, sample)`\n",
      "[1] \"NorbertW853\"\n",
      "[1] \"GATK\"\n",
      "Joining with `by = join_by(CHROM, POS, REF, ALT, sample)`\n",
      "[1] \"bcftools\"\n",
      "Joining with `by = join_by(CHROM, POS, REF, ALT, sample)`\n",
      "[1] \"NorbertW740\"\n",
      "[1] \"GATK\"\n",
      "Joining with `by = join_by(CHROM, POS, REF, ALT, sample)`\n",
      "[1] \"bcftools\"\n",
      "Joining with `by = join_by(CHROM, POS, REF, ALT, sample)`\n",
      "[1] \"NorbertW756\"\n",
      "[1] \"GATK\"\n",
      "Joining with `by = join_by(CHROM, POS, REF, ALT, sample)`\n",
      "[1] \"bcftools\"\n",
      "Joining with `by = join_by(CHROM, POS, REF, ALT, sample)`\n",
      "[1] \"NorbertW802\"\n",
      "[1] \"GATK\"\n",
      "Joining with `by = join_by(CHROM, POS, REF, ALT, sample)`\n",
      "[1] \"bcftools\"\n",
      "Joining with `by = join_by(CHROM, POS, REF, ALT, sample)`\n",
      "[1] \"ToothlessL824\"\n",
      "[1] \"GATK\"\n",
      "Joining with `by = join_by(CHROM, POS, REF, ALT, sample)`\n",
      "[1] \"bcftools\"\n",
      "Joining with `by = join_by(CHROM, POS, REF, ALT, sample)`\n",
      "[1] \"ToothlessL960\"\n",
      "[1] \"GATK\"\n",
      "Joining with `by = join_by(CHROM, POS, REF, ALT, sample)`\n",
      "[1] \"bcftools\"\n",
      "Joining with `by = join_by(CHROM, POS, REF, ALT, sample)`\n"
     ]
    }
   ],
   "source": [
    "%%R\n",
    "het_negatives = list()\n",
    "idx = 0\n",
    "for (SAMPLE in samples){\n",
    "    \n",
    "    ####################################################\n",
    "    ## Data setup \n",
    "    print(SAMPLE)\n",
    "    for (SOURCE in c('GATK','bcftools')){\n",
    "        print(SOURCE)\n",
    "        idx = idx + 1\n",
    "        input_df = \n",
    "                hets %>% \n",
    "                filter(sample == SAMPLE, source == SOURCE) %>%\n",
    "                left_join(.,true_het %>% filter(sample == SAMPLE)) %>%\n",
    "                filter(GATK == 1, bcftools == 1) %>% \n",
    "                dplyr::select(!c(GATK,bcftools))\n",
    "    \n",
    "        ####################################################\n",
    "        ## The below section takes care of allelic bias and presence of alternate allele reads (however few) in parents\n",
    "        AD_fail =\n",
    "            input_df %>% \n",
    "            filter(FORMAT == 'AD') %>%\n",
    "            separate_wider_delim(.,value, names = c('ref','alt'), delim=',') %>% \n",
    "            mutate(across(c('ref', 'alt'), ~as.numeric(.))) %>%\n",
    "            mutate(freq = pmin(alt,ref)/(ref + alt)) %>%\n",
    "            #####\n",
    "            ## INVERSE OF FILTERING STEPS ABOVE. IF GREATER THAN 30, DISCARD\n",
    "            mutate(ADFAIL = ifelse((name == SAMPLE & freq > 0.30),0,1))\n",
    "        \n",
    "        AD_fail_sites = \n",
    "            AD_fail %>% \n",
    "            group_by(UNIQ) %>%\n",
    "            summarize(pcount = sum(ADFAIL)) %>%\n",
    "            ungroup %>% \n",
    "            ## Based on code above, if any one het fails, pcount ==  3. Then discard\n",
    "            filter(pcount == 3) %>%\n",
    "            pull(UNIQ)\n",
    "\n",
    "        ####################################################\n",
    "        ## This is simple genotype quality\n",
    "        if (SOURCE == 'GATK'){\n",
    "            GQ_fail_sites = \n",
    "            input_df %>%\n",
    "            filter(FORMAT == 'GQ') %>%\n",
    "            mutate(value = as.numeric(value)) %>%\n",
    "            #####\n",
    "            ## INVERSE OF FILTERING STEPS ABOVE. IF GREATER THAN 60, DISCARD\n",
    "            mutate(GQFAIL = ifelse(value > 60,0,1)) %>%\n",
    "            group_by(UNIQ) %>%\n",
    "            summarize(pcount = sum(GQFAIL)) %>%\n",
    "            ungroup %>% \n",
    "            ## Based on code above, a Failing site can involve any of the three individuals with poor GQ\n",
    "            filter(pcount >= 1) %>%\n",
    "            pull(UNIQ)\n",
    "        } else {\n",
    "            GQ_fail_sites = c()\n",
    "        }\n",
    "\n",
    "    \n",
    "        ####################################################        \n",
    "        ## DP\n",
    "        DP_fail_sites =\n",
    "            input_df %>%\n",
    "            filter(FORMAT == 'DP') %>%\n",
    "            mutate(value = as.numeric(value)) %>%\n",
    "            mutate(DPFAIL = ifelse(value > 9,0,1)) %>%\n",
    "            group_by(UNIQ) %>%\n",
    "            summarize(pcount = sum(DPFAIL)) %>%\n",
    "            ungroup %>% \n",
    "            ## Based on code above, a Failing site can involve any of the three individuals with poor DP\n",
    "            filter(pcount >= 1) %>%\n",
    "            pull(UNIQ)\n",
    "        \n",
    "\n",
    "        ####################################################      \n",
    "        all_failing_sites = unique(c(AD_fail_sites, GQ_fail_sites, DP_fail_sites))\n",
    "        final =\n",
    "            input_df %>% \n",
    "            # sites can fail either filter\n",
    "            filter(UNIQ %in% all_failing_sites) %>%\n",
    "            mutate(start = POS - 1, end = POS) %>%\n",
    "            dplyr::select(CHROM, start, end) %>%\n",
    "            unique\n",
    "        \n",
    "        het_negatives[[idx]] = final %>% mutate(sample = SAMPLE, source = SOURCE)\n",
    "        #fwrite(final, paste0('est/',SAMPLE,'_candidates.bed'), sep = \"\\t\", col.names = FALSE)\n",
    "    }\n",
    "}\n",
    "\n",
    "het_negatives = bind_rows(het_negatives)"
   ]
  },
  {
   "cell_type": "markdown",
   "id": "24edf292-fc07-435f-a5fa-eec7ef53b853",
   "metadata": {},
   "source": [
    "Alright, which sites are detected by both GATK & bcftools, but **DO NOT** pass the more stringent filters (from one or both variant calling approaches)?:"
   ]
  },
  {
   "cell_type": "code",
   "execution_count": 19,
   "id": "4197e4c3-6b50-4460-a2cd-80bd2366fbdf",
   "metadata": {},
   "outputs": [
    {
     "name": "stdout",
     "output_type": "stream",
     "text": [
      "# A tibble: 6 × 5\n",
      "  CHROM             end sample GATKfail bcftoolsfail\n",
      "  <chr>           <int> <chr>     <dbl>        <dbl>\n",
      "1 HiC_scaffold_1  36419 FG29          1            0\n",
      "2 HiC_scaffold_1  69975 FG29          1            0\n",
      "3 HiC_scaffold_1  92070 FG29          1            0\n",
      "4 HiC_scaffold_1  92370 FG29          1            0\n",
      "5 HiC_scaffold_1  98315 FG29          1            0\n",
      "6 HiC_scaffold_1 116102 FG29          1            0\n"
     ]
    }
   ],
   "source": [
    "%%R\n",
    "het_negatives_full = \n",
    "    full_join(\n",
    "        het_negatives %>% filter(source == 'GATK') %>% dplyr::select(CHROM, end, sample) %>% mutate(GATKfail = 1) %>% distinct,\n",
    "        het_negatives %>% filter(source == 'bcftools') %>% dplyr::select(CHROM, end, sample) %>% mutate(bcftoolsfail = 1) %>% distinct,\n",
    "        by = c('CHROM','end','sample')) %>%\n",
    "    mutate(GATKfail = ifelse(is.na(GATKfail),0,GATKfail), bcftoolsfail = ifelse(is.na(bcftoolsfail),0,bcftoolsfail))\n",
    "head(het_negatives_full)"
   ]
  },
  {
   "cell_type": "code",
   "execution_count": 37,
   "id": "3f3bd6f3",
   "metadata": {},
   "outputs": [
    {
     "name": "stdout",
     "output_type": "stream",
     "text": [
      "Joining with `by = join_by(sample)`\n",
      "# A tibble: 9 × 2\n",
      "  sample          FNR\n",
      "  <chr>         <dbl>\n",
      "1 FG29          0.304\n",
      "2 FG30          0.309\n",
      "3 FG33          0.308\n",
      "4 NorbertW740   0.104\n",
      "5 NorbertW756   0.139\n",
      "6 NorbertW802   0.143\n",
      "7 NorbertW853   0.109\n",
      "8 ToothlessL824 0.105\n",
      "9 ToothlessL960 0.105\n"
     ]
    }
   ],
   "source": [
    "%%R\n",
    "het_negative_counts = \n",
    "    het_negatives_full %>% \n",
    "    group_by(sample) %>%\n",
    "    summarize(fail_count = n())\n",
    "\n",
    "true_het_numbers %<>% set_colnames(c('sample','total_count'))\n",
    "\n",
    "\n",
    "FNR =\n",
    "    left_join(true_het_numbers, het_negative_counts) %>% \n",
    "    mutate(FNR = fail_count/total_count) %>%\n",
    "    dplyr::select(sample, FNR)\n",
    "FNR"
   ]
  },
  {
   "cell_type": "code",
   "execution_count": 21,
   "id": "3382ed0f-448e-44d2-a407-ba3126e6d0fa",
   "metadata": {},
   "outputs": [
    {
     "name": "stdout",
     "output_type": "stream",
     "text": [
      "[1] 0.1392493\n",
      "[1] 0.180705\n"
     ]
    }
   ],
   "source": [
    "%%R\n",
    "print(median(FNR$FNR))\n",
    "print(mean(FNR$FNR))"
   ]
  },
  {
   "cell_type": "markdown",
   "id": "8348b6e3",
   "metadata": {},
   "source": [
    "### FDR"
   ]
  },
  {
   "cell_type": "markdown",
   "id": "01ada57b",
   "metadata": {},
   "source": [
    "Manual curation in IGV. Extract candidate sites +- 1000bp"
   ]
  },
  {
   "cell_type": "code",
   "execution_count": 178,
   "id": "99978268",
   "metadata": {},
   "outputs": [],
   "source": [
    "%%bash\n",
    "cat final/*candidates.bed | cut -f1-3 | bedtools sort -i stdin | bedtools slop -b 150 -g white_abalone.genome | bedtools merge -i stdin > final/all_regions_150bp.bed"
   ]
  },
  {
   "cell_type": "code",
   "execution_count": 182,
   "id": "99a905e9",
   "metadata": {},
   "outputs": [],
   "source": [
    "!mkdir -p fdr\n",
    "for SAMPLE in samples:\n",
    "        if SAMPLE in ['NorbertW756','NorbertW802','Y121']:\n",
    "            bam = f\"aln/{SAMPLE}.combined.mdup.bam\"\n",
    "        else:\n",
    "            bam = f\"aln/{SAMPLE}.mdup.bam\"\n",
    "\n",
    "        cmd = ('''samtools view -@ 4 -L final/all_regions_150bp.bed '''\n",
    "               '''{bam} -b > fdr/{SAMPLE}_candidates.bam && samtools index fdr/{SAMPLE}_candidates.bam\\n''').format(SAMPLE = SAMPLE, bam = bam)\n",
    "        slurm = make_slurm(run = False, echo = False, id = f\"{SAMPLE}_extract\",cmd_string = cmd, mem = '20000', time = '04:00:00', c = 4, p = 'long')\n",
    "        #!$cmd"
   ]
  },
  {
   "cell_type": "markdown",
   "id": "b9faffef-8ab7-476a-bfad-3dda1f84f413",
   "metadata": {},
   "source": [
    "Select test set of 20 loci for getting rough FDR rate"
   ]
  },
  {
   "cell_type": "code",
   "execution_count": 197,
   "id": "a2d4b25e-b55d-4a5a-b473-418ba4d17480",
   "metadata": {},
   "outputs": [],
   "source": [
    "%%bash\n",
    "grep \"Child\" poplists/families.txt | cut -f2 | while read SAMPLE;do\n",
    "    sed \"s/^/$SAMPLE\\t/\" final/${SAMPLE}_candidates.bed;\n",
    "done | shuf | head -n 20 > fdr/test_set_n20.txt"
   ]
  },
  {
   "cell_type": "markdown",
   "id": "ba705c74-52f8-4188-bbe9-bc2a6335f49c",
   "metadata": {},
   "source": [
    "As I go through the loci listed below, I'll annotate a 7th column as Pass/Fail (P/F)"
   ]
  },
  {
   "cell_type": "code",
   "execution_count": 199,
   "id": "8374b8d6-5966-48a0-b720-09f6d8301add",
   "metadata": {},
   "outputs": [
    {
     "name": "stdout",
     "output_type": "stream",
     "text": [
      "NorbertW853\tHiC_scaffold_16\t5510720\t5510721\tG\tA\n",
      "FG33\tHiC_scaffold_13\t57947702\t57947703\tC\tA\n",
      "NorbertW756\tHiC_scaffold_4\t1618125\t1618126\tT\tG\n",
      "FG29\tHiC_scaffold_2\t71549310\t71549311\tG\tA\n",
      "ToothlessL824\tHiC_scaffold_11\t51469515\t51469516\tA\tG\n",
      "NorbertW740\tHiC_scaffold_14\t50782953\t50782954\tT\tC\n",
      "NorbertW802\tHiC_scaffold_12\t10406216\t10406217\tG\tA\n",
      "ToothlessL960\tHiC_scaffold_8\t50474106\t50474107\tG\tA\n",
      "ToothlessL960\tHiC_scaffold_9\t27079288\t27079289\tC\tT\n",
      "FG33\tHiC_scaffold_6\t51064681\t51064682\tG\tA\n",
      "NorbertW802\tHiC_scaffold_8\t50069496\t50069497\tA\tT\n",
      "FG33\tHiC_scaffold_16\t43182378\t43182379\tC\tT\n",
      "NorbertW853\tHiC_scaffold_8\t61265371\t61265372\tA\tG\n",
      "NorbertW740\tHiC_scaffold_13\t16568119\t16568120\tG\tA\n",
      "NorbertW802\tHiC_scaffold_16\t51322843\t51322844\tC\tA\n",
      "FG30\tHiC_scaffold_2\t64182269\t64182270\tC\tA\n",
      "NorbertW756\tHiC_scaffold_18\t5576792\t5576793\tT\tA\n",
      "FG29\tHiC_scaffold_2\t67338091\t67338092\tT\tA\n",
      "NorbertW740\tHiC_scaffold_9\t25871202\t25871203\tC\tT\n",
      "NorbertW802\tHiC_scaffold_1\t48449274\t48449275\tT\tA\n"
     ]
    }
   ],
   "source": [
    "%%bash\n",
    "cp fdr/test_set_n20.txt fdr/test_set_n20_results.txt\n",
    "cat fdr/test_set_n20.txt"
   ]
  },
  {
   "cell_type": "markdown",
   "id": "88ce2826-ad21-46d0-8c70-9ca4b4780d03",
   "metadata": {},
   "source": [
    "One of twenty doesn't pass manual inspection, so **FDR = 5%**??"
   ]
  },
  {
   "cell_type": "markdown",
   "id": "09a5a462-791c-4901-afdc-976ddb232678",
   "metadata": {},
   "source": [
    "# Final rate"
   ]
  },
  {
   "cell_type": "markdown",
   "id": "28a342d5-a3b2-4fd3-a79f-3c6b0a55e5a3",
   "metadata": {},
   "source": [
    "## Count of mutations"
   ]
  },
  {
   "cell_type": "code",
   "execution_count": 38,
   "id": "6977307a-672a-4314-8d78-d45c61ef52c9",
   "metadata": {},
   "outputs": [
    {
     "name": "stdout",
     "output_type": "stream",
     "text": [
      "# A tibble: 9 × 5\n",
      "  sample        count famName      size  adjustedrate\n",
      "  <chr>         <int> <chr>       <dbl>         <dbl>\n",
      "1 FG29             23 Fam1    891434842 0.0000000142 \n",
      "2 FG30             11 Fam1    891434842 0.00000000681\n",
      "3 FG33             19 Fam1    891434842 0.0000000118 \n",
      "4 NorbertW740      10 Fam2    898249068 0.00000000614\n",
      "5 NorbertW756      13 Fam2    898249068 0.00000000799\n",
      "6 NorbertW802      16 Fam2    898249068 0.00000000983\n",
      "7 NorbertW853      17 Fam2    898249068 0.0000000104 \n",
      "8 ToothlessL824     6 Fam3    917622025 0.00000000361\n",
      "9 ToothlessL960    11 Fam3    917622025 0.00000000662\n",
      "[1] 7.986616e-09\n",
      "[1] 8.604127e-09\n",
      "[1] 6.096043e-09 1.111221e-08\n",
      "attr(,\"conf.level\")\n",
      "[1] 0.95\n"
     ]
    }
   ],
   "source": [
    "%%R\n",
    "fdr = 0.05\n",
    "fnr = median(FNR$FNR)\n",
    "adjusted = \n",
    "    fi %>%\n",
    "    group_by(sample) %>%\n",
    "    summarize(count = n(),famName = unique(famName), size = unique(size)) %>%\n",
    "    mutate(adjustedrate = (count*(1 - fdr))/(2*size*(1 - fnr)))\n",
    "print(adjusted)\n",
    "print(median(adjusted$adjustedrate))\n",
    "print(mean(adjusted$adjustedrate))\n",
    "\n",
    "# Extract the confidence interval\n",
    "vals = adjusted$adjustedrate\n",
    "result = t.test(vals)\n",
    "confidence_interval = result$conf.int\n",
    "print(confidence_interval)"
   ]
  },
  {
   "cell_type": "code",
   "execution_count": 261,
   "id": "df39793b-e100-48a1-814d-bfb4439692d6",
   "metadata": {},
   "outputs": [],
   "source": [
    "%%R\n",
    "for (s in unique(fi$sample)){\n",
    "    fi %>%\n",
    "    filter(sample == s) %>%\n",
    "    mutate(id = paste0(CHROM,'_',end)) %>%\n",
    "    dplyr::select(id) %>%\n",
    "    fwrite(paste0('final/',s,'.ids.txt'),sep=\"\\t\", col.names = F)       \n",
    "}"
   ]
  },
  {
   "cell_type": "markdown",
   "id": "1ac5bd20-f06f-425b-bf79-b3e3ffe2d4e7",
   "metadata": {},
   "source": [
    "Supp. figure of results"
   ]
  },
  {
   "cell_type": "code",
   "execution_count": 68,
   "id": "8c3c6ced-ba29-4744-a7d0-56decbcb5e78",
   "metadata": {},
   "outputs": [
    {
     "data": {
      "image/png": "[encoded data removed]",
      "text/plain": [
       "<IPython.core.display.Image object>"
      ]
     },
     "metadata": {},
     "output_type": "display_data"
    }
   ],
   "source": [
    "%%R -w 400 -h 200\n",
    "library(wesanderson)\n",
    "p = ggplot(adjusted,aes(x = adjustedrate, fill = famName)) +\n",
    "    geom_dotplot(binwidth=1e-09, dotsize = 0.5,method = 'histodot',stackgroups = TRUE) + \n",
    "    scale_fill_manual(values = wes_palette('GrandBudapest1')) + \n",
    "    ylab('') +\n",
    "    theme_classic()\n",
    "print(p)\n",
    "ggsave('mutation_figs/sample_values.pdf',width = 3, height = 1)"
   ]
  },
  {
   "cell_type": "code",
   "execution_count": 150,
   "id": "8f901861-e176-4370-ac29-785694dd2efb",
   "metadata": {},
   "outputs": [],
   "source": [
    "cmd = f\"vcftools --gzvcf vcfs/biallelic.vcf.gz --het --stdout > samples_vcftools.het\"\n",
    "print(cmd)"
   ]
  },
  {
   "cell_type": "markdown",
   "id": "f3ff638e-84d4-4769-9efb-91645723a45a",
   "metadata": {},
   "source": [
    "# Mutation spectra"
   ]
  },
  {
   "cell_type": "code",
   "execution_count": 92,
   "id": "099ad4d1-f693-47b9-8b76-ccd303299383",
   "metadata": {},
   "outputs": [
    {
     "name": "stdout",
     "output_type": "stream",
     "text": [
      "# A tibble: 6 × 2\n",
      "  label count\n",
      "  <chr> <int>\n",
      "1 C>A      17\n",
      "2 C>G      19\n",
      "3 C>T      38\n",
      "4 T>A      17\n",
      "5 T>C      26\n",
      "6 T>G       9\n"
     ]
    },
    {
     "data": {
      "image/png": "[encoded data removed]",
      "text/plain": [
       "<IPython.core.display.Image object>"
      ]
     },
     "metadata": {},
     "output_type": "display_data"
    }
   ],
   "source": [
    "%%R -w 350 -h 200\n",
    "results = fread('final/all_sample_by_candidates.txt') %>% set_colnames(c('sample','chrom','start','pos','ref','alt'))\n",
    "\n",
    "results %<>% \n",
    "    mutate(mut_type = paste0(ref,'>',alt)) %>%\n",
    "    group_by(mut_type) %>%\n",
    "    count() %>%\n",
    "    ungroup #%>%\n",
    "   # mutate(RC = gsub('^A>','',mut_type))\n",
    "\n",
    "\n",
    "condensed_spectra = data.frame(label = c('C>A','C>G','C>T','T>A','T>C','T>G'), \n",
    "                               forward = c('C>A','C>G','C>T','T>A','T>C','T>G'), \n",
    "                               reverse = c('G>T','G>C','G>A','A>T','A>G','A>C'))\n",
    "\n",
    "mut_summary = \n",
    "left_join(results, condensed_spectra, by = c('mut_type' = 'forward')) %>% \n",
    "left_join(.,condensed_spectra,by = c ('mut_type' = 'reverse')) %>%\n",
    "mutate(label = coalesce(label.x,label.y)) %>%\n",
    "    dplyr::select(mut_type, label, n) %>%\n",
    "    group_by(label) %>%\n",
    "    summarize(count = sum(n))\n",
    "\n",
    "print(mut_summary)\n",
    "\n",
    "ggplot(mut_summary) +\n",
    "    geom_bar(aes(x = label, y = count), stat = 'identity', fill = 'gray', color = 'black') +\n",
    "    theme_classic()"
   ]
  },
  {
   "cell_type": "markdown",
   "id": "9ec73429-883b-488d-8c2e-089f30cf5221",
   "metadata": {},
   "source": [
    "How many C->T sites are in CpG sites\n"
   ]
  },
  {
   "cell_type": "code",
   "execution_count": 75,
   "id": "80661e7b-3106-4afa-b891-66df23182ab3",
   "metadata": {},
   "outputs": [
    {
     "name": "stdout",
     "output_type": "stream",
     "text": [
      ">HiC_scaffold_11:5666174-5666175(+)\n",
      ">HiC_scaffold_9:25871203-25871204(+)\n",
      ">HiC_scaffold_4:3018728-3018729(+)\n",
      ">HiC_scaffold_2:71549310-71549311(-)\n",
      ">HiC_scaffold_15:10189581-10189582(-)\n",
      ">HiC_scaffold_10:16544715-16544716(-)\n",
      ">HiC_scaffold_13:16568119-16568120(-)\n",
      ">HiC_scaffold_12:28098443-28098444(-)\n",
      ">HiC_scaffold_4:37670769-37670770(-)\n",
      ">HiC_scaffold_7:49030321-49030322(-)\n"
     ]
    }
   ],
   "source": [
    "%%bash\n",
    "# Positive strand\n",
    "awk '{OFS=\"\"} ($5 == \"C\" && $6 == \"T\") {print $2,\":\",$4,\"-\",$4+1}' final/all_sample_by_candidates.txt | while read REGION;do samtools faidx --mark-strand sign white_abalone.fasta ${REGION};done | grep -i -B 1 \"cg\" | grep \">\"\n",
    "# Negative strand \n",
    "awk '{OFS=\"\"} ($5 == \"G\" && $6 == \"A\") {print $2,\":\",$4-1,\"-\",$4}' final/all_sample_by_candidates.txt | while read REGION;do samtools faidx --mark-strand sign --reverse-complement white_abalone.fasta ${REGION};done | grep -i -B 1 \"cg\" | grep \">\""
   ]
  },
  {
   "cell_type": "markdown",
   "id": "9af94f7c-4f12-45d1-a5c1-bc0b69dedd3a",
   "metadata": {},
   "source": [
    "10 are CpG > TpG"
   ]
  },
  {
   "cell_type": "code",
   "execution_count": 91,
   "id": "5b3bf97d-faad-4999-b7c9-7a9f4de09e0d",
   "metadata": {},
   "outputs": [
    {
     "name": "stdout",
     "output_type": "stream",
     "text": [
      "# A tibble: 7 × 3\n",
      "  label   count type \n",
      "  <chr>   <dbl> <chr>\n",
      "1 C>A        17 norm \n",
      "2 C>G        19 norm \n",
      "3 C>T        28 norm \n",
      "4 T>A        17 norm \n",
      "5 T>C        26 norm \n",
      "6 T>G         9 norm \n",
      "7 CpG>TpG    10 CpG  \n"
     ]
    },
    {
     "data": {
      "image/png": "[encoded data removed]",
      "text/plain": [
       "<IPython.core.display.Image object>"
      ]
     },
     "metadata": {},
     "output_type": "display_data"
    }
   ],
   "source": [
    "%%R -w 600 -h 300\n",
    "\n",
    "mut_summary %<>%\n",
    "    mutate(count = ifelse(label == 'C>T',count - 10,count), type = \"norm\") %>%\n",
    "    bind_rows(., data.frame(label = c('CpG>TpG'), count = c(10), type = c('CpG')))\n",
    "mut_summary %>% print\n",
    "ggplot(mut_summary) +\n",
    "        geom_bar(aes(x = label, y = count, fill = type), stat = 'identity', color = 'black') +\n",
    "        scale_fill_manual(values = c('purple','gray')) +\n",
    "        theme_classic()"
   ]
  },
  {
   "cell_type": "markdown",
   "id": "5373e949-8f6b-4f42-b381-3d50b4e79f92",
   "metadata": {},
   "source": [
    "## SFS from wild samples"
   ]
  },
  {
   "cell_type": "markdown",
   "id": "40e188a5-8758-4600-b29b-94aaeaa01118",
   "metadata": {},
   "source": [
    "Get the fine-grained MAF. The vcfs of the wild-caught individuals were generated in the notebook labelled `Diversity.ipynb`"
   ]
  },
  {
   "cell_type": "code",
   "execution_count": 48,
   "id": "97a50f5f-4ea3-4f7b-b778-b817071dfa78",
   "metadata": {
    "scrolled": true
   },
   "outputs": [],
   "source": [
    "cutoffs = [x / 100 for x in range(0, 100, 5)]\n",
    "chroms = []\n",
    "with open('white_abalone.fasta.fai','r') as infile:\n",
    "    for line in infile:\n",
    "        chrom, size, total, b, c = line.split('\\t')\n",
    "        if int(size) > 1e6:\n",
    "            chroms.append(chrom)\n",
    "infile.close()\n",
    "\n",
    "for CHROM in chroms:\n",
    "    for X in cutoffs:\n",
    "        lower = X\n",
    "        upper = X + 0.05\n",
    "        cmd = ('''bcftools view -i 'F_MISSING<0.1' -m2 -M2 -v snps -f .,PASS  '''\n",
    "               '''-q {lower} -Q {upper}  '''\n",
    "               '''wild/vcfs/{CHROM}.allsites.filtered.vcf.gz '''\n",
    "               ''' | grep -v \"#\" | awk '{{print $1,$2,$4,$5}}' '''\n",
    "               '''> wild/{CHROM}_lowmiss_mutation_sample_{lower}_{upper}.txt''').format(lower = lower, upper = upper, CHROM = CHROM)\n",
    "        slurm = make_slurm(run = False, id = f\"{lower}_freq\", cmd_string = cmd, time = '00:15:00', mem = '1000', p = 'short')"
   ]
  },
  {
   "cell_type": "markdown",
   "id": "66432896-7c2d-4a5a-857f-a4d3ecf14f97",
   "metadata": {},
   "source": [
    "Some hacky code to do the same for CpGs"
   ]
  },
  {
   "cell_type": "code",
   "execution_count": 53,
   "id": "b9fe68e2-a55b-4119-9549-134eb4474e91",
   "metadata": {},
   "outputs": [],
   "source": [
    "cutoffs = [x / 100 for x in range(0, 100, 5)]\n",
    "for X in cutoffs:\n",
    "    lower = X\n",
    "    upper = X + 0.05\n",
    "    cmd = ('''\n",
    "cat wild/HiC*{lower}_{upper}.txt > wild/all_{lower}_{upper}.txt\n",
    "FILE=\"wild/all_{lower}_{upper}.txt\"\n",
    "\n",
    "FWD_COUNT=$(awk '{{OFS=\"\"}} ($3 == \"C\" && $4 == \"T\") {{print $1,\":\",$2,\"-\",$2+1}}' $FILE | while read REGION;do samtools faidx --mark-strand sign white_abalone.fasta ${{REGION}};done | grep -i -B 1 \"cg\" | grep \">\" | wc -l | cut -d' ' -f1)\n",
    "echo -e \"{lower} {upper} FWD ${{FWD_COUNT}}\" > wild/{lower}_{upper}_cpgs.txt\n",
    "\n",
    "REV_COUNT=$(awk '{{OFS=\"\"}} ($3 == \"G\" && $4 == \"A\") {{print $1,\":\",$2-1,\"-\",$2}}' $FILE | while read REGION;do samtools faidx --mark-strand sign --reverse-complement white_abalone.fasta ${{REGION}};done | grep -i -B 1 \"cg\" | grep \">\" | wc -l | cut -d' ' -f1)\n",
    "echo -e \"{lower} {upper} REV ${{REV_COUNT}}\" >> wild/{lower}_{upper}_cpgs.txt\n",
    "    ''').format(lower = lower, upper = upper)\n",
    "    slurm = make_slurm(run = False, id = f\"{lower}_{upper}\", cmd_string = cmd, mem = '10000', time = '24:00:00', p = 'long')"
   ]
  },
  {
   "cell_type": "markdown",
   "id": "1c245507-15c4-4753-a05e-17cb9a6ab025",
   "metadata": {},
   "source": [
    "Summarize and plot"
   ]
  },
  {
   "cell_type": "code",
   "execution_count": 51,
   "id": "6e5ca55f-a012-4372-ad2c-155a0bfb4b4f",
   "metadata": {},
   "outputs": [
    {
     "name": "stdout",
     "output_type": "stream",
     "text": [
      "Error in `group_by()`:\n",
      "! Must group by variables found in `.data`.\n",
      "✖ Column `lower` is not found.\n",
      "Run `rlang::last_trace()` to see where the error occurred.\n",
      "\n",
      "Error in group_by(., lower) : \n",
      "✖ Column `lower` is not found.\n"
     ]
    },
    {
     "ename": "RInterpreterError",
     "evalue": "Failed to parse and evaluate line \"condensed_spectra = data.frame(label = c('C>A','C>G','C>T','T>A','T>C','T>G'), \\n                               forward = c('C>A','C>G','C>T','T>A','T>C','T>G'), \\n                               reverse = c('G>T','G>C','G>A','A>T','A>G','A>C'))\\n\\nfs = list.files('wild/',pattern = 'lowmiss',full.names = TRUE)\\nwild = bind_rows(lapply(fs, function(PATH){fread(PATH) %>% set_colnames(c('chrom','pos','ref','alt')) %>% mutate(path = basename(PATH))}))\\nwild %<>% \\n    mutate(lower = gsub('.*_lowmiss_mutation_sample_','',path) %>% gsub('_.*','',.)) %>%\\n    mutate(lower = as.numeric(lower), upper = lower + 0.05)\\nwild %<>% \\n    mutate(mut_type = paste0(ref,'>',alt)) %>%\\n    group_by(mut_type,lower) %>%\\n    count() %>%\\n    ungroup\\n\\n\\n##\\ncounts_per_maf =\\n    wild %>%\\n    group_by(lower) %>%\\n    summarize(totalcount = sum(n)) %>%\\n    ungroup\\n\\n\\n##\\nfs = list.files('wild/',pattern = 'cpgs',full.names = TRUE)\\nCT_CpG = bind_rows(lapply(fs,function(PATH){fread(PATH) %>% set_colnames(c('lower','upper','dir','count'))}))\\nCT_CpG %<>% \\n    group_by(lower) %>%\\n    summarize(count = sum(count)) %>%\\n    ungroup %>%\\n    mutate(label = 'CpG>TpG',TiTv = 'Ti')\\n\\n\\n###\\nwild_summary = \\n    left_join(wild, condensed_spectra, by = c('mut_type' = 'forward')) %>% \\n    left_join(.,condensed_spectra,by = c ('mut_type' = 'reverse')) %>%\\n    mutate(label = coalesce(label.x,label.y)) %>%\\n    dplyr::select(mut_type, lower, label, n) %>%\\n    group_by(label,lower) %>%\\n    summarize(count = sum(n)) %>%\\n    left_join(., condensed_spectra, by = c('label')) #%>%\\n\\nnonCT = \\n    wild_summary %>% filter(!label == 'C>T')\\nCT = \\n    wild_summary %>% filter(label == 'C>T') %>%\\n    left_join(.,CT_CpG, by = c('lower')) %>%\\n    mutate(adjusted = count.x - count.y) %>%\\n    dplyr::select(label.x, lower, adjusted, forward, reverse, TiTv.x) %>%\\n    set_colnames(c('label','lower','count','forward','reverse','TiTv'))\\n\\n\\nfinal = \\n    bind_rows(list(nonCT,CT,CT_CpG)) %>%\\n    left_join(., counts_per_maf) %>%\\n    mutate(pct = count/totalcount)\\n\\nhead(final)\\n\".\nR error message: 'Error in group_by(., lower) : \\n✖ Column `lower` is not found.'",
     "output_type": "error",
     "traceback": [
      "\u001b[0;31m---------------------------------------------------------------------------\u001b[0m",
      "\u001b[0;31mRRuntimeError\u001b[0m                             Traceback (most recent call last)",
      "File \u001b[0;32m/private/groups/shapirolab/brock/miniconda3/envs/doom/lib/python3.12/site-packages/rpy2/ipython/rmagic.py:385\u001b[0m, in \u001b[0;36mRMagics.eval\u001b[0;34m(self, code)\u001b[0m\n\u001b[1;32m    383\u001b[0m \u001b[38;5;28;01mtry\u001b[39;00m:\n\u001b[1;32m    384\u001b[0m     \u001b[38;5;66;03m# Need the newline in case the last line in code is a comment.\u001b[39;00m\n\u001b[0;32m--> 385\u001b[0m     value, visible \u001b[38;5;241m=\u001b[39m \u001b[43mro\u001b[49m\u001b[38;5;241;43m.\u001b[39;49m\u001b[43mr\u001b[49m\u001b[43m(\u001b[49m\u001b[38;5;124;43m\"\u001b[39;49m\u001b[38;5;124;43mwithVisible(\u001b[39;49m\u001b[38;5;124;43m{\u001b[39;49m\u001b[38;5;132;43;01m%s\u001b[39;49;00m\u001b[38;5;130;43;01m\\n\u001b[39;49;00m\u001b[38;5;124;43m})\u001b[39;49m\u001b[38;5;124;43m\"\u001b[39;49m\u001b[43m \u001b[49m\u001b[38;5;241;43m%\u001b[39;49m\u001b[43m \u001b[49m\u001b[43mcode\u001b[49m\u001b[43m)\u001b[49m\n\u001b[1;32m    386\u001b[0m \u001b[38;5;28;01mexcept\u001b[39;00m (ri\u001b[38;5;241m.\u001b[39membedded\u001b[38;5;241m.\u001b[39mRRuntimeError, \u001b[38;5;167;01mValueError\u001b[39;00m) \u001b[38;5;28;01mas\u001b[39;00m exception:\n\u001b[1;32m    387\u001b[0m     \u001b[38;5;66;03m# Otherwise next return seems to have copy of error.\u001b[39;00m\n",
      "File \u001b[0;32m/private/groups/shapirolab/brock/miniconda3/envs/doom/lib/python3.12/site-packages/rpy2/robjects/__init__.py:459\u001b[0m, in \u001b[0;36mR.__call__\u001b[0;34m(self, string)\u001b[0m\n\u001b[1;32m    458\u001b[0m p \u001b[38;5;241m=\u001b[39m rinterface\u001b[38;5;241m.\u001b[39mparse(string)\n\u001b[0;32m--> 459\u001b[0m res \u001b[38;5;241m=\u001b[39m \u001b[38;5;28;43mself\u001b[39;49m\u001b[38;5;241;43m.\u001b[39;49m\u001b[43meval\u001b[49m\u001b[43m(\u001b[49m\u001b[43mp\u001b[49m\u001b[43m)\u001b[49m\n\u001b[1;32m    460\u001b[0m \u001b[38;5;28;01mreturn\u001b[39;00m conversion\u001b[38;5;241m.\u001b[39mget_conversion()\u001b[38;5;241m.\u001b[39mrpy2py(res)\n",
      "File \u001b[0;32m/private/groups/shapirolab/brock/miniconda3/envs/doom/lib/python3.12/site-packages/rpy2/robjects/functions.py:208\u001b[0m, in \u001b[0;36mSignatureTranslatedFunction.__call__\u001b[0;34m(self, *args, **kwargs)\u001b[0m\n\u001b[1;32m    207\u001b[0m         kwargs[r_k] \u001b[38;5;241m=\u001b[39m v\n\u001b[0;32m--> 208\u001b[0m \u001b[38;5;28;01mreturn\u001b[39;00m (\u001b[38;5;28;43msuper\u001b[39;49m\u001b[43m(\u001b[49m\u001b[43mSignatureTranslatedFunction\u001b[49m\u001b[43m,\u001b[49m\u001b[43m \u001b[49m\u001b[38;5;28;43mself\u001b[39;49m\u001b[43m)\u001b[49m\n\u001b[1;32m    209\u001b[0m \u001b[43m        \u001b[49m\u001b[38;5;241;43m.\u001b[39;49m\u001b[38;5;21;43m__call__\u001b[39;49m\u001b[43m(\u001b[49m\u001b[38;5;241;43m*\u001b[39;49m\u001b[43margs\u001b[49m\u001b[43m,\u001b[49m\u001b[43m \u001b[49m\u001b[38;5;241;43m*\u001b[39;49m\u001b[38;5;241;43m*\u001b[39;49m\u001b[43mkwargs\u001b[49m\u001b[43m)\u001b[49m)\n",
      "File \u001b[0;32m/private/groups/shapirolab/brock/miniconda3/envs/doom/lib/python3.12/site-packages/rpy2/robjects/functions.py:131\u001b[0m, in \u001b[0;36mFunction.__call__\u001b[0;34m(self, *args, **kwargs)\u001b[0m\n\u001b[1;32m    130\u001b[0m         new_kwargs[k] \u001b[38;5;241m=\u001b[39m cv\u001b[38;5;241m.\u001b[39mpy2rpy(v)\n\u001b[0;32m--> 131\u001b[0m res \u001b[38;5;241m=\u001b[39m \u001b[38;5;28;43msuper\u001b[39;49m\u001b[43m(\u001b[49m\u001b[43mFunction\u001b[49m\u001b[43m,\u001b[49m\u001b[43m \u001b[49m\u001b[38;5;28;43mself\u001b[39;49m\u001b[43m)\u001b[49m\u001b[38;5;241;43m.\u001b[39;49m\u001b[38;5;21;43m__call__\u001b[39;49m\u001b[43m(\u001b[49m\u001b[38;5;241;43m*\u001b[39;49m\u001b[43mnew_args\u001b[49m\u001b[43m,\u001b[49m\u001b[43m \u001b[49m\u001b[38;5;241;43m*\u001b[39;49m\u001b[38;5;241;43m*\u001b[39;49m\u001b[43mnew_kwargs\u001b[49m\u001b[43m)\u001b[49m\n\u001b[1;32m    132\u001b[0m res \u001b[38;5;241m=\u001b[39m cv\u001b[38;5;241m.\u001b[39mrpy2py(res)\n",
      "File \u001b[0;32m/private/groups/shapirolab/brock/miniconda3/envs/doom/lib/python3.12/site-packages/rpy2/rinterface_lib/conversion.py:45\u001b[0m, in \u001b[0;36m_cdata_res_to_rinterface.<locals>._\u001b[0;34m(*args, **kwargs)\u001b[0m\n\u001b[1;32m     44\u001b[0m \u001b[38;5;28;01mdef\u001b[39;00m \u001b[38;5;21m_\u001b[39m(\u001b[38;5;241m*\u001b[39margs, \u001b[38;5;241m*\u001b[39m\u001b[38;5;241m*\u001b[39mkwargs):\n\u001b[0;32m---> 45\u001b[0m     cdata \u001b[38;5;241m=\u001b[39m \u001b[43mfunction\u001b[49m\u001b[43m(\u001b[49m\u001b[38;5;241;43m*\u001b[39;49m\u001b[43margs\u001b[49m\u001b[43m,\u001b[49m\u001b[43m \u001b[49m\u001b[38;5;241;43m*\u001b[39;49m\u001b[38;5;241;43m*\u001b[39;49m\u001b[43mkwargs\u001b[49m\u001b[43m)\u001b[49m\n\u001b[1;32m     46\u001b[0m     \u001b[38;5;66;03m# TODO: test cdata is of the expected CType\u001b[39;00m\n",
      "File \u001b[0;32m/private/groups/shapirolab/brock/miniconda3/envs/doom/lib/python3.12/site-packages/rpy2/rinterface.py:817\u001b[0m, in \u001b[0;36mSexpClosure.__call__\u001b[0;34m(self, *args, **kwargs)\u001b[0m\n\u001b[1;32m    816\u001b[0m     \u001b[38;5;28;01mif\u001b[39;00m error_occured[\u001b[38;5;241m0\u001b[39m]:\n\u001b[0;32m--> 817\u001b[0m         \u001b[38;5;28;01mraise\u001b[39;00m embedded\u001b[38;5;241m.\u001b[39mRRuntimeError(_rinterface\u001b[38;5;241m.\u001b[39m_geterrmessage())\n\u001b[1;32m    818\u001b[0m \u001b[38;5;28;01mreturn\u001b[39;00m res\n",
      "\u001b[0;31mRRuntimeError\u001b[0m: Error in group_by(., lower) : \n✖ Column `lower` is not found.\n",
      "\nDuring handling of the above exception, another exception occurred:\n",
      "\u001b[0;31mRInterpreterError\u001b[0m                         Traceback (most recent call last)",
      "Cell \u001b[0;32mIn[51], line 1\u001b[0m\n\u001b[0;32m----> 1\u001b[0m \u001b[43mget_ipython\u001b[49m\u001b[43m(\u001b[49m\u001b[43m)\u001b[49m\u001b[38;5;241;43m.\u001b[39;49m\u001b[43mrun_cell_magic\u001b[49m\u001b[43m(\u001b[49m\u001b[38;5;124;43m'\u001b[39;49m\u001b[38;5;124;43mR\u001b[39;49m\u001b[38;5;124;43m'\u001b[39;49m\u001b[43m,\u001b[49m\u001b[43m \u001b[49m\u001b[38;5;124;43m'\u001b[39;49m\u001b[38;5;124;43m-w 500 -h 200\u001b[39;49m\u001b[38;5;124;43m'\u001b[39;49m\u001b[43m,\u001b[49m\u001b[43m \u001b[49m\u001b[38;5;124;43m\"\u001b[39;49m\u001b[38;5;124;43mcondensed_spectra = data.frame(label = c(\u001b[39;49m\u001b[38;5;124;43m'\u001b[39;49m\u001b[38;5;124;43mC>A\u001b[39;49m\u001b[38;5;124;43m'\u001b[39;49m\u001b[38;5;124;43m,\u001b[39;49m\u001b[38;5;124;43m'\u001b[39;49m\u001b[38;5;124;43mC>G\u001b[39;49m\u001b[38;5;124;43m'\u001b[39;49m\u001b[38;5;124;43m,\u001b[39;49m\u001b[38;5;124;43m'\u001b[39;49m\u001b[38;5;124;43mC>T\u001b[39;49m\u001b[38;5;124;43m'\u001b[39;49m\u001b[38;5;124;43m,\u001b[39;49m\u001b[38;5;124;43m'\u001b[39;49m\u001b[38;5;124;43mT>A\u001b[39;49m\u001b[38;5;124;43m'\u001b[39;49m\u001b[38;5;124;43m,\u001b[39;49m\u001b[38;5;124;43m'\u001b[39;49m\u001b[38;5;124;43mT>C\u001b[39;49m\u001b[38;5;124;43m'\u001b[39;49m\u001b[38;5;124;43m,\u001b[39;49m\u001b[38;5;124;43m'\u001b[39;49m\u001b[38;5;124;43mT>G\u001b[39;49m\u001b[38;5;124;43m'\u001b[39;49m\u001b[38;5;124;43m), \u001b[39;49m\u001b[38;5;130;43;01m\\n\u001b[39;49;00m\u001b[38;5;124;43m                               forward = c(\u001b[39;49m\u001b[38;5;124;43m'\u001b[39;49m\u001b[38;5;124;43mC>A\u001b[39;49m\u001b[38;5;124;43m'\u001b[39;49m\u001b[38;5;124;43m,\u001b[39;49m\u001b[38;5;124;43m'\u001b[39;49m\u001b[38;5;124;43mC>G\u001b[39;49m\u001b[38;5;124;43m'\u001b[39;49m\u001b[38;5;124;43m,\u001b[39;49m\u001b[38;5;124;43m'\u001b[39;49m\u001b[38;5;124;43mC>T\u001b[39;49m\u001b[38;5;124;43m'\u001b[39;49m\u001b[38;5;124;43m,\u001b[39;49m\u001b[38;5;124;43m'\u001b[39;49m\u001b[38;5;124;43mT>A\u001b[39;49m\u001b[38;5;124;43m'\u001b[39;49m\u001b[38;5;124;43m,\u001b[39;49m\u001b[38;5;124;43m'\u001b[39;49m\u001b[38;5;124;43mT>C\u001b[39;49m\u001b[38;5;124;43m'\u001b[39;49m\u001b[38;5;124;43m,\u001b[39;49m\u001b[38;5;124;43m'\u001b[39;49m\u001b[38;5;124;43mT>G\u001b[39;49m\u001b[38;5;124;43m'\u001b[39;49m\u001b[38;5;124;43m), \u001b[39;49m\u001b[38;5;130;43;01m\\n\u001b[39;49;00m\u001b[38;5;124;43m                               reverse = c(\u001b[39;49m\u001b[38;5;124;43m'\u001b[39;49m\u001b[38;5;124;43mG>T\u001b[39;49m\u001b[38;5;124;43m'\u001b[39;49m\u001b[38;5;124;43m,\u001b[39;49m\u001b[38;5;124;43m'\u001b[39;49m\u001b[38;5;124;43mG>C\u001b[39;49m\u001b[38;5;124;43m'\u001b[39;49m\u001b[38;5;124;43m,\u001b[39;49m\u001b[38;5;124;43m'\u001b[39;49m\u001b[38;5;124;43mG>A\u001b[39;49m\u001b[38;5;124;43m'\u001b[39;49m\u001b[38;5;124;43m,\u001b[39;49m\u001b[38;5;124;43m'\u001b[39;49m\u001b[38;5;124;43mA>T\u001b[39;49m\u001b[38;5;124;43m'\u001b[39;49m\u001b[38;5;124;43m,\u001b[39;49m\u001b[38;5;124;43m'\u001b[39;49m\u001b[38;5;124;43mA>G\u001b[39;49m\u001b[38;5;124;43m'\u001b[39;49m\u001b[38;5;124;43m,\u001b[39;49m\u001b[38;5;124;43m'\u001b[39;49m\u001b[38;5;124;43mA>C\u001b[39;49m\u001b[38;5;124;43m'\u001b[39;49m\u001b[38;5;124;43m))\u001b[39;49m\u001b[38;5;130;43;01m\\n\u001b[39;49;00m\u001b[38;5;130;43;01m\\n\u001b[39;49;00m\u001b[38;5;124;43mfs = list.files(\u001b[39;49m\u001b[38;5;124;43m'\u001b[39;49m\u001b[38;5;124;43mwild/\u001b[39;49m\u001b[38;5;124;43m'\u001b[39;49m\u001b[38;5;124;43m,pattern = \u001b[39;49m\u001b[38;5;124;43m'\u001b[39;49m\u001b[38;5;124;43mlowmiss\u001b[39;49m\u001b[38;5;124;43m'\u001b[39;49m\u001b[38;5;124;43m,full.names = TRUE)\u001b[39;49m\u001b[38;5;130;43;01m\\n\u001b[39;49;00m\u001b[38;5;124;43mwild = bind_rows(lapply(fs, function(PATH)\u001b[39;49m\u001b[38;5;124;43m{\u001b[39;49m\u001b[38;5;124;43mfread(PATH) \u001b[39;49m\u001b[38;5;124;43m%\u001b[39;49m\u001b[38;5;124;43m>\u001b[39;49m\u001b[38;5;132;43;01m% s\u001b[39;49;00m\u001b[38;5;124;43met_colnames(c(\u001b[39;49m\u001b[38;5;124;43m'\u001b[39;49m\u001b[38;5;124;43mchrom\u001b[39;49m\u001b[38;5;124;43m'\u001b[39;49m\u001b[38;5;124;43m,\u001b[39;49m\u001b[38;5;124;43m'\u001b[39;49m\u001b[38;5;124;43mpos\u001b[39;49m\u001b[38;5;124;43m'\u001b[39;49m\u001b[38;5;124;43m,\u001b[39;49m\u001b[38;5;124;43m'\u001b[39;49m\u001b[38;5;124;43mref\u001b[39;49m\u001b[38;5;124;43m'\u001b[39;49m\u001b[38;5;124;43m,\u001b[39;49m\u001b[38;5;124;43m'\u001b[39;49m\u001b[38;5;124;43malt\u001b[39;49m\u001b[38;5;124;43m'\u001b[39;49m\u001b[38;5;124;43m)) \u001b[39;49m\u001b[38;5;124;43m%\u001b[39;49m\u001b[38;5;124;43m>\u001b[39;49m\u001b[38;5;124;43m%\u001b[39;49m\u001b[38;5;124;43m mutate(path = basename(PATH))}))\u001b[39;49m\u001b[38;5;130;43;01m\\n\u001b[39;49;00m\u001b[38;5;124;43mwild \u001b[39;49m\u001b[38;5;124;43m%\u001b[39;49m\u001b[38;5;124;43m<>\u001b[39;49m\u001b[38;5;124;43m%\u001b[39;49m\u001b[38;5;124;43m \u001b[39;49m\u001b[38;5;130;43;01m\\n\u001b[39;49;00m\u001b[38;5;124;43m    mutate(lower = gsub(\u001b[39;49m\u001b[38;5;124;43m'\u001b[39;49m\u001b[38;5;124;43m.*_lowmiss_mutation_sample_\u001b[39;49m\u001b[38;5;124;43m'\u001b[39;49m\u001b[38;5;124;43m,\u001b[39;49m\u001b[38;5;124;43m'\u001b[39;49m\u001b[38;5;124;43m'\u001b[39;49m\u001b[38;5;124;43m,path) \u001b[39;49m\u001b[38;5;124;43m%\u001b[39;49m\u001b[38;5;124;43m>\u001b[39;49m\u001b[38;5;132;43;01m% g\u001b[39;49;00m\u001b[38;5;124;43msub(\u001b[39;49m\u001b[38;5;124;43m'\u001b[39;49m\u001b[38;5;124;43m_.*\u001b[39;49m\u001b[38;5;124;43m'\u001b[39;49m\u001b[38;5;124;43m,\u001b[39;49m\u001b[38;5;124;43m'\u001b[39;49m\u001b[38;5;124;43m'\u001b[39;49m\u001b[38;5;124;43m,.)) \u001b[39;49m\u001b[38;5;124;43m%\u001b[39;49m\u001b[38;5;124;43m>\u001b[39;49m\u001b[38;5;124;43m%\u001b[39;49m\u001b[38;5;130;43;01m\\n\u001b[39;49;00m\u001b[38;5;124;43m    mutate(lower = as.numeric(lower), upper = lower + 0.05)\u001b[39;49m\u001b[38;5;130;43;01m\\n\u001b[39;49;00m\u001b[38;5;124;43mwild \u001b[39;49m\u001b[38;5;124;43m%\u001b[39;49m\u001b[38;5;124;43m<>\u001b[39;49m\u001b[38;5;124;43m%\u001b[39;49m\u001b[38;5;124;43m \u001b[39;49m\u001b[38;5;130;43;01m\\n\u001b[39;49;00m\u001b[38;5;124;43m    mutate(mut_type = paste0(ref,\u001b[39;49m\u001b[38;5;124;43m'\u001b[39;49m\u001b[38;5;124;43m>\u001b[39;49m\u001b[38;5;124;43m'\u001b[39;49m\u001b[38;5;124;43m,alt)) \u001b[39;49m\u001b[38;5;124;43m%\u001b[39;49m\u001b[38;5;124;43m>\u001b[39;49m\u001b[38;5;124;43m%\u001b[39;49m\u001b[38;5;130;43;01m\\n\u001b[39;49;00m\u001b[38;5;124;43m    group_by(mut_type,lower) \u001b[39;49m\u001b[38;5;124;43m%\u001b[39;49m\u001b[38;5;124;43m>\u001b[39;49m\u001b[38;5;124;43m%\u001b[39;49m\u001b[38;5;130;43;01m\\n\u001b[39;49;00m\u001b[38;5;124;43m    count() \u001b[39;49m\u001b[38;5;124;43m%\u001b[39;49m\u001b[38;5;124;43m>\u001b[39;49m\u001b[38;5;124;43m%\u001b[39;49m\u001b[38;5;130;43;01m\\n\u001b[39;49;00m\u001b[38;5;124;43m    ungroup\u001b[39;49m\u001b[38;5;130;43;01m\\n\u001b[39;49;00m\u001b[38;5;130;43;01m\\n\u001b[39;49;00m\u001b[38;5;130;43;01m\\n\u001b[39;49;00m\u001b[38;5;124;43m##\u001b[39;49m\u001b[38;5;130;43;01m\\n\u001b[39;49;00m\u001b[38;5;124;43mcounts_per_maf =\u001b[39;49m\u001b[38;5;130;43;01m\\n\u001b[39;49;00m\u001b[38;5;124;43m    wild \u001b[39;49m\u001b[38;5;124;43m%\u001b[39;49m\u001b[38;5;124;43m>\u001b[39;49m\u001b[38;5;124;43m%\u001b[39;49m\u001b[38;5;130;43;01m\\n\u001b[39;49;00m\u001b[38;5;124;43m    group_by(lower) \u001b[39;49m\u001b[38;5;124;43m%\u001b[39;49m\u001b[38;5;124;43m>\u001b[39;49m\u001b[38;5;124;43m%\u001b[39;49m\u001b[38;5;130;43;01m\\n\u001b[39;49;00m\u001b[38;5;124;43m    summarize(totalcount = sum(n)) \u001b[39;49m\u001b[38;5;124;43m%\u001b[39;49m\u001b[38;5;124;43m>\u001b[39;49m\u001b[38;5;124;43m%\u001b[39;49m\u001b[38;5;130;43;01m\\n\u001b[39;49;00m\u001b[38;5;124;43m    ungroup\u001b[39;49m\u001b[38;5;130;43;01m\\n\u001b[39;49;00m\u001b[38;5;130;43;01m\\n\u001b[39;49;00m\u001b[38;5;130;43;01m\\n\u001b[39;49;00m\u001b[38;5;124;43m##\u001b[39;49m\u001b[38;5;130;43;01m\\n\u001b[39;49;00m\u001b[38;5;124;43mfs = list.files(\u001b[39;49m\u001b[38;5;124;43m'\u001b[39;49m\u001b[38;5;124;43mwild/\u001b[39;49m\u001b[38;5;124;43m'\u001b[39;49m\u001b[38;5;124;43m,pattern = \u001b[39;49m\u001b[38;5;124;43m'\u001b[39;49m\u001b[38;5;124;43mcpgs\u001b[39;49m\u001b[38;5;124;43m'\u001b[39;49m\u001b[38;5;124;43m,full.names = TRUE)\u001b[39;49m\u001b[38;5;130;43;01m\\n\u001b[39;49;00m\u001b[38;5;124;43mCT_CpG = bind_rows(lapply(fs,function(PATH)\u001b[39;49m\u001b[38;5;124;43m{\u001b[39;49m\u001b[38;5;124;43mfread(PATH) \u001b[39;49m\u001b[38;5;124;43m%\u001b[39;49m\u001b[38;5;124;43m>\u001b[39;49m\u001b[38;5;132;43;01m% s\u001b[39;49;00m\u001b[38;5;124;43met_colnames(c(\u001b[39;49m\u001b[38;5;124;43m'\u001b[39;49m\u001b[38;5;124;43mlower\u001b[39;49m\u001b[38;5;124;43m'\u001b[39;49m\u001b[38;5;124;43m,\u001b[39;49m\u001b[38;5;124;43m'\u001b[39;49m\u001b[38;5;124;43mupper\u001b[39;49m\u001b[38;5;124;43m'\u001b[39;49m\u001b[38;5;124;43m,\u001b[39;49m\u001b[38;5;124;43m'\u001b[39;49m\u001b[38;5;124;43mdir\u001b[39;49m\u001b[38;5;124;43m'\u001b[39;49m\u001b[38;5;124;43m,\u001b[39;49m\u001b[38;5;124;43m'\u001b[39;49m\u001b[38;5;124;43mcount\u001b[39;49m\u001b[38;5;124;43m'\u001b[39;49m\u001b[38;5;124;43m))}))\u001b[39;49m\u001b[38;5;130;43;01m\\n\u001b[39;49;00m\u001b[38;5;124;43mCT_CpG \u001b[39;49m\u001b[38;5;124;43m%\u001b[39;49m\u001b[38;5;124;43m<>\u001b[39;49m\u001b[38;5;124;43m%\u001b[39;49m\u001b[38;5;124;43m \u001b[39;49m\u001b[38;5;130;43;01m\\n\u001b[39;49;00m\u001b[38;5;124;43m    group_by(lower) \u001b[39;49m\u001b[38;5;124;43m%\u001b[39;49m\u001b[38;5;124;43m>\u001b[39;49m\u001b[38;5;124;43m%\u001b[39;49m\u001b[38;5;130;43;01m\\n\u001b[39;49;00m\u001b[38;5;124;43m    summarize(count = sum(count)) \u001b[39;49m\u001b[38;5;124;43m%\u001b[39;49m\u001b[38;5;124;43m>\u001b[39;49m\u001b[38;5;124;43m%\u001b[39;49m\u001b[38;5;130;43;01m\\n\u001b[39;49;00m\u001b[38;5;124;43m    ungroup \u001b[39;49m\u001b[38;5;124;43m%\u001b[39;49m\u001b[38;5;124;43m>\u001b[39;49m\u001b[38;5;124;43m%\u001b[39;49m\u001b[38;5;130;43;01m\\n\u001b[39;49;00m\u001b[38;5;124;43m    mutate(label = \u001b[39;49m\u001b[38;5;124;43m'\u001b[39;49m\u001b[38;5;124;43mCpG>TpG\u001b[39;49m\u001b[38;5;124;43m'\u001b[39;49m\u001b[38;5;124;43m,TiTv = \u001b[39;49m\u001b[38;5;124;43m'\u001b[39;49m\u001b[38;5;124;43mTi\u001b[39;49m\u001b[38;5;124;43m'\u001b[39;49m\u001b[38;5;124;43m)\u001b[39;49m\u001b[38;5;130;43;01m\\n\u001b[39;49;00m\u001b[38;5;130;43;01m\\n\u001b[39;49;00m\u001b[38;5;130;43;01m\\n\u001b[39;49;00m\u001b[38;5;124;43m###\u001b[39;49m\u001b[38;5;130;43;01m\\n\u001b[39;49;00m\u001b[38;5;124;43mwild_summary = \u001b[39;49m\u001b[38;5;130;43;01m\\n\u001b[39;49;00m\u001b[38;5;124;43m    left_join(wild, condensed_spectra, by = c(\u001b[39;49m\u001b[38;5;124;43m'\u001b[39;49m\u001b[38;5;124;43mmut_type\u001b[39;49m\u001b[38;5;124;43m'\u001b[39;49m\u001b[38;5;124;43m = \u001b[39;49m\u001b[38;5;124;43m'\u001b[39;49m\u001b[38;5;124;43mforward\u001b[39;49m\u001b[38;5;124;43m'\u001b[39;49m\u001b[38;5;124;43m)) \u001b[39;49m\u001b[38;5;124;43m%\u001b[39;49m\u001b[38;5;124;43m>\u001b[39;49m\u001b[38;5;124;43m%\u001b[39;49m\u001b[38;5;124;43m \u001b[39;49m\u001b[38;5;130;43;01m\\n\u001b[39;49;00m\u001b[38;5;124;43m    left_join(.,condensed_spectra,by = c (\u001b[39;49m\u001b[38;5;124;43m'\u001b[39;49m\u001b[38;5;124;43mmut_type\u001b[39;49m\u001b[38;5;124;43m'\u001b[39;49m\u001b[38;5;124;43m = \u001b[39;49m\u001b[38;5;124;43m'\u001b[39;49m\u001b[38;5;124;43mreverse\u001b[39;49m\u001b[38;5;124;43m'\u001b[39;49m\u001b[38;5;124;43m)) \u001b[39;49m\u001b[38;5;124;43m%\u001b[39;49m\u001b[38;5;124;43m>\u001b[39;49m\u001b[38;5;124;43m%\u001b[39;49m\u001b[38;5;130;43;01m\\n\u001b[39;49;00m\u001b[38;5;124;43m    mutate(label = coalesce(label.x,label.y)) \u001b[39;49m\u001b[38;5;124;43m%\u001b[39;49m\u001b[38;5;124;43m>\u001b[39;49m\u001b[38;5;124;43m%\u001b[39;49m\u001b[38;5;130;43;01m\\n\u001b[39;49;00m\u001b[38;5;124;43m    dplyr::select(mut_type, lower, label, n) \u001b[39;49m\u001b[38;5;124;43m%\u001b[39;49m\u001b[38;5;124;43m>\u001b[39;49m\u001b[38;5;124;43m%\u001b[39;49m\u001b[38;5;130;43;01m\\n\u001b[39;49;00m\u001b[38;5;124;43m    group_by(label,lower) \u001b[39;49m\u001b[38;5;124;43m%\u001b[39;49m\u001b[38;5;124;43m>\u001b[39;49m\u001b[38;5;124;43m%\u001b[39;49m\u001b[38;5;130;43;01m\\n\u001b[39;49;00m\u001b[38;5;124;43m    summarize(count = sum(n)) \u001b[39;49m\u001b[38;5;124;43m%\u001b[39;49m\u001b[38;5;124;43m>\u001b[39;49m\u001b[38;5;124;43m%\u001b[39;49m\u001b[38;5;130;43;01m\\n\u001b[39;49;00m\u001b[38;5;124;43m    left_join(., condensed_spectra, by = c(\u001b[39;49m\u001b[38;5;124;43m'\u001b[39;49m\u001b[38;5;124;43mlabel\u001b[39;49m\u001b[38;5;124;43m'\u001b[39;49m\u001b[38;5;124;43m)) #\u001b[39;49m\u001b[38;5;124;43m%\u001b[39;49m\u001b[38;5;124;43m>\u001b[39;49m\u001b[38;5;124;43m%\u001b[39;49m\u001b[38;5;130;43;01m\\n\u001b[39;49;00m\u001b[38;5;130;43;01m\\n\u001b[39;49;00m\u001b[38;5;124;43mnonCT = \u001b[39;49m\u001b[38;5;130;43;01m\\n\u001b[39;49;00m\u001b[38;5;124;43m    wild_summary \u001b[39;49m\u001b[38;5;124;43m%\u001b[39;49m\u001b[38;5;124;43m>\u001b[39;49m\u001b[38;5;132;43;01m% f\u001b[39;49;00m\u001b[38;5;124;43milter(!label == \u001b[39;49m\u001b[38;5;124;43m'\u001b[39;49m\u001b[38;5;124;43mC>T\u001b[39;49m\u001b[38;5;124;43m'\u001b[39;49m\u001b[38;5;124;43m)\u001b[39;49m\u001b[38;5;130;43;01m\\n\u001b[39;49;00m\u001b[38;5;124;43mCT = \u001b[39;49m\u001b[38;5;130;43;01m\\n\u001b[39;49;00m\u001b[38;5;124;43m    wild_summary \u001b[39;49m\u001b[38;5;124;43m%\u001b[39;49m\u001b[38;5;124;43m>\u001b[39;49m\u001b[38;5;132;43;01m% f\u001b[39;49;00m\u001b[38;5;124;43milter(label == \u001b[39;49m\u001b[38;5;124;43m'\u001b[39;49m\u001b[38;5;124;43mC>T\u001b[39;49m\u001b[38;5;124;43m'\u001b[39;49m\u001b[38;5;124;43m) \u001b[39;49m\u001b[38;5;124;43m%\u001b[39;49m\u001b[38;5;124;43m>\u001b[39;49m\u001b[38;5;124;43m%\u001b[39;49m\u001b[38;5;130;43;01m\\n\u001b[39;49;00m\u001b[38;5;124;43m    left_join(.,CT_CpG, by = c(\u001b[39;49m\u001b[38;5;124;43m'\u001b[39;49m\u001b[38;5;124;43mlower\u001b[39;49m\u001b[38;5;124;43m'\u001b[39;49m\u001b[38;5;124;43m)) \u001b[39;49m\u001b[38;5;124;43m%\u001b[39;49m\u001b[38;5;124;43m>\u001b[39;49m\u001b[38;5;124;43m%\u001b[39;49m\u001b[38;5;130;43;01m\\n\u001b[39;49;00m\u001b[38;5;124;43m    mutate(adjusted = count.x - count.y) \u001b[39;49m\u001b[38;5;124;43m%\u001b[39;49m\u001b[38;5;124;43m>\u001b[39;49m\u001b[38;5;124;43m%\u001b[39;49m\u001b[38;5;130;43;01m\\n\u001b[39;49;00m\u001b[38;5;124;43m    dplyr::select(label.x, lower, adjusted, forward, reverse, TiTv.x) \u001b[39;49m\u001b[38;5;124;43m%\u001b[39;49m\u001b[38;5;124;43m>\u001b[39;49m\u001b[38;5;124;43m%\u001b[39;49m\u001b[38;5;130;43;01m\\n\u001b[39;49;00m\u001b[38;5;124;43m    set_colnames(c(\u001b[39;49m\u001b[38;5;124;43m'\u001b[39;49m\u001b[38;5;124;43mlabel\u001b[39;49m\u001b[38;5;124;43m'\u001b[39;49m\u001b[38;5;124;43m,\u001b[39;49m\u001b[38;5;124;43m'\u001b[39;49m\u001b[38;5;124;43mlower\u001b[39;49m\u001b[38;5;124;43m'\u001b[39;49m\u001b[38;5;124;43m,\u001b[39;49m\u001b[38;5;124;43m'\u001b[39;49m\u001b[38;5;124;43mcount\u001b[39;49m\u001b[38;5;124;43m'\u001b[39;49m\u001b[38;5;124;43m,\u001b[39;49m\u001b[38;5;124;43m'\u001b[39;49m\u001b[38;5;124;43mforward\u001b[39;49m\u001b[38;5;124;43m'\u001b[39;49m\u001b[38;5;124;43m,\u001b[39;49m\u001b[38;5;124;43m'\u001b[39;49m\u001b[38;5;124;43mreverse\u001b[39;49m\u001b[38;5;124;43m'\u001b[39;49m\u001b[38;5;124;43m,\u001b[39;49m\u001b[38;5;124;43m'\u001b[39;49m\u001b[38;5;124;43mTiTv\u001b[39;49m\u001b[38;5;124;43m'\u001b[39;49m\u001b[38;5;124;43m))\u001b[39;49m\u001b[38;5;130;43;01m\\n\u001b[39;49;00m\u001b[38;5;130;43;01m\\n\u001b[39;49;00m\u001b[38;5;130;43;01m\\n\u001b[39;49;00m\u001b[38;5;124;43mfinal = \u001b[39;49m\u001b[38;5;130;43;01m\\n\u001b[39;49;00m\u001b[38;5;124;43m    bind_rows(list(nonCT,CT,CT_CpG)) \u001b[39;49m\u001b[38;5;124;43m%\u001b[39;49m\u001b[38;5;124;43m>\u001b[39;49m\u001b[38;5;124;43m%\u001b[39;49m\u001b[38;5;130;43;01m\\n\u001b[39;49;00m\u001b[38;5;124;43m    left_join(., counts_per_maf) \u001b[39;49m\u001b[38;5;124;43m%\u001b[39;49m\u001b[38;5;124;43m>\u001b[39;49m\u001b[38;5;124;43m%\u001b[39;49m\u001b[38;5;130;43;01m\\n\u001b[39;49;00m\u001b[38;5;124;43m    mutate(pct = count/totalcount)\u001b[39;49m\u001b[38;5;130;43;01m\\n\u001b[39;49;00m\u001b[38;5;130;43;01m\\n\u001b[39;49;00m\u001b[38;5;124;43mhead(final)\u001b[39;49m\u001b[38;5;130;43;01m\\n\u001b[39;49;00m\u001b[38;5;124;43m\"\u001b[39;49m\u001b[43m)\u001b[49m\n",
      "File \u001b[0;32m/private/groups/shapirolab/brock/miniconda3/envs/doom/lib/python3.12/site-packages/IPython/core/interactiveshell.py:2541\u001b[0m, in \u001b[0;36mInteractiveShell.run_cell_magic\u001b[0;34m(self, magic_name, line, cell)\u001b[0m\n\u001b[1;32m   2539\u001b[0m \u001b[38;5;28;01mwith\u001b[39;00m \u001b[38;5;28mself\u001b[39m\u001b[38;5;241m.\u001b[39mbuiltin_trap:\n\u001b[1;32m   2540\u001b[0m     args \u001b[38;5;241m=\u001b[39m (magic_arg_s, cell)\n\u001b[0;32m-> 2541\u001b[0m     result \u001b[38;5;241m=\u001b[39m \u001b[43mfn\u001b[49m\u001b[43m(\u001b[49m\u001b[38;5;241;43m*\u001b[39;49m\u001b[43margs\u001b[49m\u001b[43m,\u001b[49m\u001b[43m \u001b[49m\u001b[38;5;241;43m*\u001b[39;49m\u001b[38;5;241;43m*\u001b[39;49m\u001b[43mkwargs\u001b[49m\u001b[43m)\u001b[49m\n\u001b[1;32m   2543\u001b[0m \u001b[38;5;66;03m# The code below prevents the output from being displayed\u001b[39;00m\n\u001b[1;32m   2544\u001b[0m \u001b[38;5;66;03m# when using magics with decorator @output_can_be_silenced\u001b[39;00m\n\u001b[1;32m   2545\u001b[0m \u001b[38;5;66;03m# when the last Python token in the expression is a ';'.\u001b[39;00m\n\u001b[1;32m   2546\u001b[0m \u001b[38;5;28;01mif\u001b[39;00m \u001b[38;5;28mgetattr\u001b[39m(fn, magic\u001b[38;5;241m.\u001b[39mMAGIC_OUTPUT_CAN_BE_SILENCED, \u001b[38;5;28;01mFalse\u001b[39;00m):\n",
      "File \u001b[0;32m/private/groups/shapirolab/brock/miniconda3/envs/doom/lib/python3.12/site-packages/rpy2/ipython/rmagic.py:943\u001b[0m, in \u001b[0;36mRMagics.R\u001b[0;34m(self, line, cell, local_ns)\u001b[0m\n\u001b[1;32m    941\u001b[0m     \u001b[38;5;28;01mif\u001b[39;00m \u001b[38;5;129;01mnot\u001b[39;00m e\u001b[38;5;241m.\u001b[39mstdout\u001b[38;5;241m.\u001b[39mendswith(e\u001b[38;5;241m.\u001b[39merr):\n\u001b[1;32m    942\u001b[0m         \u001b[38;5;28mprint\u001b[39m(e\u001b[38;5;241m.\u001b[39merr)\n\u001b[0;32m--> 943\u001b[0m     \u001b[38;5;28;01mraise\u001b[39;00m e\n\u001b[1;32m    944\u001b[0m \u001b[38;5;28;01mfinally\u001b[39;00m:\n\u001b[1;32m    945\u001b[0m     \u001b[38;5;28;01mif\u001b[39;00m \u001b[38;5;28mself\u001b[39m\u001b[38;5;241m.\u001b[39mdevice \u001b[38;5;129;01min\u001b[39;00m DEVICES_STATIC:\n",
      "File \u001b[0;32m/private/groups/shapirolab/brock/miniconda3/envs/doom/lib/python3.12/site-packages/rpy2/ipython/rmagic.py:923\u001b[0m, in \u001b[0;36mRMagics.R\u001b[0;34m(self, line, cell, local_ns)\u001b[0m\n\u001b[1;32m    921\u001b[0m         return_output \u001b[38;5;241m=\u001b[39m \u001b[38;5;28;01mFalse\u001b[39;00m\n\u001b[1;32m    922\u001b[0m \u001b[38;5;28;01melse\u001b[39;00m:\n\u001b[0;32m--> 923\u001b[0m     text_result, result, visible \u001b[38;5;241m=\u001b[39m \u001b[38;5;28;43mself\u001b[39;49m\u001b[38;5;241;43m.\u001b[39;49m\u001b[43meval\u001b[49m\u001b[43m(\u001b[49m\u001b[43mcode\u001b[49m\u001b[43m)\u001b[49m\n\u001b[1;32m    924\u001b[0m     text_output \u001b[38;5;241m+\u001b[39m\u001b[38;5;241m=\u001b[39m text_result\n\u001b[1;32m    925\u001b[0m     \u001b[38;5;28;01mif\u001b[39;00m visible:\n",
      "File \u001b[0;32m/private/groups/shapirolab/brock/miniconda3/envs/doom/lib/python3.12/site-packages/rpy2/ipython/rmagic.py:389\u001b[0m, in \u001b[0;36mRMagics.eval\u001b[0;34m(self, code)\u001b[0m\n\u001b[1;32m    386\u001b[0m \u001b[38;5;28;01mexcept\u001b[39;00m (ri\u001b[38;5;241m.\u001b[39membedded\u001b[38;5;241m.\u001b[39mRRuntimeError, \u001b[38;5;167;01mValueError\u001b[39;00m) \u001b[38;5;28;01mas\u001b[39;00m exception:\n\u001b[1;32m    387\u001b[0m     \u001b[38;5;66;03m# Otherwise next return seems to have copy of error.\u001b[39;00m\n\u001b[1;32m    388\u001b[0m     warning_or_other_msg \u001b[38;5;241m=\u001b[39m \u001b[38;5;28mself\u001b[39m\u001b[38;5;241m.\u001b[39mflush()\n\u001b[0;32m--> 389\u001b[0m     \u001b[38;5;28;01mraise\u001b[39;00m RInterpreterError(code, \u001b[38;5;28mstr\u001b[39m(exception),\n\u001b[1;32m    390\u001b[0m                             warning_or_other_msg)\n\u001b[1;32m    391\u001b[0m text_output \u001b[38;5;241m=\u001b[39m \u001b[38;5;28mself\u001b[39m\u001b[38;5;241m.\u001b[39mflush()\n\u001b[1;32m    392\u001b[0m \u001b[38;5;28;01mreturn\u001b[39;00m text_output, value, visible[\u001b[38;5;241m0\u001b[39m]\n",
      "\u001b[0;31mRInterpreterError\u001b[0m: Failed to parse and evaluate line \"condensed_spectra = data.frame(label = c('C>A','C>G','C>T','T>A','T>C','T>G'), \\n                               forward = c('C>A','C>G','C>T','T>A','T>C','T>G'), \\n                               reverse = c('G>T','G>C','G>A','A>T','A>G','A>C'))\\n\\nfs = list.files('wild/',pattern = 'lowmiss',full.names = TRUE)\\nwild = bind_rows(lapply(fs, function(PATH){fread(PATH) %>% set_colnames(c('chrom','pos','ref','alt')) %>% mutate(path = basename(PATH))}))\\nwild %<>% \\n    mutate(lower = gsub('.*_lowmiss_mutation_sample_','',path) %>% gsub('_.*','',.)) %>%\\n    mutate(lower = as.numeric(lower), upper = lower + 0.05)\\nwild %<>% \\n    mutate(mut_type = paste0(ref,'>',alt)) %>%\\n    group_by(mut_type,lower) %>%\\n    count() %>%\\n    ungroup\\n\\n\\n##\\ncounts_per_maf =\\n    wild %>%\\n    group_by(lower) %>%\\n    summarize(totalcount = sum(n)) %>%\\n    ungroup\\n\\n\\n##\\nfs = list.files('wild/',pattern = 'cpgs',full.names = TRUE)\\nCT_CpG = bind_rows(lapply(fs,function(PATH){fread(PATH) %>% set_colnames(c('lower','upper','dir','count'))}))\\nCT_CpG %<>% \\n    group_by(lower) %>%\\n    summarize(count = sum(count)) %>%\\n    ungroup %>%\\n    mutate(label = 'CpG>TpG',TiTv = 'Ti')\\n\\n\\n###\\nwild_summary = \\n    left_join(wild, condensed_spectra, by = c('mut_type' = 'forward')) %>% \\n    left_join(.,condensed_spectra,by = c ('mut_type' = 'reverse')) %>%\\n    mutate(label = coalesce(label.x,label.y)) %>%\\n    dplyr::select(mut_type, lower, label, n) %>%\\n    group_by(label,lower) %>%\\n    summarize(count = sum(n)) %>%\\n    left_join(., condensed_spectra, by = c('label')) #%>%\\n\\nnonCT = \\n    wild_summary %>% filter(!label == 'C>T')\\nCT = \\n    wild_summary %>% filter(label == 'C>T') %>%\\n    left_join(.,CT_CpG, by = c('lower')) %>%\\n    mutate(adjusted = count.x - count.y) %>%\\n    dplyr::select(label.x, lower, adjusted, forward, reverse, TiTv.x) %>%\\n    set_colnames(c('label','lower','count','forward','reverse','TiTv'))\\n\\n\\nfinal = \\n    bind_rows(list(nonCT,CT,CT_CpG)) %>%\\n    left_join(., counts_per_maf) %>%\\n    mutate(pct = count/totalcount)\\n\\nhead(final)\\n\".\nR error message: 'Error in group_by(., lower) : \\n✖ Column `lower` is not found.'"
     ]
    }
   ],
   "source": [
    "%%R -w 500 -h 200\n",
    "condensed_spectra = data.frame(label = c('C>A','C>G','C>T','T>A','T>C','T>G'), \n",
    "                               forward = c('C>A','C>G','C>T','T>A','T>C','T>G'), \n",
    "                               reverse = c('G>T','G>C','G>A','A>T','A>G','A>C'))\n",
    "\n",
    "fs = list.files('wild/',pattern = 'lowmiss',full.names = TRUE)\n",
    "wild = bind_rows(lapply(fs, function(PATH){fread(PATH) %>% set_colnames(c('chrom','pos','ref','alt')) %>% mutate(path = basename(PATH))}))\n",
    "wild %<>% \n",
    "    mutate(lower = gsub('.*_lowmiss_mutation_sample_','',path) %>% gsub('_.*','',.)) %>%\n",
    "    mutate(lower = as.numeric(lower), upper = lower + 0.05)\n",
    "wild %<>% \n",
    "    mutate(mut_type = paste0(ref,'>',alt)) %>%\n",
    "    group_by(mut_type,lower) %>%\n",
    "    count() %>%\n",
    "    ungroup\n",
    "\n",
    "\n",
    "##\n",
    "counts_per_maf =\n",
    "    wild %>%\n",
    "    group_by(lower) %>%\n",
    "    summarize(totalcount = sum(n)) %>%\n",
    "    ungroup\n",
    "\n",
    "\n",
    "##\n",
    "fs = list.files('wild/',pattern = 'cpgs',full.names = TRUE)\n",
    "CT_CpG = bind_rows(lapply(fs,function(PATH){fread(PATH) %>% set_colnames(c('lower','upper','dir','count'))}))\n",
    "CT_CpG %<>% \n",
    "    group_by(lower) %>%\n",
    "    summarize(count = sum(count)) %>%\n",
    "    ungroup %>%\n",
    "    mutate(label = 'CpG>TpG',TiTv = 'Ti')\n",
    "\n",
    "\n",
    "###\n",
    "wild_summary = \n",
    "    left_join(wild, condensed_spectra, by = c('mut_type' = 'forward')) %>% \n",
    "    left_join(.,condensed_spectra,by = c ('mut_type' = 'reverse')) %>%\n",
    "    mutate(label = coalesce(label.x,label.y)) %>%\n",
    "    dplyr::select(mut_type, lower, label, n) %>%\n",
    "    group_by(label,lower) %>%\n",
    "    summarize(count = sum(n)) %>%\n",
    "    left_join(., condensed_spectra, by = c('label')) #%>%\n",
    "\n",
    "nonCT = \n",
    "    wild_summary %>% filter(!label == 'C>T')\n",
    "CT = \n",
    "    wild_summary %>% filter(label == 'C>T') %>%\n",
    "    left_join(.,CT_CpG, by = c('lower')) %>%\n",
    "    mutate(adjusted = count.x - count.y) %>%\n",
    "    dplyr::select(label.x, lower, adjusted, forward, reverse, TiTv.x) %>%\n",
    "    set_colnames(c('label','lower','count','forward','reverse','TiTv'))\n",
    "\n",
    "\n",
    "final = \n",
    "    bind_rows(list(nonCT,CT,CT_CpG)) %>%\n",
    "    left_join(., counts_per_maf) %>%\n",
    "    mutate(pct = count/totalcount)\n",
    "\n",
    "ggplot(final, aes(x = lower + 0.05, y = pct, color = label)) +\n",
    "    geom_point(size = 4, alpha = 0.8, pch = 20) +\n",
    "    xlab(\"MAF upper bound [X - 0.05, X)\") +\n",
    "    ylab(\"Pct. of SNPs in wild individuals\") +\n",
    "    scale_color_npg() +\n",
    "\n",
    "    #ggtitle('SNP spectra by 0.05 bin widths') +\n",
    "    geom_line() +\n",
    "    theme_classic() +\n",
    "    ylim(c(0,0.40)) +\n",
    "    scale_x_continuous(limits = c(0, 1), breaks = seq(0, 1, by = 0.05)) "
   ]
  },
  {
   "cell_type": "markdown",
   "id": "e73e8b89-7a7b-4f12-af79-c4bc3c9eb0ec",
   "metadata": {},
   "source": [
    "## Fig. 2"
   ]
  },
  {
   "cell_type": "code",
   "execution_count": 336,
   "id": "a4f1148a-f4d5-4a70-b06e-5b6c64896af9",
   "metadata": {},
   "outputs": [
    {
     "name": "stdout",
     "output_type": "stream",
     "text": [
      "`geom_line()`: Each group consists of only one observation.\n",
      "ℹ Do you need to adjust the group aesthetic?\n",
      "png \n",
      "  2 \n"
     ]
    }
   ],
   "source": [
    "%%R -w 800 -h 300\n",
    "library(wesanderson)\n",
    "library(ggsci)\n",
    "### PROCESSING PEDIGREE SPECTRA\n",
    "results = fread('final/all_sample_by_candidates.txt') %>% \n",
    "    set_colnames(c('sample','chrom','start','pos','ref','alt')) %>%\n",
    "    dplyr::select(chrom,pos,ref,alt) %>%\n",
    "    distinct\n",
    "\n",
    "results %<>% \n",
    "    mutate(mut_type = paste0(ref,'>',alt)) %>%\n",
    "    group_by(mut_type) %>%\n",
    "    count() %>%\n",
    "    ungroup\n",
    "\n",
    "condensed_spectra = data.frame(label = c('C>A','C>G','C>T','T>A','T>C','T>G'), \n",
    "                               forward = c('C>A','C>G','C>T','T>A','T>C','T>G'), \n",
    "                               reverse = c('G>T','G>C','G>A','A>T','A>G','A>C'),\n",
    "                               TiTv = c('Tv','Tv','Ti','Tv','Ti','Tv'))\n",
    "\n",
    "\n",
    "mut_summary = \n",
    "left_join(results, condensed_spectra, by = c('mut_type' = 'forward')) %>% \n",
    "left_join(.,condensed_spectra,by = c ('mut_type' = 'reverse')) %>%\n",
    "mutate(label = coalesce(label.x,label.y)) %>%\n",
    "    dplyr::select(mut_type, label, n) %>%\n",
    "    group_by(label) %>%\n",
    "    summarize(count = sum(n)) %>%\n",
    "    left_join(., condensed_spectra, by = c('label')) %>%\n",
    "    mutate(count = ifelse(label == 'C>T',count - 10,count), type = \"norm\") %>%\n",
    "    bind_rows(., data.frame(label = c('CpG>TpG'), count = c(10), type = c('CpG'))) %>%\n",
    "    mutate(dummy = \"A\") %>%\n",
    "    mutate(pct = count/sum(count), source = 'mut')\n",
    "\n",
    "\n",
    "    \n",
    "\n",
    "left = \n",
    "    ggplot(mut_summary,aes(x = dummy, y = pct, color = label)) +\n",
    "    geom_jitter(width = 0, height = 0.01, size = 4, alpha = 0.8, pch = 20) +\n",
    "    geom_line() +\n",
    "    scale_color_npg() +\n",
    "    ylab(\"Pct. of DNMs in pedigrees\") +\n",
    "    xlab(\"\") +\n",
    "    theme_classic() + \n",
    "    theme(legend.position = 'none') +\n",
    "    ylim(c(0,0.40))\n",
    "\n",
    "right = \n",
    "    ggplot(final,aes(x = lower + 0.05, y = pct, color = label)) +\n",
    "    geom_point(size = 4, alpha = 0.8, pch = 20) +\n",
    "    xlab(\"MAF upper bound [X - 0.05, X)\") +\n",
    "    ylab(\"Pct. of SNPs in wild individuals\") +\n",
    "    scale_color_npg() +\n",
    "\n",
    "    #ggtitle('SNP spectra by 0.05 bin widths') +\n",
    "    geom_line() +\n",
    "    theme_classic() +\n",
    "    ylim(c(0,0.40)) +\n",
    "    scale_x_continuous(limits = c(0, 1), breaks = seq(0, 1, by = 0.05)) \n",
    "\n",
    "p = left + right + plot_layout(widths = c(1,5))\n",
    "#pdf('./mutation_figs/maf_spectra.svg',width = 8, height = 3)\n",
    "print(p)\n",
    "#dev.off()"
   ]
  },
  {
   "cell_type": "markdown",
   "id": "2b534f1a-c740-415c-b70a-9f28a304f973",
   "metadata": {},
   "source": [
    "# Other species"
   ]
  },
  {
   "cell_type": "markdown",
   "id": "6c0e504f-3758-449a-8bb9-5815a511accb",
   "metadata": {},
   "source": [
    "Most data from: https://academic.oup.com/evlett/article/7/4/216/7202139#411808538"
   ]
  },
  {
   "cell_type": "code",
   "execution_count": 31,
   "id": "8fe4a373-a726-4cf1-8a91-7720ec3e48da",
   "metadata": {},
   "outputs": [
    {
     "name": "stdout",
     "output_type": "stream",
     "text": [
      "# A tibble: 102 × 1\n",
      "   Species                 \n",
      "   <chr>                   \n",
      " 1 Drosophila pseudoobscura\n",
      " 2 Chironomus riparius     \n",
      " 3 Anopheles gambiae       \n",
      " 4 Anopheles coluzzii      \n",
      " 5 Anopheles stephensi     \n",
      " 6 Drosophila melanogaster \n",
      " 7 Drosophila simulans     \n",
      " 8 Bombyx mori             \n",
      " 9 Heliconius melpomene    \n",
      "10 Apis mellifera          \n",
      "# ℹ 92 more rows\n",
      "# ℹ Use `print(n = ...)` to see more rows\n"
     ]
    }
   ],
   "source": [
    "%%R\n",
    "library(readxl)\n",
    "data = read_excel('mutation_literature/mutation_rate_literature_updating3.xlsx', sheet = 1)\n",
    "snp_rates = \n",
    "    data %>% \n",
    "    #filter(Group != 'Unicellular') %>%\n",
    "    filter(TYPE == 'snp') %>%\n",
    "    filter(reproduction == 'sexual') %>%\n",
    "    mutate(u_mean = as.numeric(u_mean))\n",
    "snp_rates %>%\n",
    "    filter(!Group %in% c('unicellular', 'plants','fungus')) %>%\n",
    "    #filter(Group %in% c('birds','mammals','primates','human','fish','reptiles')) %>%\n",
    "    dplyr::select(Species) %>%\n",
    "    distinct"
   ]
  },
  {
   "cell_type": "code",
   "execution_count": 32,
   "id": "00b45d4f-5471-401d-80ce-ccefd1ccc37c",
   "metadata": {},
   "outputs": [
    {
     "name": "stdout",
     "output_type": "stream",
     "text": [
      "`stat_bin()` using `bins = 30`. Pick better value with `binwidth`.\n"
     ]
    },
    {
     "data": {
      "image/png": "[encoded data removed]",
      "text/plain": [
       "<IPython.core.display.Image object>"
      ]
     },
     "metadata": {},
     "output_type": "display_data"
    }
   ],
   "source": [
    "%%R -w 600 -h 300\n",
    "snp_rates = \n",
    "    data %>% \n",
    "    #filter(Group != 'Unicellular') %>%\n",
    "    filter(TYPE == 'snp') %>%\n",
    "    filter(reproduction == 'sexual') %>%\n",
    "    mutate(u_mean = as.numeric(u_mean))\n",
    "    \n",
    "ggplot(snp_rates %>% filter(!Group %in% c('human','unicellular'))) + \n",
    "    geom_histogram(aes(x = u_mean, fill = Group2), alpha = 0.5) +\n",
    "    geom_vline(aes(xintercept = 7.99e-09),lty =2, col = 'red') +\n",
    "    theme_classic()\n",
    "    "
   ]
  },
  {
   "cell_type": "markdown",
   "id": "570e9ea0-2a87-4f99-9d71-42a359c93622",
   "metadata": {},
   "source": [
    "## Broadcast spawners"
   ]
  },
  {
   "cell_type": "code",
   "execution_count": 35,
   "id": "573280d1-ce16-47d2-9791-87b2cd0b3c3d",
   "metadata": {},
   "outputs": [
    {
     "data": {
      "image/png": "[encoded data removed]",
      "text/plain": [
       "<IPython.core.display.Image object>"
      ]
     },
     "metadata": {},
     "output_type": "display_data"
    }
   ],
   "source": [
    "%%R -w 500 -h 300\n",
    "snp_rates = \n",
    "    data %>% \n",
    "    #filter(Group != 'Unicellular') %>%\n",
    "    filter(TYPE == 'snp') %>%\n",
    "    filter(reproduction == 'sexual') %>%\n",
    "    mutate(u_mean = as.numeric(u_mean))\n",
    "\n",
    "inp = \n",
    "    snp_rates %>% \n",
    "    filter(!Group %in% c('human','unicellular')) %>% \n",
    "    filter(!Species %in% c('Amphilophus','Marasmius oreades')) %>%\n",
    "    group_by(Species) %>% \n",
    "    mutate(idx = seq(1,n(),1)) %>% \n",
    "    ungroup  %>% \n",
    "    mutate(Group2 = ifelse(Group2 == 'primates','mammals',Group2)) %>%\n",
    "    mutate(Group2 = fct_relevel(Group2,c('primates','mammals','birds','reptiles','fish','Echinodermata','arthropods','nematodes','fungi','plants'))) %>%\n",
    "    mutate(SPordered = fct_reorder(Species,as.numeric(Group2)))  %>%\n",
    "    filter(Broadcast == 'Y')\n",
    "\n",
    "lower = 1e-10\n",
    "upper = 1e-07\n",
    "\n",
    "a = \n",
    "    ggplot() +\n",
    "    geom_tile(aes(x = 8.60e-09, width = Inf, y=\"Haliotis sorenseni\"), alpha = 0.1, fill = 'black') +\n",
    "    geom_point(aes(x = 8.60e-09, y = \"Haliotis sorenseni\"), size = 3) +\n",
    "    geom_segment(aes(x = 6.096043e-09,xend = 1.111221e-08, y = 'Haliotis sorenseni'), size = 1) + \n",
    "    ylab(\"\") +\n",
    "    theme_classic() +\n",
    "    theme(axis.title.x = element_blank(), axis.ticks.x = element_blank(), panel.grid.major = element_blank(),panel.grid.minor = element_blank()) +\n",
    "    #coord_cartesian(xlim = c(lower,upper)) +\n",
    "    #coord_trans(x = \"log10\",xlim = c(lower,upper)) +\n",
    "    scale_x_log10(guide = \"axis_logticks\", limits = c(lower,upper))\n",
    "\n",
    "b = \n",
    "    ggplot() + \n",
    "    geom_tile(data = inp %>% dplyr::select(SPordered,Group2) %>% distinct, aes(x = 1e-09, width = Inf, y=SPordered,fill=Group2), alpha = 0.5) +\n",
    "    geom_vline(aes(xintercept = 8.60e-09),lty = 2, col = 'red', size = 1) +    \n",
    "    geom_point(data = inp, aes(x = as.numeric(u_mean), y = SPordered, group = Species)) + \n",
    "    geom_segment(data = inp, aes(x = as.numeric(u_lower),xend = as.numeric(u_upper), y = SPordered)) + \n",
    "    xlab(\"\") +\n",
    "    theme_classic() +\n",
    "    #scale_x_continuous(sec.axis = dup_axis()) +\n",
    "    #coord_cartesian(xlim = c(lower,upper))\n",
    "    #coord_trans(x = \"log10\", xlim = c(lower,upper)) \n",
    "    scale_x_log10(guide = \"axis_logticks\", limits = c(lower,upper))\n",
    "\n",
    "library(patchwork)\n",
    "a/b + plot_layout(heights = c(0.2,1))"
   ]
  },
  {
   "cell_type": "markdown",
   "id": "755464c9-a3d4-492a-b1ac-a2eb4ef98f15",
   "metadata": {},
   "source": [
    "## **Fig. 1** (With tree)"
   ]
  },
  {
   "cell_type": "code",
   "execution_count": 37,
   "id": "92730984-fbfe-4851-89af-b87fecfa278b",
   "metadata": {},
   "outputs": [
    {
     "data": {
      "image/png": "[encoded data removed]",
      "text/plain": [
       "<IPython.core.display.Image object>"
      ]
     },
     "metadata": {},
     "output_type": "display_data"
    }
   ],
   "source": [
    "%%R -w 1000 -h 1000\n",
    "\n",
    "snp_rates = \n",
    "    data %>% \n",
    "    #filter(Group != 'Unicellular') %>%\n",
    "    filter(TYPE == 'snp') %>%\n",
    "    filter(reproduction == 'sexual') %>%\n",
    "    mutate(u_mean = as.numeric(u_mean))\n",
    "snp_rates = bind_rows(snp_rates, data.frame(Group2 = 'mollusks', Species = \"Haliotis sorenseni\", u_mean = 8.60e-09, u_lower = '6.096043e-09', u_upper = '1.111221e-08'))\n",
    "\n",
    "inp = \n",
    "    snp_rates %>% \n",
    "    filter(!Group %in% c('human','unicellular')) %>% \n",
    "    filter(!Species %in% c('Amphilophus','Marasmius oreades')) %>%\n",
    "    group_by(Species) %>% \n",
    "    mutate(rep = as.character(seq(1,n(),1))) %>% \n",
    "    ungroup  %>% \n",
    "    mutate(Group2 = ifelse(Group2 == 'primates','mammals',Group2)) %>%\n",
    "    mutate(Group2 = fct_relevel(Group2,c('primates','mammals','birds','reptiles','fish','Echinodermata','mollusks','arthropods','nematodes','fungi','plants'))) %>%\n",
    "    mutate(SPordered = fct_reorder(Species,as.numeric(Group2)))\n",
    "    \n",
    "    \n",
    "#fwrite(inp %>% dplyr::select(Species) %>% distinct,'misc/species.txt',col.names=F)\n",
    "\n",
    "\n",
    "\n",
    "lower = 1e-10\n",
    "upper = 1e-07\n",
    "\n",
    "b = \n",
    "    ggplot(data = inp %>% mutate(Species = gsub(\" \",\"_\",Species)), aes(x = as.numeric(u_mean), y = Species)) + \n",
    "    geom_point() +    \n",
    "    geom_tile(aes(x = 1e-09, width = Inf, y=Species,fill=Group2), alpha = 0.5) +\n",
    "    #scale_alpha(range = c(0.5,0.5)) +\n",
    "    geom_vline(aes(xintercept = 8.60e-09),lty = 2, col = 'red', size = 1) +\n",
    "    geom_point(size = 2) +\n",
    "    geom_segment(aes(x = as.numeric(u_lower),xend = as.numeric(u_upper), y = Species)) + \n",
    "    xlab(\"\") +\n",
    "    ylab(\"\") + \n",
    "    theme_classic() + \n",
    "    theme(axis.text.y = element_blank()) + \n",
    "    #scale_x_continuous(sec.axis = dup_axis()) +\n",
    "    #coord_cartesian(xlim = c(lower,upper))\n",
    "    #coord_trans(x = \"log10\", xlim = c(lower,upper)) \n",
    "    scale_x_log10(guide = \"axis_logticks\", limits = c(lower,upper))\n",
    "\n",
    "#b\n",
    "library(ggtree)\n",
    "library(aplot)\n",
    "nwk = read.tree('misc/timetree_mut_species_edited.nwk')\n",
    "\n",
    "p = \n",
    "    ggtree(nwk) +\n",
    "    geom_tiplab(size = 2) +\n",
    "    xlim(c(0,2000))\n",
    "\n",
    "c = b %>% insert_left(p,3)\n",
    "c$plotlist[[2]]$data$label  = sapply(c$plotlist[[2]]$data$label,function(STRING){gsub(\"_\",\" \",STRING)})\n",
    "\n",
    "\n",
    "#pdf('mutation_figs/tree_rates.pdf',width = 7, height = 7)\n",
    "print(c)\n",
    "#dev.off()"
   ]
  },
  {
   "cell_type": "markdown",
   "id": "fc445aa6-56f8-47de-bd75-df5424394e72",
   "metadata": {},
   "source": [
    "## Life history supp. figure"
   ]
  },
  {
   "cell_type": "code",
   "execution_count": 146,
   "id": "5a02c2bb-a41a-4725-a429-47666f58ff72",
   "metadata": {},
   "outputs": [],
   "source": [
    "%%R -w 800 -h 800\n",
    "library(patchwork)\n",
    "lh = read_excel('bergeron_supplement.xlsx',sheet = 9, skip = 1)\n",
    "a = ggplot(lh) +\n",
    "    geom_point(aes(x = `Generation time (years)`, y = `Modeled rate per generation (m_generation_modeled)`), size = 3, shape = 19 ) +\n",
    "    geom_point(aes(x = 6, y = 8.60e-9), size = 3, color = 'red') +\n",
    "    xlab('Generation time') +\n",
    "    ylab('Mutation rate per site per generation') +\n",
    "    theme_classic() \n",
    "\n",
    "b = ggplot(lh) +\n",
    "    geom_point(aes(x = `Average maturation time`, y = `Modeled rate per generation (m_generation_modeled)`), size = 3, shape = 19) +\n",
    "    geom_point(aes(x = 4, y = 8.60e-9), size = 3, color = 'red') +\n",
    "    xlab('Age at sexual maturity') +\n",
    "    ylab('Mutation rate per site per generation') +\n",
    "    theme_classic() \n",
    "\n",
    "c = ggplot(lh) +\n",
    "    geom_point(aes(x = `Lifespan in the wild (years)`, y = `Modeled rate per generation (m_generation_modeled)`), size = 3, shape = 19) +\n",
    "    geom_point(aes(x = 20, y = 8.60e-9), size = 3, color = 'red') +\n",
    "    xlab('Lifespan in the wild') +\n",
    "    ylab('Mutation rate per site per generation') +\n",
    "    theme_classic() \n",
    "\n",
    "# Harmonic mean sorenseni is 52124\n",
    "d = ggplot(lh) +\n",
    "    geom_point(aes(x = log10(as.numeric(`Ne (harmonic mean, psmc)`)), y = `Modeled rate per generation (m_generation_modeled)`), size = 3, shape = 19) +\n",
    "    geom_point(aes(x = log10(52124), y = 8.60e-9), size = 3, color = 'red') +\n",
    "    xlab('Log10 Ne') +\n",
    "    ylab('Mutation rate per site per generation') +\n",
    "    theme_classic() \n",
    "\n",
    "\n",
    "(a + b) / (c + d)\n",
    "ggsave('mutation_figs/lh_supp.pdf',width = 7, height = 6)\n"
   ]
  }
 ],
 "metadata": {
  "kernelspec": {
   "display_name": "doom",
   "language": "python",
   "name": "myenv"
  },
  "language_info": {
   "codemirror_mode": {
    "name": "ipython",
    "version": 3
   },
   "file_extension": ".py",
   "mimetype": "text/x-python",
   "name": "python",
   "nbconvert_exporter": "python",
   "pygments_lexer": "ipython3",
   "version": "3.12.3"
  },
  "toc": {
   "base_numbering": 1,
   "nav_menu": {},
   "number_sections": true,
   "sideBar": true,
   "skip_h1_title": false,
   "title_cell": "Table of Contents",
   "title_sidebar": "Contents",
   "toc_cell": false,
   "toc_position": {
    "height": "calc(100% - 180px)",
    "left": "10px",
    "top": "150px",
    "width": "410px"
   },
   "toc_section_display": true,
   "toc_window_display": true
  }
 },
 "nbformat": 4,
 "nbformat_minor": 5
}
