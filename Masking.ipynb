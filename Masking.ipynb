{
 "cells": [
  {
   "cell_type": "code",
   "execution_count": 1,
   "id": "cac36445",
   "metadata": {},
   "outputs": [],
   "source": [
    "import os\n",
    "import pandas as pd\n",
    "import numpy as np\n",
    "\n",
    "from tqdm import tqdm\n",
    "import sys\n",
    "\n",
    "sys.path.append('/private/groups/shapirolab/brock/Software')\n",
    "from py3_functions import *\n",
    "\n",
    "from IPython.display import display\n",
    "\n",
    "!mkdir -p /private/groups/shapirolab/brock/mutation\n",
    "os.chdir('/private/groups/shapirolab/brock/mutation')\n",
    "!mkdir -p cmds logs\n",
    "\n",
    "### R stuff\n",
    "from rpy2 import rinterface\n",
    "#from jupyter_helpers import rpy2_autocompletion\n",
    "%load_ext rpy2.ipython\n",
    "\n",
    "samples = []\n",
    "with open('poplists/samples.txt') as infile:\n",
    "    for line in infile:\n",
    "        line = line.strip()\n",
    "        samples.append(line)\n",
    "infile.close()\n",
    "\n",
    "chroms = []\n",
    "with open('white_abalone.fasta.fai','r') as infile:\n",
    "    for line in infile:\n",
    "        chrom, size, total, b, c = line.split('\\t')\n",
    "        if int(size) > 1e6:\n",
    "            chroms.append(chrom)\n",
    "infile.close()"
   ]
  },
  {
   "cell_type": "code",
   "execution_count": 3,
   "id": "1be64ca8",
   "metadata": {},
   "outputs": [],
   "source": [
    "%%R\n",
    "library(data.table)\n",
    "library(tidyverse)\n",
    "library(magrittr)\n",
    "library(ggplot2)"
   ]
  },
  {
   "cell_type": "markdown",
   "id": "97b426be",
   "metadata": {},
   "source": [
    "# Repeats"
   ]
  },
  {
   "cell_type": "markdown",
   "id": "f25d18b6-4e8c-4069-b873-28de6ac39fee",
   "metadata": {},
   "source": [
    "Repeat modeler"
   ]
  },
  {
   "cell_type": "code",
   "execution_count": 15,
   "id": "84356d40",
   "metadata": {},
   "outputs": [],
   "source": [
    "!mkdir -p repeats\n",
    "cmd = ('''BuildDatabase -name repeats/white_abalone '''\n",
    "       '''white_abalone.fasta\\n''').format()\n",
    "slurm = make_slurm(id = 'builder', cmd_string = cmd, mem = '1000', time = '00:05:00', run = False, p = 'short')"
   ]
  },
  {
   "cell_type": "code",
   "execution_count": 4,
   "id": "d311dede",
   "metadata": {},
   "outputs": [],
   "source": [
    "cmd = ('''/private/groups/shapirolab/brock/Software/RepeatModeler-2.0.4/RepeatModeler '''\n",
    "       '''-database repeats/white_abalone '''\n",
    "       '''-threads 64 -LTRStruct '''\n",
    "       '''--recoverDir RM_1215699.FriApr190928072024 '''\n",
    "       '''>& logs/modeler.o\\n''')\n",
    "slurm = make_slurm(echo = False, id = 'modeler', c = 64, cmd_string = cmd, mem = '200000', time = '100:00:00', p = 'long')"
   ]
  },
  {
   "cell_type": "markdown",
   "id": "4dcf0f3e-6734-4f6d-a094-36cdc4fa7fde",
   "metadata": {},
   "source": [
    "RepeatMasker"
   ]
  },
  {
   "cell_type": "code",
   "execution_count": 5,
   "id": "e6b4ce05",
   "metadata": {},
   "outputs": [],
   "source": [
    "!mkdir -p repeats\n",
    "cmd = ('''RepeatMasker '''\n",
    "       '''-q -lib repeats/white_abalone-families.fa '''\n",
    "       '''-dir repeats '''\n",
    "       '''-pa 16 '''\n",
    "       '''-small -html -gff '''\n",
    "       '''white_abalone.fasta > logs/masker.o 2>&1\\n''').format()\n",
    "slurm = make_slurm(id = f\"masker\",cmd_string = cmd, mem = '40000',time = '48:00:00',c='16',p='long')"
   ]
  },
  {
   "cell_type": "markdown",
   "id": "4000d30d",
   "metadata": {},
   "source": [
    "# Mappability"
   ]
  },
  {
   "cell_type": "markdown",
   "id": "72bcc626",
   "metadata": {},
   "source": [
    "First need to index genome"
   ]
  },
  {
   "cell_type": "code",
   "execution_count": 4,
   "id": "76ff43f2",
   "metadata": {},
   "outputs": [
    {
     "name": "stdout",
     "output_type": "stream",
     "text": [
      "genmap index -F white_abalone.fasta -I mappability/index -v\n"
     ]
    }
   ],
   "source": [
    "!mkdir -p mappability\n",
    "cmd = ('''genmap index -F white_abalone.fasta -I mappability/index -v''')\n",
    "print(cmd)"
   ]
  },
  {
   "cell_type": "markdown",
   "id": "b640033c",
   "metadata": {},
   "source": [
    "This command runs very quick with `-E 0`"
   ]
  },
  {
   "cell_type": "code",
   "execution_count": 6,
   "id": "7ce9e593",
   "metadata": {},
   "outputs": [
    {
     "name": "stdout",
     "output_type": "stream",
     "text": [
      "genmap map -K 150 -E 0 -I mappability/index -O mappability/150_by_0 -bg \n"
     ]
    }
   ],
   "source": [
    "!mkdir -p mappability\n",
    "cmd = ('''genmap map -K 150 -E 0 -I mappability/index -O mappability/150_by_0 -bg ''')\n",
    "print(cmd)"
   ]
  },
  {
   "cell_type": "code",
   "execution_count": 9,
   "id": "841bc155",
   "metadata": {},
   "outputs": [
    {
     "name": "stdout",
     "output_type": "stream",
     "text": [
      "1184464861\n"
     ]
    }
   ],
   "source": [
    "%%bash\n",
    "gsize=$(tail -n 1 white_abalone.fasta.fai | cut -f3)\n",
    "echo $gsize"
   ]
  },
  {
   "cell_type": "code",
   "execution_count": 24,
   "id": "2c8f247f",
   "metadata": {},
   "outputs": [
    {
     "name": "stdout",
     "output_type": "stream",
     "text": [
      "[1] 0.9390219\n"
     ]
    }
   ],
   "source": [
    "%%R\n",
    "gsize = 1184464861\n",
    "genmap_0 = fread('mappability/150_by_0.bedgraph', showProgress = FALSE) %>% set_colnames(c('chrom','start','end','val')) %>% mutate(span = end - start)\n",
    "\n",
    "## Proportion mappable with exact matches, 150 kmers\n",
    "bases = genmap_0 %>% filter(val == 1.0) %>% pull(span) %>% sum\n",
    "print(bases/gsize)"
   ]
  },
  {
   "cell_type": "markdown",
   "id": "6d8defb6",
   "metadata": {},
   "source": [
    "In reality, sequencing errors will occur and allow some degree of mismapping. So I create the following mask allowing up to 2 mismatches, with the goal of retaining regions ROBUST to reads with sequencing errors:"
   ]
  },
  {
   "cell_type": "code",
   "execution_count": 21,
   "id": "c18646ff",
   "metadata": {},
   "outputs": [
    {
     "name": "stdout",
     "output_type": "stream",
     "text": [
      "genmap map -K 150 -E 2 -I mappability/index -O mappability/150_by_2 -bg \n"
     ]
    }
   ],
   "source": [
    "cmd = ('''genmap map -K 150 -E 2 -I mappability/index -O mappability/150_by_2 -bg ''')\n",
    "print(cmd)"
   ]
  },
  {
   "cell_type": "code",
   "execution_count": 25,
   "id": "4d3f42bd",
   "metadata": {},
   "outputs": [
    {
     "name": "stdout",
     "output_type": "stream",
     "text": [
      "[1] 0.8955972\n"
     ]
    }
   ],
   "source": [
    "%%R\n",
    "gsize = 1184464861\n",
    "genmap_2 = fread('mappability/150_by_2.bedgraph', showProgress = FALSE) %>% set_colnames(c('chrom','start','end','val')) %>% mutate(span = end - start)\n",
    "\n",
    "## Proportion mappable with up to 2 mismatches, 150 kmers\n",
    "bases = genmap_2 %>% filter(val == 1.0) %>% pull(span) %>% sum\n",
    "print(bases/gsize)"
   ]
  },
  {
   "cell_type": "markdown",
   "id": "48d50701",
   "metadata": {},
   "source": [
    "Now an extreme case with 4 mismatches. This runs a little slower"
   ]
  },
  {
   "cell_type": "code",
   "execution_count": 26,
   "id": "25950c10",
   "metadata": {},
   "outputs": [
    {
     "name": "stdout",
     "output_type": "stream",
     "text": [
      "genmap map -K 150 -E 4 -I mappability/index -O mappability/150_by_4 -bg \n"
     ]
    }
   ],
   "source": [
    "cmd = ('''genmap map -K 150 -E 4 -I mappability/index -O mappability/150_by_4 -bg ''')\n",
    "print(cmd)"
   ]
  },
  {
   "cell_type": "code",
   "execution_count": 27,
   "id": "4354d546",
   "metadata": {},
   "outputs": [
    {
     "name": "stdout",
     "output_type": "stream",
     "text": [
      "[1] 0.8620787\n"
     ]
    }
   ],
   "source": [
    "%%R\n",
    "gsize = 1184464861\n",
    "genmap_4 = fread('mappability/150_by_4.bedgraph', showProgress = FALSE) %>% set_colnames(c('chrom','start','end','val')) %>% mutate(span = end - start)\n",
    "\n",
    "## Proportion mappable with up to 2 mismatches, 150 kmers\n",
    "bases = genmap_4 %>% filter(val == 1.0) %>% pull(span) %>% sum\n",
    "print(bases/gsize)"
   ]
  },
  {
   "cell_type": "markdown",
   "id": "2d6f666e",
   "metadata": {},
   "source": [
    "Bed formatting"
   ]
  },
  {
   "cell_type": "code",
   "execution_count": 14,
   "id": "4831d010",
   "metadata": {},
   "outputs": [],
   "source": [
    "%%bash\n",
    "awk '{OFS=\"\\t\"} ($4 != 1) {print $1,$2,$3}' mappability/150_by_2.bedgraph | bedtools merge -i stdin > mappability/150_by_2_negative_mask.bed"
   ]
  },
  {
   "cell_type": "markdown",
   "id": "d5226fb7",
   "metadata": {},
   "source": [
    "# Sequencing depth masks"
   ]
  },
  {
   "cell_type": "markdown",
   "id": "6210d624-813b-4acd-95c2-b78f2e85ae34",
   "metadata": {},
   "source": [
    "This code generates masks based on samtools depth output"
   ]
  },
  {
   "cell_type": "markdown",
   "id": "53fe7857",
   "metadata": {},
   "source": [
    "Get mean, median, stdev, from `samtools depth` first chrom only (run off-screen)"
   ]
  },
  {
   "cell_type": "code",
   "execution_count": null,
   "id": "851bf9f0",
   "metadata": {},
   "outputs": [
    {
     "name": "stderr",
     "output_type": "stream",
     "text": [
      "R[write to console]: |--------------------------------------------------|\n",
      "|\n",
      "R[write to console]: =====\n",
      "R[write to console]: =\n",
      "R[write to console]: ==\n",
      "R[write to console]: ==\n",
      "R[write to console]: ==\n",
      "R[write to console]: =\n",
      "R[write to console]: ==\n",
      "R[write to console]: ==\n",
      "R[write to console]: =\n",
      "R[write to console]: ==\n",
      "R[write to console]: ==\n",
      "R[write to console]: ==\n",
      "R[write to console]: =\n",
      "R[write to console]: ==\n",
      "R[write to console]: ==\n",
      "R[write to console]: ==\n",
      "R[write to console]: =\n",
      "R[write to console]: ==\n",
      "R[write to console]: ==\n",
      "R[write to console]: =\n",
      "R[write to console]: ==\n",
      "R[write to console]: ==\n",
      "R[write to console]: ==\n",
      "R[write to console]: =\n",
      "R[write to console]: ==\n",
      "R[write to console]: ==\n",
      "R[write to console]: =\n",
      "R[write to console]: =\n",
      "R[write to console]: |\n",
      "\n",
      "R[write to console]: |--------------------------------------------------|\n",
      "|\n",
      "R[write to console]: =====\n",
      "R[write to console]: =\n",
      "R[write to console]: ==\n",
      "R[write to console]: ==\n",
      "R[write to console]: =\n",
      "R[write to console]: ==\n",
      "R[write to console]: ==\n",
      "R[write to console]: ==\n",
      "R[write to console]: =\n",
      "R[write to console]: ==\n",
      "R[write to console]: ==\n",
      "R[write to console]: ==\n",
      "R[write to console]: =\n",
      "R[write to console]: ==\n",
      "R[write to console]: ==\n",
      "R[write to console]: =\n",
      "R[write to console]: ==\n",
      "R[write to console]: ==\n",
      "R[write to console]: ==\n",
      "R[write to console]: =\n",
      "R[write to console]: ==\n",
      "R[write to console]: ==\n",
      "R[write to console]: ==\n",
      "R[write to console]: =\n",
      "R[write to console]: ==\n",
      "R[write to console]: ==\n",
      "R[write to console]: =\n",
      "R[write to console]: =\n",
      "R[write to console]: |\n",
      "\n"
     ]
    }
   ],
   "source": [
    "%%R\n",
    "fs = list.files('depth/',pattern = 'mdup', full.names = T)\n",
    "first_chrom_summary = bind_rows(lapply(fs,function(PATH){fread(PATH) %>% mutate(src = PATH) %>% group_by(src) %>% summarize(mean = mean(V3), stdev = sd(V3))}))\n",
    "print(first_chrom_summary)"
   ]
  },
  {
   "cell_type": "markdown",
   "id": "502f0adb-abbd-48fd-a963-b20a5e32ae69",
   "metadata": {},
   "source": [
    "Summarize for quick reading and use later on"
   ]
  },
  {
   "cell_type": "code",
   "execution_count": 36,
   "id": "c982ac6d",
   "metadata": {},
   "outputs": [],
   "source": [
    "%%R\n",
    "first_chrom_summary %>%\n",
    "    mutate(sample = basename(src) %>% gsub('_HiC_scaffold_1_mdup','',.)) %>%\n",
    "    dplyr::select(!src) %>%\n",
    "    relocate(sample) %>%\n",
    "    fwrite('depth/depth_summary.txt',sep=\"\\t\",col.names=T)"
   ]
  },
  {
   "cell_type": "markdown",
   "id": "b620c1f3",
   "metadata": {},
   "source": [
    "## Masks from bam files"
   ]
  },
  {
   "cell_type": "markdown",
   "id": "6ab28024-79e8-4811-a4ed-6666abbcec9e",
   "metadata": {},
   "source": [
    "Get depth files for full genome for each sample. These are enormous"
   ]
  },
  {
   "cell_type": "code",
   "execution_count": 6,
   "id": "578097a4",
   "metadata": {},
   "outputs": [],
   "source": [
    "for SAMPLE in samples:\n",
    "    if SAMPLE != 'NorbertW853': continue\n",
    "    cmd = f\"samtools depth -a -@ 8 aln/{SAMPLE}.mdup.bam > depth/{SAMPLE}.samtools.depth\"\n",
    "    slurm = make_slurm(run = False, id = f\"{SAMPLE}.sm\", cmd_string = cmd, c = 8, mem = '10000', time = '24:00:00', p = 'long')"
   ]
  },
  {
   "cell_type": "markdown",
   "id": "82c0f0f3-9935-4037-9bd2-479764e71262",
   "metadata": {},
   "source": [
    "The code below creates per-sample masks from these dpeth files, using 20 reads as the minimum (arguably conservative), and mean + (2*sd) as the upper limit. This takes a good second to run interactively"
   ]
  },
  {
   "cell_type": "code",
   "execution_count": null,
   "id": "afebbf30",
   "metadata": {
    "scrolled": true
   },
   "outputs": [],
   "source": [
    "sample_cov_cutoffs = {}\n",
    "with open('depth/depth_summary.txt','r') as infile:\n",
    "    next(infile)\n",
    "    for line in infile:\n",
    "        line = line.strip()\n",
    "        sample, mean, stdev = line.split('\\t')\n",
    "        sample_cov_cutoffs[sample] = [mean,stdev]\n",
    "\n",
    "bed_masks = {}\n",
    "for SAMPLE, cutoffs in tqdm(sample_cov_cutoffs.items()):\n",
    "    ##\n",
    "    if SAMPLE != 'NorbertW853': continue\n",
    "    mean,stdev = cutoffs\n",
    "    upper = float(mean) + 2*float(stdev)\n",
    "    path = f\"depth/{SAMPLE}.samtools.depth\"\n",
    "    ##\n",
    "    filtered_chunks = []\n",
    "    for chunk in tqdm(pd.read_csv(path,sep=\"\\t\",header = None, chunksize=1000000)):\n",
    "        chunk.columns = ['chrom','pos','depth']\n",
    "        mk = chunk[(chunk['depth'] < 20) | (chunk['depth'] > upper)]\n",
    "        filtered_chunks.append(mk)\n",
    "    mask = pd.concat(filtered_chunks)\n",
    "    mask.to_csv(f\"depth/{SAMPLE}_bad_sites.txt\",sep=\"\\t\",index = False, header = False)\n",
    "    bed_masks[SAMPLE] = mask"
   ]
  },
  {
   "cell_type": "markdown",
   "id": "88967651-382c-45df-8923-c7eb1d1bb3cb",
   "metadata": {},
   "source": [
    "The above code writes bad sites on a per-site basis. I'll quickly use bedtools to merge adjacent sites. In an ideal world, this would've been integrated into the code above."
   ]
  },
  {
   "cell_type": "code",
   "execution_count": 5,
   "id": "6538cdc5",
   "metadata": {
    "scrolled": true
   },
   "outputs": [
    {
     "name": "stdout",
     "output_type": "stream",
     "text": [
      "NorbertW853\n"
     ]
    }
   ],
   "source": [
    "%%bash\n",
    "grep \"NorbertW853\" poplists/samples.txt | while read SAMPLE;do\n",
    "    echo $SAMPLE;\n",
    "    awk '{OFS=\"\\t\"} {print $1,$2-1,$2}' depth/${SAMPLE}_bad_sites.txt | bedtools merge -i stdin > depth/${SAMPLE}_bad_sites.bed;\n",
    "done"
   ]
  },
  {
   "cell_type": "markdown",
   "id": "738f0cf1",
   "metadata": {},
   "source": [
    "Extract only the 'total coverage' bad sites"
   ]
  },
  {
   "cell_type": "code",
   "execution_count": 29,
   "id": "84ea4c6d",
   "metadata": {},
   "outputs": [],
   "source": [
    "%%bash\n",
    "awk '{OFS=\"\\t\"} ($4 == 14) {print $1,$2,$3}' depth/common_bad_regions.bed > depth/all_masked.bed"
   ]
  },
  {
   "cell_type": "markdown",
   "id": "bef9ec06",
   "metadata": {},
   "source": [
    "Summarize over windows"
   ]
  },
  {
   "cell_type": "code",
   "execution_count": 59,
   "id": "badfceb9",
   "metadata": {},
   "outputs": [],
   "source": [
    "%%bash\n",
    "bedtools makewindows -g white_abalone.genome -w 10000 -s 10000 | bedtools coverage -a stdin -b depth/all_masked.bed > depth/all_masked_pct.bed"
   ]
  },
  {
   "cell_type": "markdown",
   "id": "05980962",
   "metadata": {},
   "source": [
    "## Masks from allsites vcfs"
   ]
  },
  {
   "cell_type": "code",
   "execution_count": 7,
   "id": "175ea73d",
   "metadata": {},
   "outputs": [],
   "source": [
    "for CHROM in chroms:\n",
    "    cmd = f\"bcftools query -f '%CHROM\\\\t%POS[\\\\t%DP]\\\\n' vcfs/{CHROM}.allsites.anno.vcf.gz | bgzip > depth/{CHROM}.vcf.depth.txt.gz \"\n",
    "    slurm = make_slurm(run = False, id = f\"{CHROM}.vcfdepth\",cmd_string = cmd, mem = '1000',time='03:00:00', p = 'long')"
   ]
  },
  {
   "cell_type": "markdown",
   "id": "3d8d4b8b",
   "metadata": {},
   "source": [
    "If we're going to be using info from the VCF to get depth, might as well summarize depth from the VCF as well:"
   ]
  },
  {
   "cell_type": "code",
   "execution_count": null,
   "id": "d35bfae6",
   "metadata": {
    "scrolled": true
   },
   "outputs": [],
   "source": [
    "%%R\n",
    "library(data.table)\n",
    "library(tidyverse)\n",
    "library(magrittr)\n",
    "dp = fread('depth/HiC_scaffold_18.vcf.depth.txt.gz')\n",
    "sample_order = fread(cmd = 'bcftools query -l vcfs/biallelic.vcf.gz', header = F) %>% pull(V1)\n",
    "dp %<>% set_colnames(c('CHROM','POS',sample_order))\n",
    "\n",
    "summary = \n",
    "    dp %>% pivot_longer(-c(CHROM,POS)) %>%\n",
    "    group_by(name) %>% \n",
    "    summarize(mn = mean(value), sd = sd(value), median = median(value))\n",
    "\n",
    "fwrite(summary,'depth/vcf_depth_summary.txt',col.names =T, quote = F, sep = \"\\t\")"
   ]
  },
  {
   "cell_type": "markdown",
   "id": "8116f31a",
   "metadata": {},
   "source": [
    "Now mask - similar to what was done with the bams above"
   ]
  },
  {
   "cell_type": "code",
   "execution_count": null,
   "id": "80aa561c",
   "metadata": {
    "code_folding": [
     1
    ]
   },
   "outputs": [
    {
     "name": "stderr",
     "output_type": "stream",
     "text": [
      "  0%|                                                                                                                                                           | 0/18 [00:00<?, ?it/s]"
     ]
    },
    {
     "name": "stdout",
     "output_type": "stream",
     "text": [
      "depth/HiC_scaffold_1.vcf.depth.txt.gz\n"
     ]
    },
    {
     "name": "stderr",
     "output_type": "stream",
     "text": [
      "  6%|████████▏                                                                                                                                          | 1/18 [01:37<27:45, 97.97s/it]"
     ]
    },
    {
     "name": "stdout",
     "output_type": "stream",
     "text": [
      "depth/HiC_scaffold_2.vcf.depth.txt.gz\n"
     ]
    },
    {
     "name": "stderr",
     "output_type": "stream",
     "text": [
      " 11%|████████████████▎                                                                                                                                  | 2/18 [03:05<24:32, 92.06s/it]"
     ]
    },
    {
     "name": "stdout",
     "output_type": "stream",
     "text": [
      "depth/HiC_scaffold_3.vcf.depth.txt.gz\n"
     ]
    },
    {
     "name": "stderr",
     "output_type": "stream",
     "text": [
      " 17%|████████████████████████▌                                                                                                                          | 3/18 [04:30<22:07, 88.53s/it]"
     ]
    },
    {
     "name": "stdout",
     "output_type": "stream",
     "text": [
      "depth/HiC_scaffold_4.vcf.depth.txt.gz\n"
     ]
    },
    {
     "name": "stderr",
     "output_type": "stream",
     "text": [
      " 22%|████████████████████████████████▋                                                                                                                  | 4/18 [05:50<19:54, 85.35s/it]"
     ]
    },
    {
     "name": "stdout",
     "output_type": "stream",
     "text": [
      "depth/HiC_scaffold_5.vcf.depth.txt.gz\n"
     ]
    },
    {
     "name": "stderr",
     "output_type": "stream",
     "text": [
      " 28%|████████████████████████████████████████▊                                                                                                          | 5/18 [07:11<18:07, 83.63s/it]"
     ]
    },
    {
     "name": "stdout",
     "output_type": "stream",
     "text": [
      "depth/HiC_scaffold_6.vcf.depth.txt.gz\n"
     ]
    },
    {
     "name": "stderr",
     "output_type": "stream",
     "text": [
      " 33%|█████████████████████████████████████████████████                                                                                                  | 6/18 [08:30<16:25, 82.16s/it]"
     ]
    },
    {
     "name": "stdout",
     "output_type": "stream",
     "text": [
      "depth/HiC_scaffold_7.vcf.depth.txt.gz\n"
     ]
    }
   ],
   "source": [
    "sample_cov_cutoffs = {}\n",
    "with open('depth/vcf_depth_summary.txt','r') as infile:\n",
    "    next(infile)\n",
    "    for line in infile:\n",
    "        line = line.strip()\n",
    "        sample, mean, stdev, median = line.split('\\t')\n",
    "        sample_cov_cutoffs[sample] = [float(mean),float(stdev)]\n",
    "\n",
    "\n",
    "filtered_chunks = {sample:[] for sample in samples}\n",
    "# For a given chromosome\n",
    "for CHROM in tqdm(chroms):\n",
    "    path = f\"depth/{CHROM}.vcf.depth.txt.gz\"\n",
    "    print(path)\n",
    "    # For a chunk of the file\n",
    "    for chunk in pd.read_csv(path,sep=\"\\t\",header = None, chunksize=10000000):\n",
    "        chunk.columns = ['chrom','pos'] + samples\n",
    "        \n",
    "        # For each sample\n",
    "        for SAMPLE in samples:\n",
    "            upper = sample_cov_cutoffs[SAMPLE][0] + 2*sample_cov_cutoffs[SAMPLE][1]\n",
    "            mk = chunk[(chunk[SAMPLE] < 10) | (chunk[SAMPLE] > upper)]\n",
    "            filtered_chunks[SAMPLE].append(mk[['chrom','pos',SAMPLE]])\n",
    "\n",
    "# Combine everything\n",
    "masks = {sample:pd.concat(chunks) for sample,chunks in filtered_chunks.items()}\n",
    "\n"
   ]
  },
  {
   "cell_type": "markdown",
   "id": "3246aeba",
   "metadata": {},
   "source": [
    "The below opearation uses pybedtools to merge adjacent intervals and take the coverage mean for that interval, to verify the right things are being masked. It takes QUITE A WHILE TO RUN which is annoying as hell"
   ]
  },
  {
   "cell_type": "code",
   "execution_count": 7,
   "id": "d7ccede9",
   "metadata": {
    "code_folding": []
   },
   "outputs": [
    {
     "name": "stderr",
     "output_type": "stream",
     "text": [
      "100%|█████████████████████████████████████████████████████████████████████████████████████████████████████████████████████████████████████████████████| 14/14 [58:53<00:00, 252.40s/it]\n"
     ]
    }
   ],
   "source": [
    "import pybedtools\n",
    "merged = {}\n",
    "for SAMPLE, DF in tqdm(masks.items()):\n",
    "    DF['start'] = DF['pos'] - 1\n",
    "    DF = DF[['chrom','start','pos',SAMPLE]]\n",
    "    DF.columns = ['chrom','start','end','depth']\n",
    "    g = pybedtools.BedTool.from_dataframe(DF)\n",
    "    m = g.merge(c=4,o='mean').to_dataframe()\n",
    "    merged[SAMPLE] = m\n"
   ]
  },
  {
   "cell_type": "markdown",
   "id": "6d19fe3d",
   "metadata": {},
   "source": [
    "Now write out the results"
   ]
  },
  {
   "cell_type": "code",
   "execution_count": 8,
   "id": "e74a9234",
   "metadata": {},
   "outputs": [],
   "source": [
    "for SAMPLE, MASK in merged.items():\n",
    "    MASK.to_csv(f\"masks/{SAMPLE}_vcf_neg_mask.bed\",sep=\"\\t\",index = False, header = False)"
   ]
  },
  {
   "cell_type": "markdown",
   "id": "cd0425c0",
   "metadata": {},
   "source": [
    "# Combine all\n",
    "Finally, for each family, I combine the masks based on repeats, mappability, and depth to make a set of 'callable' regions that applies at the family level."
   ]
  },
  {
   "cell_type": "code",
   "execution_count": 10,
   "id": "555f5039",
   "metadata": {},
   "outputs": [],
   "source": [
    "x = pd.read_csv('poplists/families.txt',sep=\"\\t\")\n",
    "fam_2_samples = x.groupby('famName')['sampleName'].apply(list).to_dict()\n",
    "\n",
    "!mkdir -p masks\n",
    "for FAMILY, SAMPLELIST in fam_2_samples.items():\n",
    "    bedstring = ''\n",
    "    for SAMPLE in SAMPLELIST:\n",
    "        ### Be careful with what bed files you are feeding in here\n",
    "        bedstring += f\"masks/{SAMPLE}_vcf_neg_mask_slop150.bed \"\n",
    "\n",
    "    ## MASKS BASED ON \n",
    "        #1) DEPTH\n",
    "        #2) REPEATS\n",
    "        #3) MAPPABILITY (REPETITIVE?)\n",
    "    cmd = ('''cat {bedstring} mappability/150_by_2_negative_mask.bed <(cut -f1-3 repeats/white_abalone.fasta.out.bed) | bedtools sort -g white_abalone.genome -i stdin | bedtools merge -i stdin > masks/{FAMILY}_negative_mask.bed;'''\n",
    "          '''bedtools complement -i masks/{FAMILY}_negative_mask.bed -g white_abalone.genome > masks/{FAMILY}_positive_mask.bed\\n''').format(bedstring = bedstring, FAMILY = FAMILY)\n",
    "    !$cmd\n",
    "    cmd = ('''cat {bedstring} mappability/150_by_2_negative_mask.bed | bedtools sort -g white_abalone.genome -i stdin | bedtools merge -i stdin > masks/{FAMILY}_negative_REPINCLUDED_mask.bed;'''\n",
    "          '''bedtools complement -i masks/{FAMILY}_negative_REPINCLUDED_mask.bed -g white_abalone.genome > masks/{FAMILY}_positive_REPINCLUDED_mask.bed\\n''').format(bedstring = bedstring, FAMILY = FAMILY)\n",
    "    !$cmd"
   ]
  },
  {
   "cell_type": "markdown",
   "id": "367b09f5",
   "metadata": {},
   "source": [
    "Stats"
   ]
  },
  {
   "cell_type": "code",
   "execution_count": 18,
   "id": "91ff9bd8-f9b0-4c54-b6f1-bb1e2f5b766d",
   "metadata": {},
   "outputs": [
    {
     "name": "stdout",
     "output_type": "stream",
     "text": [
      "[1] \"Pct usable genome for Fam 1:\"\n",
      "[1] 891434842\n",
      "[1] 0.7680365\n",
      "[1] \"Pct usable genome for Fam 2:\"\n",
      "[1] 898249068\n",
      "[1] 0.7739074\n",
      "[1] \"Pct usable genome for Fam 3:\"\n",
      "[1] 917622025\n",
      "[1] 0.7905986\n"
     ]
    }
   ],
   "source": [
    "%%R\n",
    "library(data.table)\n",
    "library(tidyverse)\n",
    "library(ggplot2)\n",
    "library(magrittr)\n",
    "call_chroms = fread('call_chroms.txt')\n",
    "gsize = sum(call_chroms$V2)\n",
    "pos = \n",
    "    fread('masks/Fam1_positive_REPINCLUDED_mask.bed') %>% \n",
    "    set_colnames(c('chrom','start','end')) %>% \n",
    "    mutate(size = end - start + 1) %>%\n",
    "    filter(chrom %in% call_chroms$V1)\n",
    "print('Pct usable genome for Fam 1:')\n",
    "print(sum(pos$size))\n",
    "print(sum(pos$size)/gsize)\n",
    "\n",
    "pos = \n",
    "    fread('masks/Fam2_positive_REPINCLUDED_mask.bed') %>% \n",
    "    set_colnames(c('chrom','start','end')) %>% \n",
    "    mutate(size = end - start + 1) %>%\n",
    "    filter(chrom %in% call_chroms$V1)\n",
    "print('Pct usable genome for Fam 2:')\n",
    "print(sum(pos$size))\n",
    "print(sum(pos$size)/gsize)\n",
    "\n",
    "\n",
    "pos = \n",
    "    fread('masks/Fam3_positive_REPINCLUDED_mask.bed') %>% \n",
    "    set_colnames(c('chrom','start','end')) %>% \n",
    "    mutate(size = end - start + 1) %>%\n",
    "    filter(chrom %in% call_chroms$V1)\n",
    "print('Pct usable genome for Fam 3:')\n",
    "print(sum(pos$size))\n",
    "print(sum(pos$size)/gsize)\n",
    "\n"
   ]
  }
 ],
 "metadata": {
  "kernelspec": {
   "display_name": "doom",
   "language": "python",
   "name": "doom"
  },
  "language_info": {
   "codemirror_mode": {
    "name": "ipython",
    "version": 3
   },
   "file_extension": ".py",
   "mimetype": "text/x-python",
   "name": "python",
   "nbconvert_exporter": "python",
   "pygments_lexer": "ipython3",
   "version": "3.12.3"
  },
  "toc": {
   "base_numbering": 1,
   "nav_menu": {},
   "number_sections": true,
   "sideBar": true,
   "skip_h1_title": false,
   "title_cell": "Table of Contents",
   "title_sidebar": "Contents",
   "toc_cell": false,
   "toc_position": {
    "height": "calc(100% - 180px)",
    "left": "10px",
    "top": "150px",
    "width": "288px"
   },
   "toc_section_display": true,
   "toc_window_display": true
  }
 },
 "nbformat": 4,
 "nbformat_minor": 5
}
