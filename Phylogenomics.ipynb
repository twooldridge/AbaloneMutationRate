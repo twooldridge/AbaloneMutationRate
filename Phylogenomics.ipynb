{
 "cells": [
  {
   "cell_type": "code",
   "execution_count": 5,
   "id": "ccceb9ce-f6eb-4670-b910-5f43ee08d350",
   "metadata": {},
   "outputs": [
    {
     "name": "stdout",
     "output_type": "stream",
     "text": [
      "The rpy2.ipython extension is already loaded. To reload it, use:\n",
      "  %reload_ext rpy2.ipython\n"
     ]
    }
   ],
   "source": [
    "import os\n",
    "import pandas as pd\n",
    "import numpy as np\n",
    "#import matplotlib.pyplot as plt\n",
    "#import matplotlib\n",
    "#from matplotlib.backends.backend_pdf import PdfPages\n",
    "#import seaborn as sns\n",
    "#import statsmodels.api as sm\n",
    "\n",
    "#lowess = sm.nonparametric.lowess\n",
    "from tqdm import tqdm \n",
    "import sys\n",
    "\n",
    "sys.path.append('/private/groups/shapirolab/brock/Software')\n",
    "from py3_functions import *\n",
    "\n",
    "from IPython.display import display\n",
    "\n",
    "!mkdir -p /private/groups/shapirolab/brock/mutation\n",
    "os.chdir('/private/groups/shapirolab/brock/mutation')\n",
    "!mkdir -p cmds logs\n",
    "\n",
    "### R stuff\n",
    "from rpy2 import rinterface\n",
    "#from jupyter_helpers import rpy2_autocompletion\n",
    "%load_ext rpy2.ipython\n",
    "\n",
    "samples = []\n",
    "with open('poplists/samples.txt') as infile:\n",
    "    for line in infile:\n",
    "        line = line.strip()\n",
    "        samples.append(line)\n",
    "infile.close()\n",
    "\n",
    "species = []\n",
    "with open('poplists/phylo_species.txt') as infile:\n",
    "    for line in infile:\n",
    "        line = line.strip()\n",
    "        species.append(line)\n",
    "infile.close()"
   ]
  },
  {
   "cell_type": "code",
   "execution_count": 3,
   "id": "6dc48d2b-6ced-4371-9fbe-057a48acc33b",
   "metadata": {},
   "outputs": [],
   "source": [
    "%%R\n",
    "library(tidyverse)\n",
    "library(ggplot2)\n",
    "library(magrittr)\n",
    "library(data.table)\n",
    "library(ggtree)"
   ]
  },
  {
   "cell_type": "markdown",
   "id": "62ce8c6c-1125-497d-aa93-7e0de45d3c7e",
   "metadata": {},
   "source": [
    "# Download data"
   ]
  },
  {
   "cell_type": "markdown",
   "id": "01ab197b-386f-4727-b8a8-0f4265a975bb",
   "metadata": {},
   "source": [
    "## Assemblies"
   ]
  },
  {
   "cell_type": "code",
   "execution_count": 36,
   "id": "080a4346-4104-4d6b-9549-ab43a9138bf3",
   "metadata": {},
   "outputs": [
    {
     "name": "stdout",
     "output_type": "stream",
     "text": [
      "datasets download genome accession GCA_037392515.1 --include gff3,rna,cds,protein,genome,seq-report --filename downloads/asinina.zip;unzip downloads/asinina.zip\n",
      "datasets download genome accession GCF_023055435.1 --include gff3,rna,cds,protein,genome,seq-report --filename downloads/rufescens.zip;unzip downloads/rufescens.zip\n",
      "datasets download genome accession GCF_003918875.1 --include gff3,rna,cds,protein,genome,seq-report --filename downloads/rubra.zip;unzip downloads/rubra.zip\n",
      "datasets download genome accession GCA_022045235.1 --include gff3,rna,cds,protein,genome,seq-report --filename downloads/cracherodii.zip;unzip downloads/cracherodii.zip\n",
      "datasets download genome accession GCA_008038995.1 --include gff3,rna,cds,protein,genome,seq-report --filename downloads/laevigata.zip;unzip downloads/laevigata.zip\n",
      "datasets download genome accession GCA_936450465.1 --include gff3,rna,cds,protein,genome,seq-report --filename downloads/magus.zip;unzip downloads/magus.zip\n"
     ]
    }
   ],
   "source": [
    "!mkdir -p downloads\n",
    "with open('poplists/phylo_asm.txt','r') as infile:\n",
    "    for line in infile:\n",
    "        line = line.strip()\n",
    "        species, ASM = line.split('\\t')\n",
    "        cmd = f\"datasets download genome accession {ASM} --include gff3,rna,cds,protein,genome,seq-report --filename downloads/{species}.zip;unzip downloads/{species}.zip\"\n",
    "        print(cmd)\n",
    "infile.close()"
   ]
  },
  {
   "cell_type": "markdown",
   "id": "dff8a914-31c9-4d6e-a819-581b7394d66b",
   "metadata": {},
   "source": [
    "# BUSCO"
   ]
  },
  {
   "cell_type": "code",
   "execution_count": 8,
   "id": "18ee9251-9a55-4d37-b53d-b485f5bf5fb6",
   "metadata": {},
   "outputs": [],
   "source": [
    "!mkdir -p BUSCO\n",
    "for COMMON in species:\n",
    "    !mkdir -p BUSCO/$COMMON\n",
    "    asm = f\"assembly/{COMMON}.fa\"\n",
    "    busco = f\"BUSCO/{COMMON}/summary.txt\"\n",
    "    if not os.path.exists(asm): continue\n",
    "    if os.path.exists(busco): continue\n",
    "    cmd = ('''compleasm run -a {asm} -l mollusca_odb10 -L mb_downloads --t 8 -o BUSCO/{COMMON} > logs/{COMMON}.busco.out 2>&1\\n''').format(asm = asm, COMMON = COMMON)\n",
    "    slurm = make_slurm(run = False, p = 'long', id = f\"{COMMON}.busco\", cmd_string = cmd, c = '8', mem = '40000',time = '24:00:00')"
   ]
  },
  {
   "cell_type": "markdown",
   "id": "ae3f2426-845c-454c-9ebf-33408f6307e9",
   "metadata": {},
   "source": [
    "# Tree construction"
   ]
  },
  {
   "cell_type": "code",
   "execution_count": 9,
   "id": "90c306e3-9f77-44c9-bb06-9a30ce4cdd5d",
   "metadata": {},
   "outputs": [],
   "source": [
    "%%R\n",
    "fs = list.files('BUSCO', pattern='*full_table.tsv*', recursive = T, full.names = T)\n",
    "full = bind_rows(lapply(fs,function(PATH){fread(PATH) %>% mutate(path = PATH)}))\n",
    "full %<>% mutate(species = gsub('BUSCO/','',path) %>% gsub('/.*$','',.))"
   ]
  },
  {
   "cell_type": "markdown",
   "id": "d4a98fed-a485-428e-ad7b-d808ccfe640e",
   "metadata": {},
   "source": [
    "Select loci"
   ]
  },
  {
   "cell_type": "code",
   "execution_count": 48,
   "id": "af08acc4-a75b-4076-9962-64a4180d84c1",
   "metadata": {},
   "outputs": [],
   "source": [
    "%%R\n",
    "keep_1 = \n",
    "    full %>% filter(Status == 'Single') %>%\n",
    "    group_by(Gene) %>% \n",
    "    summarize(count = n()) %>% \n",
    "    filter(count >= 7) %>% \n",
    "    pull(Gene) %>%\n",
    "    unique\n",
    "full %>% \n",
    "    filter(Gene %in% keep_1) %>%\n",
    "    dplyr::select(Sequence,`Gene Start`,`Gene End`,Strand,species,Gene,`Best gene`) %>%\n",
    "    fwrite('phylo/busco_keep.txt',sep=\"\\t\",col.names=F,row.names=F)"
   ]
  },
  {
   "cell_type": "markdown",
   "id": "02f5018c-c837-40be-8b81-2f202775c71f",
   "metadata": {},
   "source": [
    "Grab sequences"
   ]
  },
  {
   "cell_type": "code",
   "execution_count": 54,
   "id": "eae36013-2345-468b-982e-32d9018926b2",
   "metadata": {},
   "outputs": [],
   "source": [
    "!mkdir -p phylo/seqs\n",
    "out_cmd_file = open('cmds/seq_grab.txt','w')\n",
    "\n",
    "with open('phylo/busco_keep.txt','r') as infile:\n",
    "    for line in infile:\n",
    "        line = line.strip()\n",
    "        chrom, start, end, strand, species, gene, best_gene = line.split('\\t')\n",
    "        cmd = f\"gffread -x - -g assembly/{species}.fa <(grep '\\\\<{best_gene}\\\\>' BUSCO/{species}/mollusca_odb10/miniprot_output.gff | grep 'CDS') | sed 's|>.*$|>{species}|' >> phylo/seqs/{gene}.fasta\\n\"\n",
    "        out_cmd_file.write(cmd)\n",
    "infile.close()\n",
    "out_cmd_file.close()"
   ]
  },
  {
   "cell_type": "markdown",
   "id": "d4f83707-4717-47fe-94f3-aac01231131f",
   "metadata": {},
   "source": [
    "Alignment"
   ]
  },
  {
   "cell_type": "code",
   "execution_count": 112,
   "id": "a6956aee-4663-4de7-931b-a184345da523",
   "metadata": {},
   "outputs": [],
   "source": [
    "import pandas as pd\n",
    "out_cmd_file = open('cmds/aln.txt','w')\n",
    "genes = list(set(pd.read_csv('phylo/busco_keep.txt',sep=\"\\t\",header=None)[5].to_list()))\n",
    "for GENE in genes:\n",
    "    cmd = f\"mafft phylo/seqs/{GENE}.fasta > phylo/seqs/{GENE}_aln.fasta\\n\"\n",
    "    out_cmd_file.write(cmd)\n",
    "out_cmd_file.close()"
   ]
  },
  {
   "cell_type": "markdown",
   "id": "74af5d48-0ba2-4fbb-97ab-74710757cd34",
   "metadata": {},
   "source": [
    "Code to extract 4-fold degenerate sites"
   ]
  },
  {
   "cell_type": "code",
   "execution_count": 132,
   "id": "bf4e4da8-a8a8-4390-8f25-607b70597bd6",
   "metadata": {},
   "outputs": [
    {
     "name": "stdout",
     "output_type": "stream",
     "text": [
      "Overwriting ./fourfold.py\n"
     ]
    }
   ],
   "source": [
    "%%writefile ./fourfold.py\n",
    "\n",
    "from Bio import AlignIO\n",
    "from Bio.Seq import Seq\n",
    "from Bio.Data import CodonTable\n",
    "from Bio.SeqRecord import SeqRecord\n",
    "from Bio.Align import MultipleSeqAlignment\n",
    "import argparse\n",
    "parser = argparse.ArgumentParser(description='Write alignment of just fourfold degenerate sites')\n",
    "parser.add_argument('input', metavar='I', type=str,\n",
    "                    help='input fasta alignment ')\n",
    "parser.add_argument('output', metavar='O', type=str,\n",
    "                    help='output fasta alignment of fourfold deg. sites ')\n",
    "args = parser.parse_args()\n",
    "\n",
    "def get_codon_positions(sequence):\n",
    "    \"\"\"Split a nucleotide sequence into codons.\"\"\"\n",
    "    return [sequence[i:i+3] for i in range(0, len(sequence), 3)]\n",
    "\n",
    "def is_fourfold_degenerate(codon, pos, codon_table):\n",
    "    \"\"\"Check if the position in the codon is fourfold degenerate.\"\"\"\n",
    "    if codon in codon_table.stop_codons:\n",
    "        return False\n",
    "    amino_acid = codon_table.forward_table.get(codon, '')\n",
    "    if pos == 0 or pos == 1:  # First and second positions cannot be fourfold degenerate\n",
    "        return False\n",
    "    if pos == 2:  # Check third position\n",
    "        bases = ['A', 'T', 'C', 'G']\n",
    "        variants = [codon[:2] + base for base in bases]\n",
    "        return all([codon_table.forward_table.get(var, '') == amino_acid for var in variants])\n",
    "\n",
    "## Load the alignment\n",
    "alignment = AlignIO.read(args.input, \"fasta\")\n",
    "\n",
    "# Define the standard codon table\n",
    "standard_table = CodonTable.unambiguous_dna_by_id[1]\n",
    "\n",
    "# Iterate over each codon position in the first sequence (assuming alignment)\n",
    "sequence_length = alignment.get_alignment_length()\n",
    "fourfold_degenerate_sites = []\n",
    "\n",
    "for i in range(0, sequence_length, 3):\n",
    "    codons = [str(record.seq[i:i+3]) for record in alignment]\n",
    "    if len(codons[0]) != 3:\n",
    "        continue  # Skip incomplete codons\n",
    "    for pos in range(3):\n",
    "        if is_fourfold_degenerate(codons[0].upper(), pos, standard_table):\n",
    "            fourfold_degenerate_sites.append(i + pos)\n",
    "\n",
    "# Create new alignment\n",
    "new_records = []\n",
    "for record in alignment:\n",
    "    new_seq = \"\".join([record.seq[pos - 1] for pos in fourfold_degenerate_sites])\n",
    "    new_record = SeqRecord(Seq(new_seq), id=record.id, description=\"\")\n",
    "    new_records.append(new_record)\n",
    "new_alignment = MultipleSeqAlignment(new_records)\n",
    "\n",
    "# Write to file\n",
    "with open(args.output, \"w\") as output_handle:\n",
    "    AlignIO.write(new_alignment, output_handle, \"fasta\")\n"
   ]
  },
  {
   "cell_type": "markdown",
   "id": "bc6fbc52-288b-43da-afff-decc89a81048",
   "metadata": {},
   "source": [
    "Execute"
   ]
  },
  {
   "cell_type": "code",
   "execution_count": 136,
   "id": "32f26708-63b2-407d-a595-254c47edf7cc",
   "metadata": {},
   "outputs": [],
   "source": [
    "import pandas as pd\n",
    "out_cmd_file = open('cmds/4f.txt','w')\n",
    "genes = list(set(pd.read_csv('phylo/busco_keep.txt',sep=\"\\t\",header=None)[5].to_list()))\n",
    "for GENE in genes:\n",
    "    cmd = f\"python fourfold.py phylo/seqs/{GENE}_aln.fasta phylo/seqs/{GENE}_4f.fasta\\n\"\n",
    "    out_cmd_file.write(cmd)\n",
    "out_cmd_file.close()"
   ]
  },
  {
   "cell_type": "markdown",
   "id": "b7d78678-2fcc-4b3b-9411-cede630f73f0",
   "metadata": {},
   "source": [
    "Trim"
   ]
  },
  {
   "cell_type": "markdown",
   "id": "4602334e-47ce-4fcc-aa19-7b161d334e10",
   "metadata": {
    "jupyter": {
     "source_hidden": true
    }
   },
   "source": [
    "4f sequences"
   ]
  },
  {
   "cell_type": "code",
   "execution_count": 80,
   "id": "6e49a97c-572d-4888-a6f0-8b5fb6f678c4",
   "metadata": {},
   "outputs": [],
   "source": [
    "import pandas as pd\n",
    "out_cmd_file = open('cmds/trimal.txt','w')\n",
    "genes = list(set(pd.read_csv('phylo/busco_keep.txt',sep=\"\\t\",header=None)[5].to_list()))\n",
    "for GENE in genes:\n",
    "    cmd = f\"trimal -in phylo/seqs/{GENE}_4f.fasta -gt 0.50 -cons 50 -keepheader -fasta -out phylo/seqs/{GENE}_4f_trimmed.fasta\\n\"\n",
    "    out_cmd_file.write(cmd)\n",
    "out_cmd_file.close()\n",
    "\n"
   ]
  },
  {
   "cell_type": "markdown",
   "id": "89316e8c-519a-4d42-a49d-e16253d32c2e",
   "metadata": {},
   "source": [
    "Original ones incase I need them:"
   ]
  },
  {
   "cell_type": "code",
   "execution_count": 81,
   "id": "08454002-2abb-4f4f-a280-5bb9024414e7",
   "metadata": {},
   "outputs": [],
   "source": [
    "import pandas as pd\n",
    "out_cmd_file = open('cmds/trimal.txt','w')\n",
    "genes = list(set(pd.read_csv('phylo/busco_keep.txt',sep=\"\\t\",header=None)[5].to_list()))\n",
    "for GENE in genes:\n",
    "    cmd = f\"trimal -in phylo/seqs/{GENE}_aln.fasta -gt 0.50 -cons 50 -keepheader -fasta -out phylo/seqs/{GENE}_aln_trimmed.fasta\\n\"\n",
    "    out_cmd_file.write(cmd)\n",
    "out_cmd_file.close()\n"
   ]
  },
  {
   "cell_type": "markdown",
   "id": "79bd2ded-2b69-4bc6-b23a-355214e34ba5",
   "metadata": {},
   "source": [
    "Do some quick QC to get lengths of genes and # taxa (i.e. are duplicates present)."
   ]
  },
  {
   "cell_type": "code",
   "execution_count": null,
   "id": "176eba66-41a8-4e37-8512-97b2ec132279",
   "metadata": {
    "scrolled": true
   },
   "outputs": [],
   "source": [
    "%%bash\n",
    "ls phylo/seqs/*trimmed*fasta | sed \"s/^/samtools faidx /g\" | parallel --progress --jobs 64"
   ]
  },
  {
   "cell_type": "code",
   "execution_count": 92,
   "id": "78295320-e08e-4da1-a22c-09bb413ffd5c",
   "metadata": {},
   "outputs": [],
   "source": [
    "%%R\n",
    "fs = list.files('phylo/seqs/',pattern = '*.trimmed.*.fai.*', full.names = T)\n",
    "FAIread = function(PATH){\n",
    "    fai = \n",
    "        fread(PATH) %>% \n",
    "        mutate(source = basename(PATH) %>% gsub('_trimmed.fasta.fai','',.)) %>% \n",
    "        mutate(GENE = gsub('_.*','',source), type = gsub('.*_','',source)) %>%\n",
    "        set_colnames(c('species','length','total','a','b','source','GENE','type'))\n",
    "    return(fai)     \n",
    "}\n",
    "stats = bind_rows(lapply(fs,FAIread))\n",
    "\n",
    "stats %>%\n",
    "    filter(type == '4f') %>%\n",
    "    filter(length > 300) %>%\n",
    "    group_by(GENE) %>%\n",
    "    summarize(count = n()) %>%\n",
    "    filter(count == 7) %>%\n",
    "    ungroup %>%\n",
    "    dplyr::select(GENE) %>%\n",
    "    distinct %>%\n",
    "    fwrite('phylo/4f_good_genes.txt')\n",
    "\n",
    "stats %>%\n",
    "    filter(type == 'aln') %>%\n",
    "    filter(length > 900) %>%\n",
    "    group_by(GENE) %>%\n",
    "    summarize(count = n()) %>%\n",
    "    filter(count == 7) %>%\n",
    "    ungroup %>%\n",
    "    dplyr::select(GENE) %>%\n",
    "    distinct %>%\n",
    "    fwrite('phylo/aln_good_genes.txt')"
   ]
  },
  {
   "cell_type": "markdown",
   "id": "3671d9f2-be87-48f6-b922-fc9d1cb50d6d",
   "metadata": {},
   "source": [
    "Concatenate with seqkit. Before I do this, I need to make sure that all sequences in an alignment have the same length. In theory they should be, but somehow that's not occurring because of duplicate species."
   ]
  },
  {
   "cell_type": "code",
   "execution_count": 224,
   "id": "ff29600e-0ab9-4777-84b6-b08f90bd04c6",
   "metadata": {},
   "outputs": [],
   "source": [
    "%%capture\n",
    "import pandas as pd\n",
    "import subprocess\n",
    "!mkdir -p phylo/keep/\n",
    "genes = list(set(pd.read_csv('phylo/busco_keep.txt',sep=\"\\t\",header=None)[5].to_list()))\n",
    "for GENE in genes:\n",
    "    lengths = pd.read_csv(f\"phylo/seqs/{GENE}_4f_trimmed.fasta.fai\",sep=\"\\t\",header=None)[1].to_list()\n",
    "    seqs = subprocess.run(f\"grep -c '>' phylo/seqs/{GENE}_4f_trimmed.fasta \", shell = True, stdout=subprocess.PIPE)\n",
    "    if seqs.stdout.strip().decode() == '7':\n",
    "        if len(set(lengths)) == 1:\n",
    "            cp = subprocess.run(f\"cp phylo/seqs/{GENE}_4f_trimmed.fasta phylo/keep/ \", shell = True, stdout=subprocess.PIPE)\n",
    "cmd = \"seqkit concat phylo/keep/*fasta > phylo/all_4f.fasta;samtools faidx phylo/all_4f.fasta\"\n",
    "!$cmd "
   ]
  },
  {
   "cell_type": "markdown",
   "id": "262587fc-c4b3-426b-bb24-10962a0a862c",
   "metadata": {},
   "source": [
    "Now, pipe in alignment to iqtree"
   ]
  },
  {
   "cell_type": "code",
   "execution_count": 229,
   "id": "80227e77-7b21-4cf8-a460-d7f0f8d76351",
   "metadata": {},
   "outputs": [
    {
     "name": "stdout",
     "output_type": "stream",
     "text": [
      "Submitted batch job 3860668\n"
     ]
    }
   ],
   "source": [
    "cmd = ('''iqtree -s phylo/all_4f.fasta -bb 1000 -bnni -m MFP -nt 16 ''')\n",
    "slurm = make_slurm(run = False, p = 'long', id = \"iqtree\", cmd_string = cmd, mem = '40000', time = '24:00:00', c = 16)"
   ]
  },
  {
   "cell_type": "markdown",
   "id": "b80d53ff-deee-4b22-9268-05d8a5fd1d6b",
   "metadata": {},
   "source": [
    "## Results"
   ]
  },
  {
   "cell_type": "code",
   "execution_count": 21,
   "id": "24aca7bf-b26d-42b2-b743-96a9da5ed2de",
   "metadata": {},
   "outputs": [
    {
     "data": {
      "image/png": "[encoded data removed]",
      "text/plain": [
       "<IPython.core.display.Image object>"
      ]
     },
     "metadata": {},
     "output_type": "display_data"
    }
   ],
   "source": [
    "%%R\n",
    "library(ggtree)\n",
    "library(ape)\n",
    "library(phytools)\n",
    "tr = read.tree('phylo/all_4f.fasta.treefile')\n",
    "tr = phytools::midpoint.root(tr,'magus')\n",
    "p = \n",
    "    ggtree(tr) +\n",
    "    geom_tiplab() +\n",
    "    geom_nodelab()\n",
    "print(p)\n",
    "tr$edge.length = NULL\n",
    "tr$node.label = NULL\n",
    "write.tree(tr,'BPP/cladogram.nwk')"
   ]
  },
  {
   "cell_type": "markdown",
   "id": "658177c0-acb6-4a8e-8aa4-570565814ce8",
   "metadata": {},
   "source": [
    "# Divergence time estimation"
   ]
  },
  {
   "cell_type": "markdown",
   "id": "2e3c56f1-2303-4c2c-9e69-efa732d6e591",
   "metadata": {},
   "source": [
    "## Clock-like genes"
   ]
  },
  {
   "cell_type": "markdown",
   "id": "4a84efc1-a8a2-4e7d-a240-8b8e576e6364",
   "metadata": {},
   "source": [
    "Full genes"
   ]
  },
  {
   "cell_type": "code",
   "execution_count": 7,
   "id": "572dee3b-58c4-4d65-bb15-732307eabdcb",
   "metadata": {},
   "outputs": [],
   "source": [
    "genes = []\n",
    "with open('phylo/aln_good_genes.txt','r') as infile:\n",
    "    for line in infile:\n",
    "        line = line.strip('\\n')\n",
    "        genes.append(line)\n",
    "infile.close()\n",
    "\n",
    "parfile = open(f\"cmds/convert.txt\",'w')\n",
    "for GENE in genes:\n",
    "    outfile = open(f\"cmds/{GENE}.convert.sh\", 'w')\n",
    "    cmd = ('''\n",
    "#!/bin/bash\n",
    "sed \"s/40583at8782/{GENE}/g\" clock/template_nucleotide_single.xml > clock/{GENE}_aln.xml\n",
    "seqkit seq -w 0 phylo/seqs/{GENE}_aln_trimmed.fasta | grep \">\" | sed \"s/>//g\" > clock/input/{GENE}_aln.list\n",
    "paste -d\"\\\\0\" <(sed 's|^|\\\\t<sequence id=\"seq_|;s|$|\" spec=\"Sequence\" taxon=\"|' clock/input/{GENE}_aln.list) <(cat clock/input/{GENE}_aln.list) <(seqkit seq -w 0 phylo/seqs/{GENE}_aln_trimmed.fasta | grep -v \">\" | sed 's|^|\" totalcount=\"4\" value=\"|g;s|$|\"/>|') > clock/input/{GENE}_aln.insert\n",
    "cat <(head -n 5 clock/{GENE}_aln.xml) clock/input/{GENE}_aln.insert <(sed -n '21,$p' clock/{GENE}_aln.xml) > clock/input/{GENE}_aln_ready.xml\n",
    "sed -i \"s|fileName=\\\\\"|fileName=\\\\\"clock/output/|\" clock/input/{GENE}_aln_ready.xml\n",
    "''').format(GENE = GENE)\n",
    "    outfile.write(cmd)\n",
    "    outfile.close()\n",
    "    parfile.write(f\"bash cmds/{GENE}.convert.sh\\n\")\n",
    "parfile.close()"
   ]
  },
  {
   "cell_type": "markdown",
   "id": "2abdf19f-eb73-45c0-8532-a999e5ffb1c5",
   "metadata": {},
   "source": [
    "Execute clock commands with BEAST"
   ]
  },
  {
   "cell_type": "code",
   "execution_count": 6,
   "id": "0b799e0a-7974-4212-9ae5-848f607bf92c",
   "metadata": {},
   "outputs": [],
   "source": [
    "outfile = open('cmds/clock.txt','w')\n",
    "\n",
    "# Full gene\n",
    "genes = list(set(pd.read_csv('phylo/aln_good_genes.txt',sep=\"\\t\",header=None)[0].to_list()))\n",
    "for GENE in genes:\n",
    "    cmd = f\"/private/groups/shapirolab/brock/Software/beast/bin/beast -overwrite -statefile clock/output/{GENE}_aln.state clock/input/{GENE}_aln_ready.xml\\n\"\n",
    "    outfile.write(cmd)\n",
    "\n",
    "outfile.close()"
   ]
  },
  {
   "cell_type": "markdown",
   "id": "f24ff296-d2a7-4508-b32c-6e00b26f5ce5",
   "metadata": {},
   "source": [
    "Analyze results"
   ]
  },
  {
   "cell_type": "code",
   "execution_count": 12,
   "id": "17a0819d-1871-48db-a167-e4323f33f013",
   "metadata": {},
   "outputs": [],
   "source": [
    "outfile = open('cmds/log.txt','w')\n",
    "\n",
    "# Full gene\n",
    "genes = list(set(pd.read_csv('phylo/aln_good_genes.txt',sep=\"\\t\",header=None)[0].to_list()))\n",
    "for GENE in genes:\n",
    "    cmd = f\"/private/groups/shapirolab/brock/Software/beast/bin/loganalyser clock/output/{GENE}_aln_trimmed.log > clock/output/{GENE}_aln_trimmed_summary.txt\\n\"\n",
    "    outfile.write(cmd)\n",
    "\n",
    "outfile.close()"
   ]
  },
  {
   "cell_type": "markdown",
   "id": "686964f4-9a1b-4674-b169-8bbdc15b050e",
   "metadata": {},
   "source": [
    "Read and summarize"
   ]
  },
  {
   "cell_type": "code",
   "execution_count": 13,
   "id": "40829272-65c0-4f31-8d05-e4c01c5441bf",
   "metadata": {},
   "outputs": [],
   "source": [
    "%%R\n",
    "library(data.table)\n",
    "library(magrittr)\n",
    "library(tidyverse)\n",
    "library(ggplot2)\n",
    "fs = list.files('clock/output/',pattern='summary', full.names = T)\n",
    "logs = list()\n",
    "i = 0\n",
    "for (PATH in fs){\n",
    "    i = i + 1\n",
    "    df = fread(PATH)\n",
    "    if (nrow(df) != 0){\n",
    "        logs[[i]] = df %>% mutate(gene=basename(PATH) %>% gsub(\"_aln_trimmed_summary.txt\",\"\",.)) %>% mutate(across(!c(item,gene),~as.numeric(.)))\n",
    "    }\n",
    "}\n",
    "logs = bind_rows(logs) "
   ]
  },
  {
   "cell_type": "code",
   "execution_count": 22,
   "id": "c26e72b4-5a21-49f4-8e39-29b6280c6b42",
   "metadata": {},
   "outputs": [
    {
     "name": "stdout",
     "output_type": "stream",
     "text": [
      "[1] 2493\n"
     ]
    }
   ],
   "source": [
    "%%R\n",
    "logs %>% pull(gene) %>% unique %>% length"
   ]
  },
  {
   "cell_type": "code",
   "execution_count": 32,
   "id": "964c23a8-b7a4-4279-bbd4-d81235d36d64",
   "metadata": {},
   "outputs": [
    {
     "name": "stdout",
     "output_type": "stream",
     "text": [
      "[1] 393\n"
     ]
    }
   ],
   "source": [
    "%%R\n",
    "ESS_stable = \n",
    "    logs %>%\n",
    "    group_by(gene) %>%\n",
    "    filter((item == 'posterior' & ESS >=100) | (item == 'rate.coefficientOfVariation' & ESS >=100)) %>%\n",
    "    summarize(count = n()) %>%\n",
    "    filter(count == 2) %>%\n",
    "    ungroup() %>%\n",
    "    pull(gene)\n",
    "\n",
    "clocklike = \n",
    "    logs %>%\n",
    "    filter(gene %in% ESS_stable) %>% \n",
    "    group_by(gene) %>%\n",
    "    filter(item == 'rate.coefficientOfVariation') %>% \n",
    "    filter(mean <= 0.50,`95%HPDlo` <= 0.10, `95%HPDup` < 1) \n",
    "\n",
    "print(nrow(clocklike))\n",
    "fwrite(clocklike %>% dplyr::select(gene),'clock_like_genes.txt',col.names=F)"
   ]
  },
  {
   "cell_type": "markdown",
   "id": "afb4efea-c47f-431e-a7c8-aabc7ba29bef",
   "metadata": {},
   "source": [
    "## BPP"
   ]
  },
  {
   "cell_type": "markdown",
   "id": "05e4b4fe-dc8f-4e36-bebe-2501436d84fe",
   "metadata": {},
   "source": [
    "Prepare partitioned sequence input<br>\n",
    "**Important**: For BPP, sequence IDs in the resulting phylip need to be formatted as {seq}^{species}. I do this to with awk/sed on the fasta file on-the-fly while piping it into the phylip converter."
   ]
  },
  {
   "cell_type": "code",
   "execution_count": 34,
   "id": "b5b13dce-f4db-4075-b476-77066c33e85c",
   "metadata": {},
   "outputs": [],
   "source": [
    "##\n",
    "genes = list(set(pd.read_csv('clock_like_genes.txt',sep=\"\\t\",header=None)[0].to_list()))\n",
    "## Shuffle\n",
    "from random import sample\n",
    "subset = sample(genes, len(genes))\n",
    "\n",
    "\n",
    "## Create directory with input loci\n",
    "!mkdir -p BPP BPP/input\n",
    "!rm -f BPP/input/*\n",
    "for GENE in subset:\n",
    "    cmd = ('''/private/groups/shapirolab/brock/Software/catfasta2phyml.pl -v -s '''\n",
    "           '''<(awk '/>/ {{$0 = $0\"^\"$0}} 1' phylo/seqs/{GENE}_aln_trimmed.fasta | sed \"s/>//2\") > BPP/input/{GENE}.phy 2> stderr; '''\n",
    "           '''''').format(GENE = GENE)\n",
    "    !$cmd\n",
    "\n",
    "## Combine all genes into one file\n",
    "catcmd = 'cat BPP/input/*phy > BPP/subset.phy '\n",
    "!$catcmd\n",
    "\n"
   ]
  },
  {
   "cell_type": "markdown",
   "id": "ba7e9110-d7fb-497c-bae0-de83442761cc",
   "metadata": {},
   "source": [
    "Prepare IMAP file"
   ]
  },
  {
   "cell_type": "code",
   "execution_count": 35,
   "id": "a1c23260-65c5-4058-bcec-2b585407dd31",
   "metadata": {},
   "outputs": [],
   "source": [
    "%%bash\n",
    "cat << EOF > BPP/species.imap\n",
    "asinina asinina\n",
    "cracherodii cracherodii\n",
    "laevigata laevigata\n",
    "magus magus\n",
    "rubra rubra\n",
    "rufescens rufescens\n",
    "sorenseni sorenseni\n",
    "EOF"
   ]
  },
  {
   "cell_type": "markdown",
   "id": "b237925f-5811-4d31-a04a-41138bd430e8",
   "metadata": {},
   "source": [
    "Prepare control file"
   ]
  },
  {
   "cell_type": "code",
   "execution_count": 37,
   "id": "a4b78200-bcef-4fca-a943-1f7e13614663",
   "metadata": {},
   "outputs": [],
   "source": [
    "%%bash\n",
    "cat << EOF > BPP/main.ctl\n",
    "    seed =  -1\n",
    "    \n",
    "    seqfile = BPP/subset.phy\n",
    "    Imapfile = BPP/species.imap\n",
    "    outfile = BPP/main_out.txt\n",
    "    mcmcfile = BPP/main_mcmc.txt\n",
    "    \n",
    "    # fixed number of species/populations \n",
    "    speciesdelimitation = 0\n",
    "    \n",
    "    # fixed species tree\n",
    "    speciestree = 0\n",
    "    \n",
    "    species&tree = 7 asinina cracherodii laevigata magus rubra rufescens sorenseni\n",
    "                      1 1 1 1 1 1 1\n",
    "                     (((asinina,(laevigata,rubra)),(cracherodii,(rufescens,sorenseni))),magus);\n",
    "    \n",
    "    # unphased data for all 7 species\n",
    "    phase =   0 0 0 0 0 0 0\n",
    "    \n",
    "    # use sequence likelihood\n",
    "    usedata = 1\n",
    "\n",
    "    # Take the first 50 genes even though the partition has more\n",
    "    nloci = 150\n",
    "    \n",
    "    # do not remove sites with ambiguity data\n",
    "    cleandata = 0\n",
    "\n",
    "    thetamodel = linked-all\n",
    "    thetaprior = 3 0.01 # gamma(a, b) for theta (estimate theta)\n",
    "    tauprior = 3 0.01\n",
    "\n",
    "    locusrate = 1 0 0 5 iid\n",
    "    clock = 1\n",
    "\n",
    "    # Step proposals\n",
    "    finetune = 1: .01 .02 .003 .004 .05 .01 .01 # auto (0 or 1): MCMC step lengths\n",
    "    \n",
    "    # MCMC samples, locusrate, heredityscalars, Genetrees\n",
    "    print = 1 0 0 0   * \n",
    "    burnin = 16000\n",
    "    sampfreq = 2\n",
    "    nsample = 200000\n",
    "EOF"
   ]
  },
  {
   "cell_type": "markdown",
   "id": "dd676fa9-de1b-4087-91a4-8e9aa96fbbc6",
   "metadata": {},
   "source": [
    "Command to run"
   ]
  },
  {
   "cell_type": "code",
   "execution_count": 38,
   "id": "130b483a-98e5-462f-8895-be5c82277e70",
   "metadata": {},
   "outputs": [
    {
     "name": "stdout",
     "output_type": "stream",
     "text": [
      "/private/groups/shapirolab/brock/Software/bpp-4.7.0-linux-x86_64/bin/bpp --cfile BPP/main.ctl\n"
     ]
    }
   ],
   "source": [
    "cmd = \"/private/groups/shapirolab/brock/Software/bpp-4.7.0-linux-x86_64/bin/bpp --cfile BPP/main.ctl\"\n",
    "print(cmd)"
   ]
  },
  {
   "cell_type": "markdown",
   "id": "8254f8a5-c81d-4341-a353-a8eac0aaa3ab",
   "metadata": {},
   "source": [
    "### Results"
   ]
  },
  {
   "cell_type": "markdown",
   "id": "3ad2943f-afc6-42eb-9153-ac3115a93366",
   "metadata": {},
   "source": [
    "First, calculate branch rate. This is ripped from the bppr source code"
   ]
  },
  {
   "cell_type": "code",
   "execution_count": 94,
   "id": "a08ae47f-0b70-456f-bf67-8616b3679594",
   "metadata": {},
   "outputs": [
    {
     "name": "stdout",
     "output_type": "stream",
     "text": [
      "[1] 1.418353e-09\n"
     ]
    }
   ],
   "source": [
    "%%R\n",
    "cur = treeio::read.mcmctree('BPP/FigTree_r1.tre')\n",
    "mcmc = fread('BPP/main_mcmc_r1.txt')\n",
    "n <- nrow(mcmc[,1])\n",
    "\n",
    "u.mean = 8.60e-09\n",
    "u.sd = 3.26e-9\n",
    "g.mean = 6\n",
    "g.sd = 2\n",
    "\n",
    "u.a <- u.mean^2 / u.sd^2\n",
    "u.b <- u.mean / u.sd^2\n",
    "g.a <- g.mean^2 / g.sd^2\n",
    "g.b <- g.mean / g.sd^2\n",
    "\n",
    "# obtain random samples of u and g from gamma distribution\n",
    "u <- rgamma(n, u.a, u.b)\n",
    "g <- rgamma(n, g.a, g.b)\n",
    "rate <- u / g\n",
    "rate = median(rate)\n",
    "print(rate)"
   ]
  },
  {
   "cell_type": "markdown",
   "id": "e2a761ca-c831-45d4-b1f5-b7db685a6cf0",
   "metadata": {},
   "source": [
    "Look at a tree with just the node heights"
   ]
  },
  {
   "cell_type": "markdown",
   "id": "968946fc-36ca-489e-939d-f408d15dd3e8",
   "metadata": {},
   "source": [
    "### Figure 3 Panel A"
   ]
  },
  {
   "cell_type": "code",
   "execution_count": 102,
   "id": "47e99bce-3fd0-477a-9343-9dabcba98ccb",
   "metadata": {},
   "outputs": [
    {
     "name": "stdout",
     "output_type": "stream",
     "text": [
      "[1]  3.977852 19.864585  2.229346  4.298647 36.364706 86.864112\n"
     ]
    },
    {
     "data": {
      "image/png": "[encoded data removed]",
      "text/plain": [
       "<IPython.core.display.Image object>"
      ]
     },
     "metadata": {},
     "output_type": "display_data"
    }
   ],
   "source": [
    "%%R -w 600 -h 300\n",
    "library(ggtree)\n",
    "library(deeptime)\n",
    "library(phytools)\n",
    "\n",
    "## Transformations\n",
    "cur = treeio::read.mcmctree('BPP/FigTree_r1.tre')\n",
    "cur@data$reltime = cur@data$reltime/(rate*1e6)\n",
    "cur@phylo$edge.length = cur@phylo$edge.length/(rate*1e6)\n",
    "cur@data$height_0.95_HPD = lapply(cur@data$height_0.95_HPD, function(pair){sapply(pair,function(BOUND){as.numeric(BOUND)/(rate*1e6)})})\n",
    "print(cur@data$reltime)\n",
    "\n",
    "## Plotting\n",
    "p = ggtree(cur, size = 1) +\n",
    "    theme_tree2() +\n",
    "    theme(panel.grid.major.x = element_line(size = 1), panel.grid.minor.x = element_line(size = 1)) +\n",
    "    geom_tiplab() +\n",
    "    ggtree::geom_range('height_0.95_HPD', color='navy', alpha=.6, size=4)\n",
    "\n",
    "\n",
    "timevec = c(100,95,90,85,80,75,70,65,60,55,50,45,40,35,30,25,20,15,10,5,0)\n",
    "scaled_timevec = timevec*-1\n",
    "\n",
    "p = revts(p) +\n",
    "    coord_geo(neg = TRUE, xlim = c(-50,10), ylim = c(-1, Ntip(cur) + 1),\n",
    "              pos = as.list(rep(\"bottom\", 2)),\n",
    "              dat = list('epochs','periods'), \n",
    "              height = list(unit(1, \"lines\"), unit(1, \"lines\")), center_end_labels = TRUE) +\n",
    "    scale_x_continuous(breaks = scaled_timevec, labels = timevec) #+\n",
    "    #coord_cartesian(clip = \"off\") +\n",
    "print(p)\n",
    "\n",
    "ggsave('mutation_figs/haliotis_tree.pdf',p,width = 6, height = 3)"
   ]
  }
 ],
 "metadata": {
  "kernelspec": {
   "display_name": "doom",
   "language": "python",
   "name": "myenv"
  },
  "language_info": {
   "codemirror_mode": {
    "name": "ipython",
    "version": 3
   },
   "file_extension": ".py",
   "mimetype": "text/x-python",
   "name": "python",
   "nbconvert_exporter": "python",
   "pygments_lexer": "ipython3",
   "version": "3.12.3"
  }
 },
 "nbformat": 4,
 "nbformat_minor": 5
}
